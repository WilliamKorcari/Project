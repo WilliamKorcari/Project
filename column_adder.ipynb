{
 "cells": [
  {
   "cell_type": "code",
   "execution_count": 7,
   "metadata": {},
   "outputs": [],
   "source": [
    "import csv\n",
    "reader = csv.reader(open('signal_bbA_MA300tree.csv', 'r'))\n",
    "writer = csv.writer(open('signal_.csv.csv', 'w'))\n"
   ]
  },
  {
   "cell_type": "code",
   "execution_count": 8,
   "metadata": {},
   "outputs": [
    {
     "data": {
      "text/plain": [
       "['\\ufeffUnnamed: 0',\n",
       " \"b'dimuon_deltar'\",\n",
       " \"b'dimuon_deltaphi'\",\n",
       " \"b'dimuon_deltaeta'\",\n",
       " \"b'PU_Weight'\",\n",
       " \"b'Met_Pt'\",\n",
       " \"b'btag_jet'\",\n",
       " \"b'no_btag_jet'\",\n",
       " \"b'bjet_pt'\",\n",
       " \"b'bjet_eta'\",\n",
       " \"b'btag_jet_over2.4'\",\n",
       " \"b'delta_R_bjet_dimuon'\",\n",
       " \"b'delta_pt_mupair_1bjet'\",\n",
       " \"b'delta_eta_mupair_1bjet'\",\n",
       " 'Label']"
      ]
     },
     "execution_count": 8,
     "metadata": {},
     "output_type": "execute_result"
    }
   ],
   "source": [
    "headers = next(reader)\n",
    "headers.append(\"label\")\n",
    "headers"
   ]
  },
  {
   "cell_type": "code",
   "execution_count": 9,
   "metadata": {},
   "outputs": [],
   "source": [
    "writer.writerow(headers)\n",
    "for row in reader:\n",
    "    row.append(\"signal\")\n",
    "    writer.writerow(row)"
   ]
  },
  {
   "cell_type": "code",
   "execution_count": null,
   "metadata": {},
   "outputs": [],
   "source": []
  }
 ],
 "metadata": {
  "kernelspec": {
   "display_name": "Python 2",
   "language": "python",
   "name": "python2"
  },
  "language_info": {
   "codemirror_mode": {
    "name": "ipython",
    "version": 3
   },
   "file_extension": ".py",
   "mimetype": "text/x-python",
   "name": "python",
   "nbconvert_exporter": "python",
   "pygments_lexer": "ipython3",
   "version": "3.7.3"
  }
 },
 "nbformat": 4,
 "nbformat_minor": 2
}
