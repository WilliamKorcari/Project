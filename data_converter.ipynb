{
 "cells": [
  {
   "cell_type": "code",
   "execution_count": 2,
   "metadata": {},
   "outputs": [],
   "source": [
    "import numpy as np\n",
    "import pandas as pd\n",
    "import uproot\n",
    "import csv\n",
    "import os\n",
    "import glob\n",
    "#import doctest\n",
    "#doctest.testmod(verbose=True)"
   ]
  },
  {
   "cell_type": "markdown",
   "metadata": {},
   "source": [
    "#### Choose file to work with:"
   ]
  },
  {
   "cell_type": "code",
   "execution_count": 3,
   "metadata": {},
   "outputs": [],
   "source": [
    "def get_file_name(fname = \"analysis.root\"):\n",
    "    \n",
    "    file_name = fname\n",
    "    if file_name is not '' and file_name.endswith('.root'):\n",
    "        if os.path.isfile(file_name):\n",
    "            return file_name\n",
    "        else:\n",
    "            print('\\n No such file... Try again. \\n')\n",
    "            get_file_name()\n",
    "    else:\n",
    "        print (\"\\n No input or wrong file format given... Try again. \\n\")\n",
    "        get_file_name()\n",
    "        \n"
   ]
  },
  {
   "cell_type": "code",
   "execution_count": 4,
   "metadata": {},
   "outputs": [],
   "source": [
    "def test_get_file_name():\n",
    "    pass"
   ]
  },
  {
   "cell_type": "markdown",
   "metadata": {},
   "source": [
    "#### Get the names of all the trees in the file"
   ]
  },
  {
   "cell_type": "code",
   "execution_count": 5,
   "metadata": {},
   "outputs": [],
   "source": [
    "def get_tree_names(f_name):\n",
    "    \n",
    "    try:\n",
    "        f = uproot.open(f_name)\n",
    "        trees = f.keys()\n",
    "        tree_names=[]\n",
    "\n",
    "        print(\"\\n Tree names successfully stored. They are: \\n\")\n",
    "        for tree in trees:\n",
    "            tree = str(tree)\n",
    "            tree = tree[2:len(tree)-3]\n",
    "            tree_names.append(tree)\n",
    "            print(tree)\n",
    "            print('\\n')\n",
    "            \n",
    "        return tree_names\n",
    "\n",
    "    except:\n",
    "        print (\"\\n ERROR: Trees not found. Check your file before continuing...\\n\")\n",
    "\n"
   ]
  },
  {
   "cell_type": "code",
   "execution_count": 6,
   "metadata": {},
   "outputs": [],
   "source": [
    "def test_get_tree_names():\n",
    "    pass\n",
    "    "
   ]
  },
  {
   "cell_type": "markdown",
   "metadata": {},
   "source": [
    "#### Unrolling the trees and writing them in separate files"
   ]
  },
  {
   "cell_type": "code",
   "execution_count": 7,
   "metadata": {},
   "outputs": [],
   "source": [
    "def unroll_tree(file_name, ttree, of_name):\n",
    "    files_out= [] \n",
    "    data = uproot.open(file_name)[ttree]\n",
    "    names = data.keys()\n",
    "\n",
    "    #data.arrays(names)\n",
    "    out = pd.DataFrame.from_dict(data.arrays(names), dtype= str)\n",
    "    out.to_csv(of_name)\n",
    "    files_out.append(of_name)\n",
    "    print ('\\nCreated csv file ' + of_name)"
   ]
  },
  {
   "cell_type": "code",
   "execution_count": 81,
   "metadata": {
    "scrolled": false
   },
   "outputs": [],
   "source": [
    "def root_tree_to_csv(file, overwrite = False):\n",
    "    fname = file\n",
    "    woods = get_tree_names(fname)\n",
    "    files_out = []\n",
    "    \n",
    "    for tree in woods:    \n",
    "        out_file_name = tree + '.csv'\n",
    "        files_out.append(out_file_name)\n",
    "        \n",
    "        if os.path.isfile(out_file_name):\n",
    "            if overwrite:\n",
    "                print (\"\\nOverwriting tree {} in file {}\".format(tree, fname))\n",
    "                unroll_tree(fname, tree, out_file_name)                \n",
    "            else:\n",
    "                print( out_file_name + \" already exist and will not be overwritten...\")\n",
    "                \n",
    "        else: \n",
    "            print (\"\\nWriting tree {} in file {}\".format(tree, fname))\n",
    "            unroll_tree(fname, tree, out_file_name)\n",
    "        \n",
    "    return files_out"
   ]
  },
  {
   "cell_type": "markdown",
   "metadata": {},
   "source": [
    "#### Adding 'label' column\n"
   ]
  },
  {
   "cell_type": "code",
   "execution_count": 18,
   "metadata": {},
   "outputs": [],
   "source": [
    "def label_column_writer(infile, outfile, fsignal = \"signal_bbA_MA300tree.csv\"):\n",
    "    reader = csv.reader(open(infile, 'r'))\n",
    "    writer = csv.writer(open(outfile, 'w'))\n",
    "    headers = next(reader)\n",
    "    headers.append(\"label\")\n",
    "\n",
    "    writer.writerow(headers)\n",
    "    \n",
    "    for row in reader:\n",
    "        if infile == fsignal:\n",
    "            row.append(\"signal\")\n",
    "            writer.writerow(row)\n",
    "        else:\n",
    "            row.append(\"background\")\n",
    "            writer.writerow(row)"
   ]
  },
  {
   "cell_type": "markdown",
   "metadata": {},
   "source": [
    "def select_files():\n",
    "    allfiles = [f for f in glob.glob('*.{}'.format('csv'))]\n",
    "    files_to_modify = []\n",
    "\n",
    "    #select files to modify\n",
    "    for f in allfiles:\n",
    "        answer = input('\\nDo you want to add label column to the file \"{}\"? y or n'.format(f))\n",
    "        if answer is 'y':\n",
    "            files_to_modify.append(f)\n",
    "        else:\n",
    "            continue             \n",
    "    return files_to_modify"
   ]
  },
  {
   "cell_type": "code",
   "execution_count": 85,
   "metadata": {},
   "outputs": [],
   "source": [
    "def add_label_column(f_to_modify = [], overwrite = False):\n",
    "    try:\n",
    "        files = f_to_modify\n",
    "        out_files = []\n",
    "        print(\"The following files will be modified: \\n\")\n",
    "        print (files)\n",
    "        print('\\n')\n",
    "        if len(files) is not 0:\n",
    "            for file in files:\n",
    "                out_file = \"l_\"+ file\n",
    "                out_files.append(out_file)\n",
    "                if os.path.isfile(out_file):\n",
    "                    if overwrite:\n",
    "                        print( \"\\nOverwriting \" + out_file) \n",
    "                        label_column_writer(file, out_file)\n",
    "                    else: \n",
    "                        print( out_file + \" already exist and will not be overwritten..\\n\")\n",
    "                else:\n",
    "                    print( \"\\nWriting \" + out_file)\n",
    "                    label_column_writer(file, out_file)\n",
    "        return out_files\n",
    "    except:\n",
    "        print('\\n ERROR: No or invalid csv file found... \\n')"
   ]
  },
  {
   "cell_type": "markdown",
   "metadata": {},
   "source": [
    "#### merging files"
   ]
  },
  {
   "cell_type": "code",
   "execution_count": 89,
   "metadata": {},
   "outputs": [],
   "source": [
    "def file_merger(infile_names, outfile_name, overwrite = False):\n",
    "    \n",
    "    file_out_name = outfile_name\n",
    "    infiles = infile_names\n",
    "    if not file_out_name.endswith('.csv'):\n",
    "        file_out_name = file_out_name + \".csv\"\n",
    "    try:\n",
    "        if os.path.isfile(file_out_name):\n",
    "            if not overwrite: \n",
    "                print( file_out_name + \" already exist and will not be overwritten...\\n\")\n",
    "        \n",
    "        \n",
    "        \n",
    "            if overwrite:\n",
    "                \n",
    "                print(\"Overwriting already existing file \" + file_out_name)\n",
    "                \n",
    "                all_filenames = [f for f in infile]\n",
    "                combined_csv = pd.concat([pd.read_csv(f) for f in all_filenames ], sort = False)\n",
    "                \n",
    "                \n",
    "                combined_csv.to_csv( file_out_name, index=False, encoding='utf-8-sig')\n",
    "        else:\n",
    "            print('Writing {} file'.format(file_out_name))\n",
    "            all_filenames = [f for f in glob.glob('l_*')]\n",
    "            combined_csv = pd.concat([pd.read_csv(f) for f in all_filenames ], sort = False)\n",
    "            combined_csv.to_csv( file_out_name, index=False, encoding='utf-8-sig')\n",
    "    except:\n",
    "        print('\\n ERROR: No columns to parse from file...')"
   ]
  },
  {
   "cell_type": "code",
   "execution_count": null,
   "metadata": {},
   "outputs": [],
   "source": []
  },
  {
   "cell_type": "code",
   "execution_count": null,
   "metadata": {},
   "outputs": [],
   "source": []
  },
  {
   "cell_type": "code",
   "execution_count": 73,
   "metadata": {},
   "outputs": [],
   "source": [
    "FILE = get_file_name()\n"
   ]
  },
  {
   "cell_type": "code",
   "execution_count": 82,
   "metadata": {
    "scrolled": false
   },
   "outputs": [
    {
     "name": "stdout",
     "output_type": "stream",
     "text": [
      "\n",
      " Tree names successfully stored. They are: \n",
      "\n",
      "signal_bbA_MA300tree\n",
      "\n",
      "\n",
      "bkg_DY_nlo1tree\n",
      "\n",
      "\n",
      "bkg_ttbar_nlotree\n",
      "\n",
      "\n",
      "signal_bbA_MA300tree.csv already exist and will not be overwritten...\n",
      "bkg_DY_nlo1tree.csv already exist and will not be overwritten...\n",
      "bkg_ttbar_nlotree.csv already exist and will not be overwritten...\n"
     ]
    }
   ],
   "source": [
    "CSV_FILES = root_tree_to_csv(file = FILE)"
   ]
  },
  {
   "cell_type": "code",
   "execution_count": 86,
   "metadata": {
    "scrolled": false
   },
   "outputs": [
    {
     "name": "stdout",
     "output_type": "stream",
     "text": [
      "The following files will be modified: \n",
      "\n",
      "['signal_bbA_MA300tree.csv', 'bkg_DY_nlo1tree.csv', 'bkg_ttbar_nlotree.csv']\n",
      "\n",
      "\n",
      "l_signal_bbA_MA300tree.csv already exist and will not be overwritten..\n",
      "\n",
      "l_bkg_DY_nlo1tree.csv already exist and will not be overwritten..\n",
      "\n",
      "l_bkg_ttbar_nlotree.csv already exist and will not be overwritten..\n",
      "\n"
     ]
    }
   ],
   "source": [
    "L_CSV_FILES = add_label_column(CSV_FILES)"
   ]
  },
  {
   "cell_type": "code",
   "execution_count": 92,
   "metadata": {
    "scrolled": false
   },
   "outputs": [
    {
     "name": "stdout",
     "output_type": "stream",
     "text": [
      "analysis.csv already exist and will not be overwritten...\n",
      "\n"
     ]
    }
   ],
   "source": [
    "file_merger(infile_names= L_CSV_FILES, outfile_name=\"analysis.csv\")"
   ]
  },
  {
   "cell_type": "code",
   "execution_count": null,
   "metadata": {},
   "outputs": [],
   "source": []
  }
 ],
 "metadata": {
  "kernelspec": {
   "display_name": "Python 2",
   "language": "python",
   "name": "python2"
  },
  "language_info": {
   "codemirror_mode": {
    "name": "ipython",
    "version": 3
   },
   "file_extension": ".py",
   "mimetype": "text/x-python",
   "name": "python",
   "nbconvert_exporter": "python",
   "pygments_lexer": "ipython3",
   "version": "3.7.3"
  }
 },
 "nbformat": 4,
 "nbformat_minor": 2
}
