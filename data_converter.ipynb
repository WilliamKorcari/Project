{
 "cells": [
  {
   "cell_type": "code",
   "execution_count": 1,
   "metadata": {},
   "outputs": [],
   "source": [
    "import numpy as np\n",
    "import pandas as pd\n",
    "import uproot\n",
    "import csv\n",
    "import os\n",
    "import glob\n",
    "import unittest"
   ]
  },
  {
   "cell_type": "markdown",
   "metadata": {},
   "source": [
    "#### Choose file to work with:"
   ]
  },
  {
   "cell_type": "code",
   "execution_count": 2,
   "metadata": {},
   "outputs": [
    {
     "name": "stderr",
     "output_type": "stream",
     "text": [
      "<>:4: SyntaxWarning: \"is not\" with a literal. Did you mean \"!=\"?\n",
      "<>:4: SyntaxWarning: \"is not\" with a literal. Did you mean \"!=\"?\n",
      "<ipython-input-2-d567d833fa84>:4: SyntaxWarning: \"is not\" with a literal. Did you mean \"!=\"?\n",
      "  if file_name is not '' and file_name.endswith('.root'):\n"
     ]
    }
   ],
   "source": [
    "def get_file_name(fname = \"analysis.root\"):\n",
    "    \n",
    "    file_name = fname\n",
    "    if file_name is not '' and file_name.endswith('.root'):\n",
    "        if os.path.isfile(file_name):\n",
    "            return file_name\n",
    "        else:\n",
    "            print('\\n No such file... Try again. \\n')\n",
    "            get_file_name()\n",
    "    else:\n",
    "        print (\"\\n No input or wrong file format given... Try again. \\n\")\n",
    "        get_file_name()\n",
    "        \n"
   ]
  },
  {
   "cell_type": "markdown",
   "metadata": {},
   "source": [
    "#### Get the names of all the trees in the file"
   ]
  },
  {
   "cell_type": "code",
   "execution_count": 3,
   "metadata": {},
   "outputs": [],
   "source": [
    "def get_tree_names(f_name):\n",
    "    \n",
    "    try:\n",
    "        f = uproot.open(f_name)\n",
    "        trees = f.keys()\n",
    "        tree_names=[]\n",
    "\n",
    "        print(\"\\n Tree names successfully stored. They are: \\n\")\n",
    "        for tree in trees:\n",
    "            tree = str(tree)\n",
    "            tree = tree[2:len(tree)-3]\n",
    "            tree_names.append(tree)\n",
    "            print(tree)\n",
    "            print('\\n')\n",
    "            \n",
    "        return tree_names\n",
    "\n",
    "    except (ValueError, FileNotFoundError):\n",
    "        print (\"\\n ERROR: Trees or File not found. Check before continuing...\\n\")\n",
    "        raise\n"
   ]
  },
  {
   "cell_type": "markdown",
   "metadata": {},
   "source": [
    "#### Unrolling the trees and writing them in separate files"
   ]
  },
  {
   "cell_type": "code",
   "execution_count": 4,
   "metadata": {},
   "outputs": [],
   "source": [
    "def unroll_tree(file_name, ttree, of_name):\n",
    "    files_out= [] \n",
    "    data = uproot.open(file_name)[ttree]\n",
    "    names = data.keys()\n",
    "\n",
    "    try:\n",
    "        out = pd.DataFrame.from_dict(data.arrays(names), dtype= str)\n",
    "        out.to_csv(of_name)\n",
    "        files_out.append(of_name)\n",
    "        print ('\\nCreated csv file ' + of_name)\n",
    "    except (ValueError, FileNotFoundError):\n",
    "        raise"
   ]
  },
  {
   "cell_type": "code",
   "execution_count": 5,
   "metadata": {
    "scrolled": false
   },
   "outputs": [],
   "source": [
    "def root_tree_to_csv(file, overwrite = False):\n",
    "    try:\n",
    "        if not os.path.isfile(file):\n",
    "            raise FileNotFoundError\n",
    "\n",
    "        elif not file.endswith('.root'):\n",
    "            raise ValueError\n",
    "\n",
    "        fname = file\n",
    "        woods = get_tree_names(fname)\n",
    "        files_out = []\n",
    "\n",
    "        for tree in woods:    \n",
    "            out_file_name = tree + '.csv'\n",
    "            files_out.append(out_file_name)\n",
    "\n",
    "            if os.path.isfile(out_file_name):\n",
    "                if overwrite:\n",
    "                    print (\"\\nOverwriting tree {} in file {}\".format(tree, fname))\n",
    "                    unroll_tree(fname, tree, out_file_name)                \n",
    "                else:\n",
    "                    print( out_file_name + \" already exist and will not be overwritten...\")\n",
    "\n",
    "            else: \n",
    "                print (\"\\nWriting tree {} in file {}\".format(tree, fname))\n",
    "                unroll_tree(fname, tree, out_file_name)\n",
    "\n",
    "        return files_out\n",
    "    except:\n",
    "        print ('ERROR: No file or wrong file format...')\n",
    "        raise"
   ]
  },
  {
   "cell_type": "markdown",
   "metadata": {},
   "source": [
    "#### Adding 'label' column\n"
   ]
  },
  {
   "cell_type": "code",
   "execution_count": 6,
   "metadata": {},
   "outputs": [],
   "source": [
    "def label_column_writer(infile, outfile, fsignal = \"signal_bbA_MA300tree.csv\"):\n",
    "    if not infile.endswith('.csv') or not outfile.endswith('.csv'):\n",
    "        raise ValueError\n",
    "    reader = csv.reader(open(infile, 'r'))\n",
    "    writer = csv.writer(open(outfile, 'w'))\n",
    "    headers = next(reader)\n",
    "    headers.append(\"label\")\n",
    "\n",
    "    writer.writerow(headers)\n",
    "    \n",
    "    for row in reader:\n",
    "        if infile == fsignal:\n",
    "            row.append(\"signal\")\n",
    "            writer.writerow(row)\n",
    "        else:\n",
    "            row.append(\"background\")\n",
    "            writer.writerow(row)"
   ]
  },
  {
   "cell_type": "code",
   "execution_count": 7,
   "metadata": {},
   "outputs": [
    {
     "name": "stderr",
     "output_type": "stream",
     "text": [
      "<>:18: SyntaxWarning: \"is not\" with a literal. Did you mean \"!=\"?\n",
      "<>:18: SyntaxWarning: \"is not\" with a literal. Did you mean \"!=\"?\n",
      "<ipython-input-7-f4d569cd800a>:18: SyntaxWarning: \"is not\" with a literal. Did you mean \"!=\"?\n",
      "  if len(files) is not 0:\n"
     ]
    }
   ],
   "source": [
    "def add_label_column(f_to_modify = [], overwrite = False):\n",
    "    try:\n",
    "        if f_to_modify == []: \n",
    "            raise FileNotFoundError\n",
    "        \n",
    "        for file in f_to_modify:\n",
    "            if not os.path.isfile(file):\n",
    "                raise FileNotFoundError\n",
    "            elif not file.endswith('.csv'):\n",
    "                raise ValueError\n",
    "        \n",
    "        else:\n",
    "            files = f_to_modify\n",
    "            out_files = []\n",
    "            print(\"The following files will be modified: \\n\")\n",
    "            print (files)\n",
    "            print('\\n')\n",
    "            if len(files) is not 0:\n",
    "                for file in files:\n",
    "                    out_file = \"l_\"+ file\n",
    "                    out_files.append(out_file)\n",
    "                    if os.path.isfile(out_file):\n",
    "                        if overwrite:\n",
    "                            print( \"\\nOverwriting \" + out_file) \n",
    "                            label_column_writer(file, out_file)\n",
    "                        else: \n",
    "                            print( out_file + \" already exist and will not be overwritten..\\n\")\n",
    "                    else:\n",
    "                        print( \"\\nWriting \" + out_file)\n",
    "                        label_column_writer(file, out_file)\n",
    "            return out_files\n",
    "    except:\n",
    "        print('\\n ERROR: No or invalid csv file found... \\n')\n",
    "        raise"
   ]
  },
  {
   "cell_type": "markdown",
   "metadata": {},
   "source": [
    "#### merging files"
   ]
  },
  {
   "cell_type": "code",
   "execution_count": 8,
   "metadata": {},
   "outputs": [],
   "source": [
    "def file_merger(infile_names, outfile_name, overwrite = False):\n",
    "    \n",
    "    file_out_name = outfile_name\n",
    "    infiles = []\n",
    "    \n",
    "    for file in infile_names:\n",
    "        if os.path.isfile(file):\n",
    "            infiles.append(file)\n",
    "        else:\n",
    "            print (file)\n",
    "            raise FileNotFoundError\n",
    "        \n",
    "    if not file_out_name.endswith('.csv'):\n",
    "        file_out_name = file_out_name + \".csv\"\n",
    "        \n",
    "    try:\n",
    "        if os.path.isfile(file_out_name):\n",
    "            if not overwrite: \n",
    "                print( file_out_name + \" already exist and will not be overwritten...\\n\")\n",
    "        \n",
    "        \n",
    "        \n",
    "            if overwrite:\n",
    "                \n",
    "                print(\"Overwriting already existing file \" + file_out_name)\n",
    "                \n",
    "                all_filenames = [f for f in infiles]\n",
    "                combined_csv = pd.concat([pd.read_csv(f) for f in all_filenames ], sort = False)\n",
    "                \n",
    "                \n",
    "                combined_csv.to_csv( file_out_name, index=False, encoding='utf-8-sig')\n",
    "        else:\n",
    "            print('Writing {} file'.format(file_out_name))\n",
    "            all_filenames = [f for f in infiles]\n",
    "            combined_csv = pd.concat([pd.read_csv(f) for f in all_filenames ], sort = False)\n",
    "            combined_csv.to_csv( file_out_name, index=False, encoding='utf-8-sig')\n",
    "    except:\n",
    "        print('\\n ERROR: No columns to parse from file...')\n",
    "        raise"
   ]
  },
  {
   "cell_type": "code",
   "execution_count": 9,
   "metadata": {},
   "outputs": [],
   "source": [
    "def main(file_name, label = True, out_f_name = 'analysis.csv', overwrite_trees = False, overwrite_csv = False):\n",
    "    f = get_file_name(file_name)\n",
    "    if label:\n",
    "        csv_files = add_label_column(root_tree_to_csv(file = f, overwrite = overwrite_trees))\n",
    "    else:\n",
    "        csv_files = root_tree_to_csv(file = f, overwrite = overwrite_trees)\n",
    "    for element in csv_files:\n",
    "        print('Created' + element)\n",
    "    \n",
    "    file_merger(infile_names= csv_files, outfile_name = out_f_name, overwrite = overwrite_csv)"
   ]
  },
  {
   "cell_type": "code",
   "execution_count": 62,
   "metadata": {},
   "outputs": [
    {
     "name": "stdout",
     "output_type": "stream",
     "text": [
      "\n",
      " Tree names successfully stored. They are: \n",
      "\n",
      "signal_bbA_MA300tree\n",
      "\n",
      "\n",
      "bkg_DY_nlo1tree\n",
      "\n",
      "\n",
      "bkg_ttbar_nlotree\n",
      "\n",
      "\n",
      "signal_bbA_MA300tree.csv already exist and will not be overwritten...\n",
      "bkg_DY_nlo1tree.csv already exist and will not be overwritten...\n",
      "bkg_ttbar_nlotree.csv already exist and will not be overwritten...\n",
      "The following files will be modified: \n",
      "\n",
      "['signal_bbA_MA300tree.csv', 'bkg_DY_nlo1tree.csv', 'bkg_ttbar_nlotree.csv']\n",
      "\n",
      "\n",
      "l_signal_bbA_MA300tree.csv already exist and will not be overwritten..\n",
      "\n",
      "l_bkg_DY_nlo1tree.csv already exist and will not be overwritten..\n",
      "\n",
      "l_bkg_ttbar_nlotree.csv already exist and will not be overwritten..\n",
      "\n",
      "Createdl_signal_bbA_MA300tree.csv\n",
      "Createdl_bkg_DY_nlo1tree.csv\n",
      "Createdl_bkg_ttbar_nlotree.csv\n",
      "Overwriting already existing file analysis.csv\n"
     ]
    }
   ],
   "source": [
    "main('analysis.root', overwrite_csv = True)"
   ]
  },
  {
   "cell_type": "code",
   "execution_count": 10,
   "metadata": {},
   "outputs": [],
   "source": [
    "class TestNotebook(unittest.TestCase):\n",
    "    \n",
    "    def test_file_merger_value_empty(self):\n",
    "        with self.assertRaises(ValueError):\n",
    "            file_merger([], 'a.csv')\n",
    "            \n",
    "    def test_file_merger_value_extenction(self):\n",
    "        with self.assertRaises(ValueError):\n",
    "            f = open(\"a.root\", 'w+')\n",
    "            file_merger(f,'a.csv')\n",
    "            clean()\n",
    "            \n",
    "    def test_file_merger__f_not_found(self):\n",
    "        with self.assertRaises(FileNotFoundError):\n",
    "            file_merger('b.root', 'a.csv')\n",
    "            clean()\n",
    "     \n",
    "    \n",
    "    \n",
    "    def test_add_label_column_f_not_found_empty(self):\n",
    "        with self.assertRaises(FileNotFoundError):\n",
    "            add_label_column([])\n",
    "            \n",
    "    def test_add_label_column_value(self):\n",
    "        with self.assertRaises(ValueError):\n",
    "            f = open(\"a.root\", 'w+')\n",
    "            add_label_column([\"a.root\"])\n",
    "            clean()\n",
    "            \n",
    "    def test_add_label_column_f_not_found(self):\n",
    "        with self.assertRaises(FileNotFoundError):\n",
    "            add_label_column([\"a.csv\"])\n",
    "    \n",
    "    \n",
    "    def test_label_column_writer_f_not_found(self):\n",
    "        with self.assertRaises(FileNotFoundError):\n",
    "            clean()\n",
    "            label_column_writer('a.csv', 'b.csv')\n",
    "            \n",
    "            \n",
    "    def test_label_column_writer__value_file1(self):\n",
    "        with self.assertRaises(ValueError):\n",
    "            label_column_writer('a.root', 'b.csv')\n",
    "            \n",
    "    def test_label_column_writer__value_file2(self):\n",
    "        with self.assertRaises(ValueError):\n",
    "            f = open(\"a.csv\", 'w+')\n",
    "            label_column_writer('a.csv', 'b.root')\n",
    "            clean()\n",
    "    \n",
    "    def test_root_tree_to_csv_value(self):\n",
    "        with self.assertRaises(ValueError):\n",
    "            f = open(\"a.root\", 'w+')\n",
    "            get_tree_names(\"a.root\")\n",
    "            clean()\n",
    "            \n",
    "    def test_root_tree_to_csv__file_type(self):\n",
    "        with self.assertRaises(ValueError):\n",
    "            f = open(\"a.csv\", 'w+')\n",
    "            get_tree_names(\"a.csv\")\n",
    "            clean()\n",
    "            \n",
    "    def test_root_tree_to_csv_f_not_found(self):\n",
    "        with self.assertRaises(FileNotFoundError):\n",
    "            get_tree_names(\"b.root\")\n",
    "    \n",
    "\n",
    "    def test_unroll_tree_value(self):\n",
    "        with self.assertRaises(ValueError):\n",
    "            f = open(\"a.root\", 'w+')\n",
    "            unroll_tree(\"a.root\", \"tree\", \"out_f\")\n",
    "            clean()\n",
    "    def test_unroll_tree_f_not_found(self):\n",
    "        with self.assertRaises(FileNotFoundError):\n",
    "            unroll_tree(\"b.root\", \"tree\", \"out_f\")\n",
    "\n",
    "      \n",
    "    \n",
    "    \n",
    "    def test_get_tree_names_f_not_found(self):\n",
    "        with self.assertRaises(FileNotFoundError):\n",
    "            get_tree_names(\"b.root\")\n",
    "            \n",
    "    def test_get_tree_names_value(self):\n",
    "        with self.assertRaises(ValueError):\n",
    "            f = open(\"a.root\", 'w+')\n",
    "            get_tree_names(\"a.root\")\n",
    "            clean()\n",
    "\n",
    "    def test_get_file_name_positive_test(self):\n",
    "        f = open(\"a.root\", 'w+')\n",
    "        self.assertEqual(get_file_name(\"a.root\"), \"a.root\")\n",
    "        clean()\n",
    "    \n",
    "    \n",
    "    def test_get_file_name_ext_error(self):\n",
    "        self.assertFalse(get_file_name(\"a\"), \"a\")\n",
    "        \n",
    "    def test_get_file_name_empty_txt(self):\n",
    "        self.assertFalse(get_file_name(\"\"), \"\")\n",
    "    \n",
    "    "
   ]
  },
  {
   "cell_type": "code",
   "execution_count": 11,
   "metadata": {
    "scrolled": true
   },
   "outputs": [],
   "source": [
    "def clean():\n",
    "    \"\"\"Cleans directory after tests are performed.\"\"\" #just to keep directory clean\n",
    "    if (os.path.isfile('a.root')):\n",
    "        os.remove('a.root')\n",
    "    if (os.path.isfile('a.csv')):\n",
    "        os.remove('a.csv')\n",
    "    if (os.path.isfile('b.csv')):\n",
    "        os.remove('b.csv')\n",
    "    else:\n",
    "        pass"
   ]
  },
  {
   "cell_type": "code",
   "execution_count": 12,
   "metadata": {
    "scrolled": false
   },
   "outputs": [
    {
     "name": "stderr",
     "output_type": "stream",
     "text": [
      "test_add_label_column_f_not_found (__main__.TestNotebook) ... ok\n",
      "test_add_label_column_f_not_found_empty (__main__.TestNotebook) ... ok\n",
      "test_add_label_column_value (__main__.TestNotebook) ... /usr/lib/python3.8/unittest/case.py:633: ResourceWarning: unclosed file <_io.TextIOWrapper name='a.root' mode='w+' encoding='UTF-8'>\n",
      "  method()\n",
      "ResourceWarning: Enable tracemalloc to get the object allocation traceback\n",
      "ok\n",
      "test_file_merger__f_not_found (__main__.TestNotebook) ... ok\n",
      "test_file_merger_value_empty (__main__.TestNotebook) ... ok\n",
      "test_file_merger_value_extenction (__main__.TestNotebook) ... ok\n",
      "test_get_file_name_empty_txt (__main__.TestNotebook) ... ok\n",
      "test_get_file_name_ext_error (__main__.TestNotebook) ... ok\n",
      "test_get_file_name_positive_test (__main__.TestNotebook) ... ok\n",
      "test_get_tree_names_f_not_found (__main__.TestNotebook) ... ok\n",
      "test_get_tree_names_value (__main__.TestNotebook) ... ok\n",
      "test_label_column_writer__value_file1 (__main__.TestNotebook) ... ok\n",
      "test_label_column_writer__value_file2 (__main__.TestNotebook) ... /usr/lib/python3.8/unittest/case.py:633: ResourceWarning: unclosed file <_io.TextIOWrapper name='a.csv' mode='w+' encoding='UTF-8'>\n",
      "  method()\n",
      "ResourceWarning: Enable tracemalloc to get the object allocation traceback\n",
      "ok\n",
      "test_label_column_writer_f_not_found (__main__.TestNotebook) ... ok\n",
      "test_root_tree_to_csv__file_type (__main__.TestNotebook) ... ok\n",
      "test_root_tree_to_csv_f_not_found (__main__.TestNotebook) ... ok\n",
      "test_root_tree_to_csv_value (__main__.TestNotebook) ... ok\n",
      "test_unroll_tree_f_not_found (__main__.TestNotebook) ... ok\n",
      "test_unroll_tree_value (__main__.TestNotebook) ... "
     ]
    },
    {
     "name": "stdout",
     "output_type": "stream",
     "text": [
      "\n",
      " ERROR: No or invalid csv file found... \n",
      "\n",
      "\n",
      " ERROR: No or invalid csv file found... \n",
      "\n",
      "\n",
      " ERROR: No or invalid csv file found... \n",
      "\n",
      "b\n",
      "Writing a.csv file\n",
      "\n",
      " ERROR: No columns to parse from file...\n",
      "Writing a.csv file\n",
      "\n",
      " ERROR: No columns to parse from file...\n",
      "\n",
      " No input or wrong file format given... Try again. \n",
      "\n",
      "\n",
      " No input or wrong file format given... Try again. \n",
      "\n",
      "\n",
      " ERROR: Trees or File not found. Check before continuing...\n",
      "\n",
      "\n",
      " ERROR: Trees or File not found. Check before continuing...\n",
      "\n",
      "\n",
      " ERROR: Trees or File not found. Check before continuing...\n",
      "\n",
      "\n",
      " ERROR: Trees or File not found. Check before continuing...\n",
      "\n",
      "\n",
      " ERROR: Trees or File not found. Check before continuing...\n",
      "\n"
     ]
    },
    {
     "name": "stderr",
     "output_type": "stream",
     "text": [
      "ok\n",
      "\n",
      "----------------------------------------------------------------------\n",
      "Ran 19 tests in 0.024s\n",
      "\n",
      "OK\n"
     ]
    }
   ],
   "source": [
    "\n",
    "unittest.main(argv=[''], verbosity=2, exit=False)\n",
    "clean()\n"
   ]
  },
  {
   "cell_type": "code",
   "execution_count": 5,
   "metadata": {},
   "outputs": [],
   "source": [
    "clean()"
   ]
  },
  {
   "cell_type": "code",
   "execution_count": null,
   "metadata": {},
   "outputs": [],
   "source": []
  }
 ],
 "metadata": {
  "kernelspec": {
   "display_name": "Python 2",
   "language": "python",
   "name": "python2"
  },
  "language_info": {
   "codemirror_mode": {
    "name": "ipython",
    "version": 3
   },
   "file_extension": ".py",
   "mimetype": "text/x-python",
   "name": "python",
   "nbconvert_exporter": "python",
   "pygments_lexer": "ipython3",
   "version": "3.8.2"
  }
 },
 "nbformat": 4,
 "nbformat_minor": 2
}
