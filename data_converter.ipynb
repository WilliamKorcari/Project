{
 "cells": [
  {
   "cell_type": "code",
   "execution_count": 2,
   "metadata": {},
   "outputs": [],
   "source": [
    "import numpy as np\n",
    "import pandas as pd\n",
    "import uproot\n",
    "import csv\n",
    "import os\n",
    "import glob\n",
    "import unittest\n",
    "#import doctest\n",
    "#doctest.testmod(verbose=True)"
   ]
  },
  {
   "cell_type": "markdown",
   "metadata": {},
   "source": [
    "#### Choose file to work with:"
   ]
  },
  {
   "cell_type": "code",
   "execution_count": 3,
   "metadata": {},
   "outputs": [],
   "source": [
    "def get_file_name(fname = \"analysis.root\"):\n",
    "    \n",
    "    file_name = fname\n",
    "    if file_name is not '' and file_name.endswith('.root'):\n",
    "        if os.path.isfile(file_name):\n",
    "            return file_name\n",
    "        else:\n",
    "            print('\\n No such file... Try again. \\n')\n",
    "            get_file_name()\n",
    "    else:\n",
    "        print (\"\\n No input or wrong file format given... Try again. \\n\")\n",
    "        get_file_name()\n",
    "        \n"
   ]
  },
  {
   "cell_type": "markdown",
   "metadata": {},
   "source": [
    "#### Get the names of all the trees in the file"
   ]
  },
  {
   "cell_type": "code",
   "execution_count": 79,
   "metadata": {},
   "outputs": [],
   "source": [
    "def get_tree_names(f_name):\n",
    "    \n",
    "    try:\n",
    "        f = uproot.open(f_name)\n",
    "        trees = f.keys()\n",
    "        tree_names=[]\n",
    "\n",
    "        print(\"\\n Tree names successfully stored. They are: \\n\")\n",
    "        for tree in trees:\n",
    "            tree = str(tree)\n",
    "            tree = tree[2:len(tree)-3]\n",
    "            tree_names.append(tree)\n",
    "            print(tree)\n",
    "            print('\\n')\n",
    "            \n",
    "        return tree_names\n",
    "\n",
    "    except (ValueError, FileNotFoundError):\n",
    "        print (\"\\n ERROR: Trees or File not found. Check before continuing...\\n\")\n",
    "        raise\n"
   ]
  },
  {
   "cell_type": "code",
   "execution_count": 80,
   "metadata": {
    "scrolled": true
   },
   "outputs": [
    {
     "name": "stdout",
     "output_type": "stream",
     "text": [
      "\n",
      " ERROR: Trees or File not found. Check before continuing...\n",
      "\n"
     ]
    },
    {
     "ename": "ValueError",
     "evalue": "cannot mmap an empty file",
     "output_type": "error",
     "traceback": [
      "\u001b[0;31m---------------------------------------------------------------------------\u001b[0m",
      "\u001b[0;31mValueError\u001b[0m                                Traceback (most recent call last)",
      "\u001b[0;32m<ipython-input-80-a9e15874573d>\u001b[0m in \u001b[0;36m<module>\u001b[0;34m\u001b[0m\n\u001b[0;32m----> 1\u001b[0;31m \u001b[0mget_tree_names\u001b[0m\u001b[0;34m(\u001b[0m\u001b[0;34m\"a.root\"\u001b[0m\u001b[0;34m)\u001b[0m\u001b[0;34m\u001b[0m\u001b[0;34m\u001b[0m\u001b[0m\n\u001b[0m",
      "\u001b[0;32m<ipython-input-79-e23cf7535ef9>\u001b[0m in \u001b[0;36mget_tree_names\u001b[0;34m(f_name)\u001b[0m\n\u001b[1;32m      2\u001b[0m \u001b[0;34m\u001b[0m\u001b[0m\n\u001b[1;32m      3\u001b[0m     \u001b[0;32mtry\u001b[0m\u001b[0;34m:\u001b[0m\u001b[0;34m\u001b[0m\u001b[0;34m\u001b[0m\u001b[0m\n\u001b[0;32m----> 4\u001b[0;31m         \u001b[0mf\u001b[0m \u001b[0;34m=\u001b[0m \u001b[0muproot\u001b[0m\u001b[0;34m.\u001b[0m\u001b[0mopen\u001b[0m\u001b[0;34m(\u001b[0m\u001b[0mf_name\u001b[0m\u001b[0;34m)\u001b[0m\u001b[0;34m\u001b[0m\u001b[0;34m\u001b[0m\u001b[0m\n\u001b[0m\u001b[1;32m      5\u001b[0m         \u001b[0mtrees\u001b[0m \u001b[0;34m=\u001b[0m \u001b[0mf\u001b[0m\u001b[0;34m.\u001b[0m\u001b[0mkeys\u001b[0m\u001b[0;34m(\u001b[0m\u001b[0;34m)\u001b[0m\u001b[0;34m\u001b[0m\u001b[0;34m\u001b[0m\u001b[0m\n\u001b[1;32m      6\u001b[0m         \u001b[0mtree_names\u001b[0m\u001b[0;34m=\u001b[0m\u001b[0;34m[\u001b[0m\u001b[0;34m]\u001b[0m\u001b[0;34m\u001b[0m\u001b[0;34m\u001b[0m\u001b[0m\n",
      "\u001b[0;32m~/.local/lib/python3.7/site-packages/uproot/rootio.py\u001b[0m in \u001b[0;36mopen\u001b[0;34m(path, localsource, xrootdsource, httpsource, **options)\u001b[0m\n\u001b[1;32m     51\u001b[0m         \u001b[0;32melse\u001b[0m\u001b[0;34m:\u001b[0m\u001b[0;34m\u001b[0m\u001b[0;34m\u001b[0m\u001b[0m\n\u001b[1;32m     52\u001b[0m             \u001b[0mopenfcn\u001b[0m \u001b[0;34m=\u001b[0m \u001b[0mlocalsource\u001b[0m\u001b[0;34m\u001b[0m\u001b[0;34m\u001b[0m\u001b[0m\n\u001b[0;32m---> 53\u001b[0;31m         \u001b[0;32mreturn\u001b[0m \u001b[0mROOTDirectory\u001b[0m\u001b[0;34m.\u001b[0m\u001b[0mread\u001b[0m\u001b[0;34m(\u001b[0m\u001b[0mopenfcn\u001b[0m\u001b[0;34m(\u001b[0m\u001b[0mpath\u001b[0m\u001b[0;34m)\u001b[0m\u001b[0;34m,\u001b[0m \u001b[0;34m**\u001b[0m\u001b[0moptions\u001b[0m\u001b[0;34m)\u001b[0m\u001b[0;34m\u001b[0m\u001b[0;34m\u001b[0m\u001b[0m\n\u001b[0m\u001b[1;32m     54\u001b[0m \u001b[0;34m\u001b[0m\u001b[0m\n\u001b[1;32m     55\u001b[0m     \u001b[0;32melif\u001b[0m \u001b[0m_bytesid\u001b[0m\u001b[0;34m(\u001b[0m\u001b[0mparsed\u001b[0m\u001b[0;34m.\u001b[0m\u001b[0mscheme\u001b[0m\u001b[0;34m)\u001b[0m \u001b[0;34m==\u001b[0m \u001b[0;34mb\"root\"\u001b[0m\u001b[0;34m:\u001b[0m\u001b[0;34m\u001b[0m\u001b[0;34m\u001b[0m\u001b[0m\n",
      "\u001b[0;32m~/.local/lib/python3.7/site-packages/uproot/rootio.py\u001b[0m in \u001b[0;36m<lambda>\u001b[0;34m(path)\u001b[0m\n\u001b[1;32m     48\u001b[0m                 \u001b[0;32mif\u001b[0m \u001b[0mn\u001b[0m \u001b[0;32min\u001b[0m \u001b[0moptions\u001b[0m\u001b[0;34m:\u001b[0m\u001b[0;34m\u001b[0m\u001b[0;34m\u001b[0m\u001b[0m\n\u001b[1;32m     49\u001b[0m                     \u001b[0mkwargs\u001b[0m\u001b[0;34m[\u001b[0m\u001b[0mn\u001b[0m\u001b[0;34m]\u001b[0m \u001b[0;34m=\u001b[0m \u001b[0moptions\u001b[0m\u001b[0;34m.\u001b[0m\u001b[0mpop\u001b[0m\u001b[0;34m(\u001b[0m\u001b[0mn\u001b[0m\u001b[0;34m)\u001b[0m\u001b[0;34m\u001b[0m\u001b[0;34m\u001b[0m\u001b[0m\n\u001b[0;32m---> 50\u001b[0;31m             \u001b[0mopenfcn\u001b[0m \u001b[0;34m=\u001b[0m \u001b[0;32mlambda\u001b[0m \u001b[0mpath\u001b[0m\u001b[0;34m:\u001b[0m \u001b[0mMemmapSource\u001b[0m\u001b[0;34m(\u001b[0m\u001b[0mpath\u001b[0m\u001b[0;34m,\u001b[0m \u001b[0;34m**\u001b[0m\u001b[0mkwargs\u001b[0m\u001b[0;34m)\u001b[0m\u001b[0;34m\u001b[0m\u001b[0;34m\u001b[0m\u001b[0m\n\u001b[0m\u001b[1;32m     51\u001b[0m         \u001b[0;32melse\u001b[0m\u001b[0;34m:\u001b[0m\u001b[0;34m\u001b[0m\u001b[0;34m\u001b[0m\u001b[0m\n\u001b[1;32m     52\u001b[0m             \u001b[0mopenfcn\u001b[0m \u001b[0;34m=\u001b[0m \u001b[0mlocalsource\u001b[0m\u001b[0;34m\u001b[0m\u001b[0;34m\u001b[0m\u001b[0m\n",
      "\u001b[0;32m~/.local/lib/python3.7/site-packages/uproot/source/memmap.py\u001b[0m in \u001b[0;36m__init__\u001b[0;34m(self, path)\u001b[0m\n\u001b[1;32m     19\u001b[0m     \u001b[0;32mdef\u001b[0m \u001b[0m__init__\u001b[0m\u001b[0;34m(\u001b[0m\u001b[0mself\u001b[0m\u001b[0;34m,\u001b[0m \u001b[0mpath\u001b[0m\u001b[0;34m)\u001b[0m\u001b[0;34m:\u001b[0m\u001b[0;34m\u001b[0m\u001b[0;34m\u001b[0m\u001b[0m\n\u001b[1;32m     20\u001b[0m         \u001b[0mself\u001b[0m\u001b[0;34m.\u001b[0m\u001b[0mpath\u001b[0m \u001b[0;34m=\u001b[0m \u001b[0mos\u001b[0m\u001b[0;34m.\u001b[0m\u001b[0mpath\u001b[0m\u001b[0;34m.\u001b[0m\u001b[0mexpanduser\u001b[0m\u001b[0;34m(\u001b[0m\u001b[0mpath\u001b[0m\u001b[0;34m)\u001b[0m\u001b[0;34m\u001b[0m\u001b[0;34m\u001b[0m\u001b[0m\n\u001b[0;32m---> 21\u001b[0;31m         \u001b[0mself\u001b[0m\u001b[0;34m.\u001b[0m\u001b[0m_source\u001b[0m \u001b[0;34m=\u001b[0m \u001b[0mnumpy\u001b[0m\u001b[0;34m.\u001b[0m\u001b[0mmemmap\u001b[0m\u001b[0;34m(\u001b[0m\u001b[0mself\u001b[0m\u001b[0;34m.\u001b[0m\u001b[0mpath\u001b[0m\u001b[0;34m,\u001b[0m \u001b[0mdtype\u001b[0m\u001b[0;34m=\u001b[0m\u001b[0mnumpy\u001b[0m\u001b[0;34m.\u001b[0m\u001b[0muint8\u001b[0m\u001b[0;34m,\u001b[0m \u001b[0mmode\u001b[0m\u001b[0;34m=\u001b[0m\u001b[0;34m\"r\"\u001b[0m\u001b[0;34m)\u001b[0m\u001b[0;34m\u001b[0m\u001b[0;34m\u001b[0m\u001b[0m\n\u001b[0m\u001b[1;32m     22\u001b[0m \u001b[0;34m\u001b[0m\u001b[0m\n\u001b[1;32m     23\u001b[0m     \u001b[0;32mdef\u001b[0m \u001b[0mparent\u001b[0m\u001b[0;34m(\u001b[0m\u001b[0mself\u001b[0m\u001b[0;34m)\u001b[0m\u001b[0;34m:\u001b[0m\u001b[0;34m\u001b[0m\u001b[0;34m\u001b[0m\u001b[0m\n",
      "\u001b[0;32m/usr/local/lib/python3.7/dist-packages/numpy/core/memmap.py\u001b[0m in \u001b[0;36m__new__\u001b[0;34m(subtype, filename, dtype, mode, offset, shape, order)\u001b[0m\n\u001b[1;32m    262\u001b[0m             \u001b[0mbytes\u001b[0m \u001b[0;34m-=\u001b[0m \u001b[0mstart\u001b[0m\u001b[0;34m\u001b[0m\u001b[0;34m\u001b[0m\u001b[0m\n\u001b[1;32m    263\u001b[0m             \u001b[0marray_offset\u001b[0m \u001b[0;34m=\u001b[0m \u001b[0moffset\u001b[0m \u001b[0;34m-\u001b[0m \u001b[0mstart\u001b[0m\u001b[0;34m\u001b[0m\u001b[0;34m\u001b[0m\u001b[0m\n\u001b[0;32m--> 264\u001b[0;31m             \u001b[0mmm\u001b[0m \u001b[0;34m=\u001b[0m \u001b[0mmmap\u001b[0m\u001b[0;34m.\u001b[0m\u001b[0mmmap\u001b[0m\u001b[0;34m(\u001b[0m\u001b[0mfid\u001b[0m\u001b[0;34m.\u001b[0m\u001b[0mfileno\u001b[0m\u001b[0;34m(\u001b[0m\u001b[0;34m)\u001b[0m\u001b[0;34m,\u001b[0m \u001b[0mbytes\u001b[0m\u001b[0;34m,\u001b[0m \u001b[0maccess\u001b[0m\u001b[0;34m=\u001b[0m\u001b[0macc\u001b[0m\u001b[0;34m,\u001b[0m \u001b[0moffset\u001b[0m\u001b[0;34m=\u001b[0m\u001b[0mstart\u001b[0m\u001b[0;34m)\u001b[0m\u001b[0;34m\u001b[0m\u001b[0;34m\u001b[0m\u001b[0m\n\u001b[0m\u001b[1;32m    265\u001b[0m \u001b[0;34m\u001b[0m\u001b[0m\n\u001b[1;32m    266\u001b[0m             self = ndarray.__new__(subtype, shape, dtype=descr, buffer=mm,\n",
      "\u001b[0;31mValueError\u001b[0m: cannot mmap an empty file"
     ]
    }
   ],
   "source": [
    "get_tree_names(\"a.root\")"
   ]
  },
  {
   "cell_type": "markdown",
   "metadata": {},
   "source": [
    "#### Unrolling the trees and writing them in separate files"
   ]
  },
  {
   "cell_type": "code",
   "execution_count": 83,
   "metadata": {},
   "outputs": [],
   "source": [
    "def unroll_tree(file_name, ttree, of_name):\n",
    "    files_out= [] \n",
    "    data = uproot.open(file_name)[ttree]\n",
    "    names = data.keys()\n",
    "\n",
    "    try:\n",
    "        out = pd.DataFrame.from_dict(data.arrays(names), dtype= str)\n",
    "        out.to_csv(of_name)\n",
    "        files_out.append(of_name)\n",
    "        print ('\\nCreated csv file ' + of_name)\n",
    "    except (ValueError, FileNotFoundError):\n",
    "        raise"
   ]
  },
  {
   "cell_type": "code",
   "execution_count": null,
   "metadata": {
    "scrolled": false
   },
   "outputs": [],
   "source": [
    "def root_tree_to_csv(file, overwrite = False):\n",
    "    fname = file\n",
    "    woods = get_tree_names(fname)\n",
    "    files_out = []\n",
    "    \n",
    "    for tree in woods:    \n",
    "        out_file_name = tree + '.csv'\n",
    "        files_out.append(out_file_name)\n",
    "        \n",
    "        if os.path.isfile(out_file_name):\n",
    "            if overwrite:\n",
    "                print (\"\\nOverwriting tree {} in file {}\".format(tree, fname))\n",
    "                unroll_tree(fname, tree, out_file_name)                \n",
    "            else:\n",
    "                print( out_file_name + \" already exist and will not be overwritten...\")\n",
    "                \n",
    "        else: \n",
    "            print (\"\\nWriting tree {} in file {}\".format(tree, fname))\n",
    "            unroll_tree(fname, tree, out_file_name)\n",
    "        \n",
    "    return files_out"
   ]
  },
  {
   "cell_type": "markdown",
   "metadata": {},
   "source": [
    "#### Adding 'label' column\n"
   ]
  },
  {
   "cell_type": "code",
   "execution_count": null,
   "metadata": {},
   "outputs": [],
   "source": [
    "def label_column_writer(infile, outfile, fsignal = \"signal_bbA_MA300tree.csv\"):\n",
    "    reader = csv.reader(open(infile, 'r'))\n",
    "    writer = csv.writer(open(outfile, 'w'))\n",
    "    headers = next(reader)\n",
    "    headers.append(\"label\")\n",
    "\n",
    "    writer.writerow(headers)\n",
    "    \n",
    "    for row in reader:\n",
    "        if infile == fsignal:\n",
    "            row.append(\"signal\")\n",
    "            writer.writerow(row)\n",
    "        else:\n",
    "            row.append(\"background\")\n",
    "            writer.writerow(row)"
   ]
  },
  {
   "cell_type": "markdown",
   "metadata": {},
   "source": [
    "def select_files():\n",
    "    allfiles = [f for f in glob.glob('*.{}'.format('csv'))]\n",
    "    files_to_modify = []\n",
    "\n",
    "    #select files to modify\n",
    "    for f in allfiles:\n",
    "        answer = input('\\nDo you want to add label column to the file \"{}\"? y or n'.format(f))\n",
    "        if answer is 'y':\n",
    "            files_to_modify.append(f)\n",
    "        else:\n",
    "            continue             \n",
    "    return files_to_modify"
   ]
  },
  {
   "cell_type": "code",
   "execution_count": null,
   "metadata": {},
   "outputs": [],
   "source": [
    "def add_label_column(f_to_modify = [], overwrite = False):\n",
    "    try:\n",
    "        files = f_to_modify\n",
    "        out_files = []\n",
    "        print(\"The following files will be modified: \\n\")\n",
    "        print (files)\n",
    "        print('\\n')\n",
    "        if len(files) is not 0:\n",
    "            for file in files:\n",
    "                out_file = \"l_\"+ file\n",
    "                out_files.append(out_file)\n",
    "                if os.path.isfile(out_file):\n",
    "                    if overwrite:\n",
    "                        print( \"\\nOverwriting \" + out_file) \n",
    "                        label_column_writer(file, out_file)\n",
    "                    else: \n",
    "                        print( out_file + \" already exist and will not be overwritten..\\n\")\n",
    "                else:\n",
    "                    print( \"\\nWriting \" + out_file)\n",
    "                    label_column_writer(file, out_file)\n",
    "        return out_files\n",
    "    except:\n",
    "        print('\\n ERROR: No or invalid csv file found... \\n')"
   ]
  },
  {
   "cell_type": "markdown",
   "metadata": {},
   "source": [
    "#### merging files"
   ]
  },
  {
   "cell_type": "code",
   "execution_count": null,
   "metadata": {},
   "outputs": [],
   "source": [
    "def file_merger(infile_names, outfile_name, overwrite = False):\n",
    "    \n",
    "    file_out_name = outfile_name\n",
    "    infiles = infile_names\n",
    "    if not file_out_name.endswith('.csv'):\n",
    "        file_out_name = file_out_name + \".csv\"\n",
    "    try:\n",
    "        if os.path.isfile(file_out_name):\n",
    "            if not overwrite: \n",
    "                print( file_out_name + \" already exist and will not be overwritten...\\n\")\n",
    "        \n",
    "        \n",
    "        \n",
    "            if overwrite:\n",
    "                \n",
    "                print(\"Overwriting already existing file \" + file_out_name)\n",
    "                \n",
    "                all_filenames = [f for f in infile]\n",
    "                combined_csv = pd.concat([pd.read_csv(f) for f in all_filenames ], sort = False)\n",
    "                \n",
    "                \n",
    "                combined_csv.to_csv( file_out_name, index=False, encoding='utf-8-sig')\n",
    "        else:\n",
    "            print('Writing {} file'.format(file_out_name))\n",
    "            all_filenames = [f for f in glob.glob('l_*')]\n",
    "            combined_csv = pd.concat([pd.read_csv(f) for f in all_filenames ], sort = False)\n",
    "            combined_csv.to_csv( file_out_name, index=False, encoding='utf-8-sig')\n",
    "    except:\n",
    "        print('\\n ERROR: No columns to parse from file...')"
   ]
  },
  {
   "cell_type": "code",
   "execution_count": null,
   "metadata": {},
   "outputs": [],
   "source": []
  },
  {
   "cell_type": "code",
   "execution_count": null,
   "metadata": {},
   "outputs": [],
   "source": [
    "FILE = get_file_name()\n"
   ]
  },
  {
   "cell_type": "code",
   "execution_count": null,
   "metadata": {
    "scrolled": true
   },
   "outputs": [],
   "source": [
    "CSV_FILES = root_tree_to_csv(file = FILE)"
   ]
  },
  {
   "cell_type": "code",
   "execution_count": null,
   "metadata": {
    "scrolled": false
   },
   "outputs": [],
   "source": [
    "L_CSV_FILES = add_label_column(CSV_FILES)"
   ]
  },
  {
   "cell_type": "code",
   "execution_count": null,
   "metadata": {
    "scrolled": false
   },
   "outputs": [],
   "source": [
    "file_merger(infile_names= L_CSV_FILES, outfile_name=\"analysis.csv\")"
   ]
  },
  {
   "cell_type": "code",
   "execution_count": 86,
   "metadata": {},
   "outputs": [],
   "source": [
    "class TestNotebook(unittest.TestCase):\n",
    "    \n",
    "    def test_file_merger(self):\n",
    "        pass\n",
    "\n",
    "    def test_add_label_column(self):\n",
    "        pass\n",
    "\n",
    "    def test_label_column_writer(self):\n",
    "        pass\n",
    "    \n",
    "    def test_root_tree_to_csv(self):\n",
    "        pass\n",
    "    \n",
    "    \n",
    "    def test_unroll_tree_1(self):\n",
    "        with self.assertRaises(FileNotFoundError):\n",
    "            unroll_tree(\"b.root\", \"tree\", \"out_f\")\n",
    "        \n",
    "        \n",
    "    def test_unroll_tree(self):\n",
    "        with self.assertRaises(ValueError):\n",
    "            f = open(\"a.root\")\n",
    "            unroll_tree(\"a.root\", \"tree\", \"out_f\")\n",
    "            \n",
    "            \n",
    "    def test_get_tree_names(self):\n",
    "        with self.assertRaises(FileNotFoundError):\n",
    "            get_tree_names(\"b.root\")\n",
    "            \n",
    "    def test_get_tree_names_1(self):\n",
    "        with self.assertRaises(ValueError):\n",
    "            f = open(\"a.root\")\n",
    "            get_tree_names(\"a.root\")\n",
    "            f.close()\n",
    "        \n",
    "    def test_get_file_name(self):\n",
    "        f = open(\"a.root\")\n",
    "        self.assertEqual(get_file_name(\"a.root\"), \"a.root\")\n",
    "        f.close()\n",
    "        \n",
    "    def test_get_file_name_1(self):\n",
    "        self.assertFalse(get_file_name(\"a\"), \"a\")\n",
    "        \n",
    "    def test_get_file_name_2(self):\n",
    "        self.assertFalse(get_file_name(\"\"), \"\")"
   ]
  },
  {
   "cell_type": "code",
   "execution_count": 87,
   "metadata": {},
   "outputs": [
    {
     "name": "stderr",
     "output_type": "stream",
     "text": [
      "test_add_label_column (__main__.TestNotebook) ... ok\n",
      "test_file_merger (__main__.TestNotebook) ... ok\n",
      "test_get_file_name (__main__.TestNotebook) ... ok\n",
      "test_get_file_name_1 (__main__.TestNotebook) ... ok\n",
      "test_get_file_name_2 (__main__.TestNotebook) ... ok\n",
      "test_get_tree_names (__main__.TestNotebook) ... ok\n",
      "test_get_tree_names_1 (__main__.TestNotebook) ... /usr/lib/python3.7/unittest/case.py:628: ResourceWarning: unclosed file <_io.TextIOWrapper name='a.root' mode='r' encoding='UTF-8'>\n",
      "  testMethod()\n",
      "ResourceWarning: Enable tracemalloc to get the object allocation traceback\n",
      "ok\n",
      "test_label_column_writer (__main__.TestNotebook) ... ok\n",
      "test_root_tree_to_csv (__main__.TestNotebook) ... ok\n",
      "test_unroll_tree (__main__.TestNotebook) ... ok\n",
      "test_unroll_tree_1 (__main__.TestNotebook) ... "
     ]
    },
    {
     "name": "stdout",
     "output_type": "stream",
     "text": [
      "\n",
      " No input or wrong file format given... Try again. \n",
      "\n",
      "\n",
      " No input or wrong file format given... Try again. \n",
      "\n",
      "\n",
      " ERROR: Trees or File not found. Check before continuing...\n",
      "\n",
      "\n",
      " ERROR: Trees or File not found. Check before continuing...\n",
      "\n"
     ]
    },
    {
     "name": "stderr",
     "output_type": "stream",
     "text": [
      "ok\n",
      "\n",
      "----------------------------------------------------------------------\n",
      "Ran 11 tests in 0.009s\n",
      "\n",
      "OK\n"
     ]
    },
    {
     "data": {
      "text/plain": [
       "<unittest.main.TestProgram at 0x7fdfa5bb11d0>"
      ]
     },
     "execution_count": 87,
     "metadata": {},
     "output_type": "execute_result"
    }
   ],
   "source": [
    "unittest.main(argv=[''], verbosity=2, exit=False)\n"
   ]
  },
  {
   "cell_type": "code",
   "execution_count": null,
   "metadata": {},
   "outputs": [],
   "source": []
  }
 ],
 "metadata": {
  "kernelspec": {
   "display_name": "Python 2",
   "language": "python",
   "name": "python2"
  },
  "language_info": {
   "codemirror_mode": {
    "name": "ipython",
    "version": 3
   },
   "file_extension": ".py",
   "mimetype": "text/x-python",
   "name": "python",
   "nbconvert_exporter": "python",
   "pygments_lexer": "ipython3",
   "version": "3.7.5"
  }
 },
 "nbformat": 4,
 "nbformat_minor": 2
}
