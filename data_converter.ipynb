{
 "cells": [
  {
   "cell_type": "code",
   "execution_count": 3,
   "metadata": {},
   "outputs": [],
   "source": [
    "import numpy as np\n",
    "import pandas as pd\n",
    "import uproot\n",
    "import csv\n",
    "import os\n",
    "import glob\n",
    "import unittest\n",
    "#import doctest\n",
    "#doctest.testmod(verbose=True)"
   ]
  },
  {
   "cell_type": "markdown",
   "metadata": {},
   "source": [
    "#### Choose file to work with:"
   ]
  },
  {
   "cell_type": "code",
   "execution_count": 4,
   "metadata": {},
   "outputs": [],
   "source": [
    "def get_file_name(fname = \"analysis.root\"):\n",
    "    \n",
    "    file_name = fname\n",
    "    if file_name is not '' and file_name.endswith('.root'):\n",
    "        if os.path.isfile(file_name):\n",
    "            return file_name\n",
    "        else:\n",
    "            print('\\n No such file... Try again. \\n')\n",
    "            get_file_name()\n",
    "    else:\n",
    "        print (\"\\n No input or wrong file format given... Try again. \\n\")\n",
    "        get_file_name()\n",
    "        \n"
   ]
  },
  {
   "cell_type": "markdown",
   "metadata": {},
   "source": [
    "#### Get the names of all the trees in the file"
   ]
  },
  {
   "cell_type": "code",
   "execution_count": 5,
   "metadata": {},
   "outputs": [],
   "source": [
    "def get_tree_names(f_name):\n",
    "    \n",
    "    try:\n",
    "        f = uproot.open(f_name)\n",
    "        trees = f.keys()\n",
    "        tree_names=[]\n",
    "\n",
    "        print(\"\\n Tree names successfully stored. They are: \\n\")\n",
    "        for tree in trees:\n",
    "            tree = str(tree)\n",
    "            tree = tree[2:len(tree)-3]\n",
    "            tree_names.append(tree)\n",
    "            print(tree)\n",
    "            print('\\n')\n",
    "            \n",
    "        return tree_names\n",
    "\n",
    "    except (ValueError, FileNotFoundError):\n",
    "        print (\"\\n ERROR: Trees or File not found. Check before continuing...\\n\")\n",
    "        raise\n"
   ]
  },
  {
   "cell_type": "markdown",
   "metadata": {},
   "source": [
    "#### Unrolling the trees and writing them in separate files"
   ]
  },
  {
   "cell_type": "code",
   "execution_count": 6,
   "metadata": {},
   "outputs": [],
   "source": [
    "def unroll_tree(file_name, ttree, of_name):\n",
    "    files_out= [] \n",
    "    data = uproot.open(file_name)[ttree]\n",
    "    names = data.keys()\n",
    "\n",
    "    try:\n",
    "        out = pd.DataFrame.from_dict(data.arrays(names), dtype= str)\n",
    "        out.to_csv(of_name)\n",
    "        files_out.append(of_name)\n",
    "        print ('\\nCreated csv file ' + of_name)\n",
    "    except (ValueError, FileNotFoundError):\n",
    "        raise"
   ]
  },
  {
   "cell_type": "code",
   "execution_count": 195,
   "metadata": {
    "scrolled": false
   },
   "outputs": [],
   "source": [
    "def root_tree_to_csv(file, overwrite = False):\n",
    "    try:\n",
    "        if not os.path.isfile(file):\n",
    "            raise FileNotFoundError\n",
    "\n",
    "        elif not file.endswith('.root'):\n",
    "            raise ValueError\n",
    "\n",
    "        fname = file\n",
    "        woods = get_tree_names(fname)\n",
    "        files_out = []\n",
    "\n",
    "        for tree in woods:    \n",
    "            out_file_name = tree + '.csv'\n",
    "            files_out.append(out_file_name)\n",
    "\n",
    "            if os.path.isfile(out_file_name):\n",
    "                if overwrite:\n",
    "                    print (\"\\nOverwriting tree {} in file {}\".format(tree, fname))\n",
    "                    unroll_tree(fname, tree, out_file_name)                \n",
    "                else:\n",
    "                    print( out_file_name + \" already exist and will not be overwritten...\")\n",
    "\n",
    "            else: \n",
    "                print (\"\\nWriting tree {} in file {}\".format(tree, fname))\n",
    "                unroll_tree(fname, tree, out_file_name)\n",
    "\n",
    "        return files_out\n",
    "    except:\n",
    "        print ('ERROR: No file or wrong file format...')\n",
    "        raise"
   ]
  },
  {
   "cell_type": "markdown",
   "metadata": {},
   "source": [
    "#### Adding 'label' column\n"
   ]
  },
  {
   "cell_type": "code",
   "execution_count": 106,
   "metadata": {},
   "outputs": [],
   "source": [
    "def label_column_writer(infile, outfile, fsignal = \"signal_bbA_MA300tree.csv\"):\n",
    "    if not infile.endswith('.csv') or not outfile.endswith('.csv'):\n",
    "        raise ValueError\n",
    "    reader = csv.reader(open(infile, 'r'))\n",
    "    writer = csv.writer(open(outfile, 'w'))\n",
    "    headers = next(reader)\n",
    "    headers.append(\"label\")\n",
    "\n",
    "    writer.writerow(headers)\n",
    "    \n",
    "    for row in reader:\n",
    "        if infile == fsignal:\n",
    "            row.append(\"signal\")\n",
    "            writer.writerow(row)\n",
    "        else:\n",
    "            row.append(\"background\")\n",
    "            writer.writerow(row)"
   ]
  },
  {
   "cell_type": "code",
   "execution_count": 183,
   "metadata": {},
   "outputs": [],
   "source": [
    "def add_label_column(f_to_modify = [], overwrite = False):\n",
    "    try:\n",
    "        if f_to_modify == []: \n",
    "            raise FileNotFoundError\n",
    "        \n",
    "        for file in f_to_modify:\n",
    "            if not os.path.isfile(file):\n",
    "                raise FileNotFoundError\n",
    "            elif not file.endswith('.csv'):\n",
    "                raise ValueError\n",
    "        \n",
    "        else:\n",
    "            files = f_to_modify\n",
    "            out_files = []\n",
    "            print(\"The following files will be modified: \\n\")\n",
    "            print (files)\n",
    "            print('\\n')\n",
    "            if len(files) is not 0:\n",
    "                for file in files:\n",
    "                    out_file = \"l_\"+ file\n",
    "                    out_files.append(out_file)\n",
    "                    if os.path.isfile(out_file):\n",
    "                        if overwrite:\n",
    "                            print( \"\\nOverwriting \" + out_file) \n",
    "                            label_column_writer(file, out_file)\n",
    "                        else: \n",
    "                            print( out_file + \" already exist and will not be overwritten..\\n\")\n",
    "                    else:\n",
    "                        print( \"\\nWriting \" + out_file)\n",
    "                        label_column_writer(file, out_file)\n",
    "            return out_files\n",
    "    except:\n",
    "        print('\\n ERROR: No or invalid csv file found... \\n')\n",
    "        raise"
   ]
  },
  {
   "cell_type": "markdown",
   "metadata": {},
   "source": [
    "#### merging files"
   ]
  },
  {
   "cell_type": "code",
   "execution_count": 137,
   "metadata": {},
   "outputs": [],
   "source": [
    "def file_merger(infile_names, outfile_name = 'output.csv', overwrite = False):\n",
    "    \n",
    "    file_out_name = outfile_name\n",
    "    infiles = []\n",
    "    \n",
    "    for file in infile_names:\n",
    "        if os.path.isfile(file):\n",
    "            infiles.append(file)\n",
    "        else:\n",
    "            print (file)\n",
    "            raise FileNotFoundError\n",
    "        \n",
    "    if not file_out_name.endswith('.csv'):\n",
    "        file_out_name = file_out_name + \".csv\"\n",
    "        \n",
    "    try:\n",
    "        if os.path.isfile(file_out_name):\n",
    "            if not overwrite: \n",
    "                print( file_out_name + \" already exist and will not be overwritten...\\n\")\n",
    "        \n",
    "        \n",
    "        \n",
    "            if overwrite:\n",
    "                \n",
    "                print(\"Overwriting already existing file \" + file_out_name)\n",
    "                \n",
    "                all_filenames = [f for f in infiles]\n",
    "                combined_csv = pd.concat([pd.read_csv(f) for f in all_filenames ], sort = False)\n",
    "                \n",
    "                \n",
    "                combined_csv.to_csv( file_out_name, index=False, encoding='utf-8-sig')\n",
    "        else:\n",
    "            print('Writing {} file'.format(file_out_name))\n",
    "            all_filenames = [f for f in infiles]\n",
    "            combined_csv = pd.concat([pd.read_csv(f) for f in all_filenames ], sort = False)\n",
    "            combined_csv.to_csv( file_out_name, index=False, encoding='utf-8-sig')\n",
    "    except:\n",
    "        print('\\n ERROR: No columns to parse from file...')\n",
    "        raise"
   ]
  },
  {
   "cell_type": "code",
   "execution_count": 138,
   "metadata": {},
   "outputs": [],
   "source": [
    "FILE = get_file_name('analysis.root')\n"
   ]
  },
  {
   "cell_type": "code",
   "execution_count": 139,
   "metadata": {
    "scrolled": true
   },
   "outputs": [
    {
     "name": "stdout",
     "output_type": "stream",
     "text": [
      "\n",
      " Tree names successfully stored. They are: \n",
      "\n",
      "signal_bbA_MA300tree\n",
      "\n",
      "\n",
      "bkg_DY_nlo1tree\n",
      "\n",
      "\n",
      "bkg_ttbar_nlotree\n",
      "\n",
      "\n",
      "signal_bbA_MA300tree.csv already exist and will not be overwritten...\n",
      "bkg_DY_nlo1tree.csv already exist and will not be overwritten...\n",
      "bkg_ttbar_nlotree.csv already exist and will not be overwritten...\n"
     ]
    }
   ],
   "source": [
    "CSV_FILES = root_tree_to_csv(file = FILE)"
   ]
  },
  {
   "cell_type": "code",
   "execution_count": 53,
   "metadata": {
    "scrolled": true
   },
   "outputs": [
    {
     "name": "stdout",
     "output_type": "stream",
     "text": [
      "The following files will be modified: \n",
      "\n",
      "['signal_bbA_MA300tree.csv', 'bkg_DY_nlo1tree.csv', 'bkg_ttbar_nlotree.csv']\n",
      "\n",
      "\n",
      "l_signal_bbA_MA300tree.csv already exist and will not be overwritten..\n",
      "\n",
      "l_bkg_DY_nlo1tree.csv already exist and will not be overwritten..\n",
      "\n",
      "l_bkg_ttbar_nlotree.csv already exist and will not be overwritten..\n",
      "\n"
     ]
    }
   ],
   "source": [
    "L_CSV_FILES = add_label_column(CSV_FILES)"
   ]
  },
  {
   "cell_type": "code",
   "execution_count": 54,
   "metadata": {},
   "outputs": [
    {
     "name": "stdout",
     "output_type": "stream",
     "text": [
      "l_signal_bbA_MA300tree.csv\n",
      "l_bkg_DY_nlo1tree.csv\n",
      "l_bkg_ttbar_nlotree.csv\n"
     ]
    }
   ],
   "source": [
    "for file in L_CSV_FILES:\n",
    "    print (file)"
   ]
  },
  {
   "cell_type": "code",
   "execution_count": 55,
   "metadata": {
    "scrolled": false
   },
   "outputs": [
    {
     "name": "stdout",
     "output_type": "stream",
     "text": [
      "Overwriting already existing file analysis.csv\n"
     ]
    }
   ],
   "source": [
    "file_merger(infile_names= L_CSV_FILES, outfile_name=\"analysis.csv\", overwrite = True)"
   ]
  },
  {
   "cell_type": "code",
   "execution_count": 198,
   "metadata": {},
   "outputs": [],
   "source": [
    "class TestNotebook(unittest.TestCase):\n",
    "    \n",
    "    def test_file_merger(self):\n",
    "        with self.assertRaises(ValueError):\n",
    "            file_merger([])\n",
    "            \n",
    "    def test_file_merger_1(self):\n",
    "        with self.assertRaises(ValueError):\n",
    "            f = open(\"a.root\", 'w+')\n",
    "            file_merger(f)\n",
    "            os.remove(\"a.root\")\n",
    "\n",
    "    def test_file_merger_2(self):\n",
    "        with self.assertRaises(FileNotFoundError):\n",
    "            file_merger('b.root')\n",
    "     \n",
    "    \n",
    "    \n",
    "    def test_add_label_column(self):\n",
    "        with self.assertRaises(FileNotFoundError):\n",
    "            add_label_column([])\n",
    "            \n",
    "    def test_add_label_column_1(self):\n",
    "        with self.assertRaises(ValueError):\n",
    "            f = open(\"a.root\", 'w+')\n",
    "            add_label_column([\"a.root\"])\n",
    "            os.remove(\"a.root\")\n",
    "            \n",
    "    def test_add_label_column_2(self):\n",
    "        with self.assertRaises(FileNotFoundError):\n",
    "            os.remove(\"a.csv\")\n",
    "            add_label_column([\"a.csv\"])\n",
    "    \n",
    "    \n",
    "    def test_label_column_writer(self):\n",
    "        with self.assertRaises(FileNotFoundError):\n",
    "            label_column_writer('a.csv', 'b.csv')\n",
    "            \n",
    "    def test_label_column_writer_1(self):\n",
    "        with self.assertRaises(ValueError):\n",
    "            label_column_writer('a.root', 'b.csv')\n",
    "            \n",
    "    def test_label_column_writer_2(self):\n",
    "        with self.assertRaises(ValueError):\n",
    "            f = open(\"a.csv\", 'w+')\n",
    "            label_column_writer('a.csv', 'b.root')\n",
    "            os.remove(\"a.csv\")\n",
    "    \n",
    "    \n",
    "    def test_root_tree_to_csv(self):\n",
    "        with self.assertRaises(ValueError):\n",
    "            f = open(\"a.root\", 'w+')\n",
    "            get_tree_names(\"a.root\")\n",
    "            os.remove(\"a.root\")\n",
    "    def test_root_tree_to_csv_1(self):\n",
    "        with self.assertRaises(ValueError):\n",
    "            f = open(\"a.csv\", 'w+')\n",
    "            get_tree_names(\"a.csv\")\n",
    "            os.remove(\"a.csv\")\n",
    "    def test_root_tree_to_csv_2(self):\n",
    "        with self.assertRaises(FileNotFoundError):\n",
    "            get_tree_names(\"b.root\")\n",
    "    \n",
    "\n",
    "    def test_unroll_tree(self):\n",
    "        with self.assertRaises(ValueError):\n",
    "            f = open(\"a.root\", 'w+')\n",
    "            unroll_tree(\"a.root\", \"tree\", \"out_f\")\n",
    "            os.remove(\"a.root\")\n",
    "    def test_unroll_tree_1(self):\n",
    "        with self.assertRaises(FileNotFoundError):\n",
    "            unroll_tree(\"b.root\", \"tree\", \"out_f\")\n",
    "\n",
    "      \n",
    "    \n",
    "    \n",
    "    def test_get_tree_names(self):\n",
    "        with self.assertRaises(FileNotFoundError):\n",
    "            get_tree_names(\"b.root\")\n",
    "            \n",
    "    def test_get_tree_names_1(self):\n",
    "        with self.assertRaises(ValueError):\n",
    "            f = open(\"a.root\", 'w+')\n",
    "            get_tree_names(\"a.root\")\n",
    "            os.remove(\"a.root\")\n",
    "\n",
    "    def test_get_file_name(self):\n",
    "        f = open(\"a.root\", 'w+')\n",
    "        self.assertEqual(get_file_name(\"a.root\"), \"a.root\")\n",
    "        os.remove(\"a.root\")\n",
    "    \n",
    "    \n",
    "    def test_get_file_name_1(self):\n",
    "        self.assertFalse(get_file_name(\"a\"), \"a\")\n",
    "        \n",
    "    def test_get_file_name_2(self):\n",
    "        self.assertFalse(get_file_name(\"\"), \"\")\n",
    "    \n",
    "    "
   ]
  },
  {
   "cell_type": "code",
   "execution_count": 199,
   "metadata": {
    "scrolled": true
   },
   "outputs": [
    {
     "name": "stderr",
     "output_type": "stream",
     "text": [
      "test_add_label_column (__main__.TestNotebook) ... ok\n",
      "test_add_label_column_1 (__main__.TestNotebook) ... /usr/lib/python3.7/unittest/case.py:628: ResourceWarning: unclosed file <_io.TextIOWrapper name='a.root' mode='w+' encoding='UTF-8'>\n",
      "  testMethod()\n",
      "ResourceWarning: Enable tracemalloc to get the object allocation traceback\n",
      "ok\n",
      "test_add_label_column_2 (__main__.TestNotebook) ... ok\n",
      "test_file_merger (__main__.TestNotebook) ... ok\n",
      "test_file_merger_1 (__main__.TestNotebook) ... ok\n",
      "test_file_merger_2 (__main__.TestNotebook) ... ok\n",
      "test_get_file_name (__main__.TestNotebook) ... ok\n",
      "test_get_file_name_1 (__main__.TestNotebook) ... ok\n",
      "test_get_file_name_2 (__main__.TestNotebook) ... ok\n",
      "test_get_tree_names (__main__.TestNotebook) ... ok\n",
      "test_get_tree_names_1 (__main__.TestNotebook) ... ok\n",
      "test_label_column_writer (__main__.TestNotebook) ... ok\n",
      "test_label_column_writer_1 (__main__.TestNotebook) ... ok\n",
      "test_label_column_writer_2 (__main__.TestNotebook) ... /usr/lib/python3.7/unittest/case.py:628: ResourceWarning: unclosed file <_io.TextIOWrapper name='a.csv' mode='w+' encoding='UTF-8'>\n",
      "  testMethod()\n",
      "ResourceWarning: Enable tracemalloc to get the object allocation traceback\n",
      "ok\n",
      "test_root_tree_to_csv (__main__.TestNotebook) ... ok\n",
      "test_root_tree_to_csv_1 (__main__.TestNotebook) ... ok\n",
      "test_root_tree_to_csv_2 (__main__.TestNotebook) ... ok\n",
      "test_unroll_tree (__main__.TestNotebook) ... ok\n",
      "test_unroll_tree_1 (__main__.TestNotebook) ... "
     ]
    },
    {
     "name": "stdout",
     "output_type": "stream",
     "text": [
      "\n",
      " ERROR: No or invalid csv file found... \n",
      "\n",
      "\n",
      " ERROR: No or invalid csv file found... \n",
      "\n",
      "Writing output.csv file\n",
      "\n",
      " ERROR: No columns to parse from file...\n",
      "Writing output.csv file\n",
      "\n",
      " ERROR: No columns to parse from file...\n",
      "b\n",
      "\n",
      " No input or wrong file format given... Try again. \n",
      "\n",
      "\n",
      " No input or wrong file format given... Try again. \n",
      "\n",
      "\n",
      " ERROR: Trees or File not found. Check before continuing...\n",
      "\n",
      "\n",
      " ERROR: Trees or File not found. Check before continuing...\n",
      "\n",
      "\n",
      " ERROR: Trees or File not found. Check before continuing...\n",
      "\n",
      "\n",
      " ERROR: Trees or File not found. Check before continuing...\n",
      "\n",
      "\n",
      " ERROR: Trees or File not found. Check before continuing...\n",
      "\n"
     ]
    },
    {
     "name": "stderr",
     "output_type": "stream",
     "text": [
      "ok\n",
      "\n",
      "----------------------------------------------------------------------\n",
      "Ran 19 tests in 0.018s\n",
      "\n",
      "OK\n"
     ]
    }
   ],
   "source": [
    "def clean():\n",
    "    os.remove('a.root')\n",
    "    os.remove('a.csv')\n",
    "    #os.remove('b.csv')\n",
    "\n",
    "\n",
    "      \n",
    "\n",
    "unittest.main(argv=[''], verbosity=2, exit=False)\n",
    "clean()\n"
   ]
  },
  {
   "cell_type": "code",
   "execution_count": null,
   "metadata": {},
   "outputs": [],
   "source": []
  },
  {
   "cell_type": "code",
   "execution_count": null,
   "metadata": {},
   "outputs": [],
   "source": []
  }
 ],
 "metadata": {
  "kernelspec": {
   "display_name": "Python 2",
   "language": "python",
   "name": "python2"
  },
  "language_info": {
   "codemirror_mode": {
    "name": "ipython",
    "version": 3
   },
   "file_extension": ".py",
   "mimetype": "text/x-python",
   "name": "python",
   "nbconvert_exporter": "python",
   "pygments_lexer": "ipython3",
   "version": "3.7.5"
  }
 },
 "nbformat": 4,
 "nbformat_minor": 2
}
