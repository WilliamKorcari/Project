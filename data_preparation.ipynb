{
 "cells": [
  {
   "cell_type": "code",
   "execution_count": 1,
   "metadata": {},
   "outputs": [],
   "source": [
    "import numpy as np\n",
    "import pandas as pd\n",
    "import uproot\n",
    "import csv\n",
    "import os\n",
    "import glob"
   ]
  },
  {
   "cell_type": "markdown",
   "metadata": {},
   "source": [
    "#### Choose file to work with:"
   ]
  },
  {
   "cell_type": "code",
   "execution_count": 86,
   "metadata": {},
   "outputs": [],
   "source": [
    "def get_file_name():\n",
    "    \n",
    "    file_name = input(\"\\n Which .root file do you want to open?\\n\")\n",
    "    if file_name is not '' and file_name.endswith('.root'):\n",
    "        if os.path.isfile(file_name):\n",
    "            return file_name\n",
    "        else:\n",
    "            print('\\n No such file... Try again. \\n')\n",
    "            get_file_name()\n",
    "    else:\n",
    "        print (\"\\n No or wrong input given... Try again. \\n\")\n",
    "        get_file_name()"
   ]
  },
  {
   "cell_type": "markdown",
   "metadata": {},
   "source": [
    "#### Get the names of all the trees in the file"
   ]
  },
  {
   "cell_type": "code",
   "execution_count": 53,
   "metadata": {},
   "outputs": [],
   "source": [
    "def get_tree_names(f_name):\n",
    "    \n",
    "    try:\n",
    "        f = uproot.open(f_name)\n",
    "        trees = f.keys()\n",
    "        tree_names=[]\n",
    "\n",
    "        print(\"\\n Tree names successfully stored. They are: \\n\")\n",
    "        for tree in trees:\n",
    "            tree = str(tree)\n",
    "            tree = tree[2:len(tree)-3]\n",
    "            tree_names.append(tree)\n",
    "            print(tree)\n",
    "            print('\\n')\n",
    "            \n",
    "        return tree_names\n",
    "\n",
    "    except:\n",
    "        print (\"\\n ERROR: Trees not found. Check your file before continuing...\\n\")\n",
    "    \n",
    "    \n"
   ]
  },
  {
   "cell_type": "code",
   "execution_count": null,
   "metadata": {},
   "outputs": [],
   "source": []
  },
  {
   "cell_type": "markdown",
   "metadata": {},
   "source": [
    "### Srotolo i tree e faccio tre singoli file "
   ]
  },
  {
   "cell_type": "code",
   "execution_count": 63,
   "metadata": {
    "scrolled": false
   },
   "outputs": [],
   "source": [
    "def root_tree_to_csv():\n",
    "\n",
    "    fname = get_file_name()\n",
    "    files_out= []\n",
    "\n",
    "#    sgn_treename = 'signal_bbA_MA300tree'\n",
    "#    bkgttbar_treename = 'bkg_ttbar_nlotree'\n",
    "#    bkgDY_treename = 'bkg_DY_nlo1tree'\n",
    "    \n",
    "    woods = get_tree_names(fname)\n",
    "    \n",
    "    #print (woods)\n",
    "\n",
    "    for tree in woods:\n",
    "        print (\"Reading tree {} in file {}\".format(tree, fname))\n",
    "        data = uproot.open(fname)[tree]\n",
    "        names = data.keys()\n",
    "\n",
    "        #data.arrays(names)\n",
    "        out = pd.DataFrame.from_dict(data.arrays(names), dtype= str)\n",
    "        out_file_name = tree + '.csv'\n",
    "        out.to_csv(out_file_name)\n",
    "        files_out.append(out_file_name)\n",
    "        print ('created csv file ' + outfilename)"
   ]
  },
  {
   "cell_type": "markdown",
   "metadata": {},
   "source": [
    "#### Aggiungo la colonna con label"
   ]
  },
  {
   "cell_type": "code",
   "execution_count": 76,
   "metadata": {},
   "outputs": [],
   "source": [
    "def add_label_column():\n",
    "    try:\n",
    "        files = [f for f in glob.glob('*.{}'.format('csv'))]\n",
    "        for file in files:\n",
    "            reader = csv.reader(open(file, 'r'))\n",
    "            writer = csv.writer(open(\"l_\" + file, 'w'))\n",
    "\n",
    "            headers = next(reader)\n",
    "            headers.append(\"label\")\n",
    "\n",
    "            writer.writerow(headers)\n",
    "            for row in reader:\n",
    "                if file == \"signal_bbA_MA300tree.csv\":\n",
    "                    row.append(\"signal\")\n",
    "                    writer.writerow(row)\n",
    "                else:\n",
    "                    row.append(\"background\")\n",
    "                    writer.writerow(row)\n",
    "    except:\n",
    "        print('\\n ERROR: No csv file found... \\n')"
   ]
  },
  {
   "cell_type": "markdown",
   "metadata": {},
   "source": [
    "### Unisco i tre file"
   ]
  },
  {
   "cell_type": "code",
   "execution_count": 85,
   "metadata": {},
   "outputs": [],
   "source": [
    "def file_merger():\n",
    "\n",
    "    all_filenames = [f for f in glob.glob('*.{}'.format('csv'))]\n",
    "    #combine all files in the list\n",
    "    combined_csv = pd.concat([pd.read_csv(f) for f in all_filenames ], sort = False)\n",
    "    #pick a name for the new file\n",
    "    file_out_name = input('\\n How would you like to name the new file? \\n')\n",
    "    #export to csv\n",
    "    combined_csv.to_csv( file_out_name, index=False, encoding='utf-8-sig')"
   ]
  },
  {
   "cell_type": "code",
   "execution_count": null,
   "metadata": {},
   "outputs": [],
   "source": []
  },
  {
   "cell_type": "code",
   "execution_count": null,
   "metadata": {},
   "outputs": [],
   "source": []
  },
  {
   "cell_type": "code",
   "execution_count": null,
   "metadata": {},
   "outputs": [],
   "source": [
    "root_tree_to_csv()"
   ]
  },
  {
   "cell_type": "code",
   "execution_count": 73,
   "metadata": {},
   "outputs": [],
   "source": [
    "add_label_column()"
   ]
  },
  {
   "cell_type": "code",
   "execution_count": null,
   "metadata": {},
   "outputs": [],
   "source": [
    "file_merger()"
   ]
  }
 ],
 "metadata": {
  "kernelspec": {
   "display_name": "Python 2",
   "language": "python",
   "name": "python2"
  },
  "language_info": {
   "codemirror_mode": {
    "name": "ipython",
    "version": 3
   },
   "file_extension": ".py",
   "mimetype": "text/x-python",
   "name": "python",
   "nbconvert_exporter": "python",
   "pygments_lexer": "ipython3",
   "version": "3.7.3"
  }
 },
 "nbformat": 4,
 "nbformat_minor": 2
}
