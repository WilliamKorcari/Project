{
 "cells": [
  {
   "cell_type": "code",
   "execution_count": 1,
   "metadata": {},
   "outputs": [],
   "source": [
    "import numpy as np\n",
    "import pandas as pd\n",
    "import uproot\n",
    "import csv\n",
    "import os\n",
    "import glob"
   ]
  },
  {
   "cell_type": "markdown",
   "metadata": {},
   "source": [
    "#### Choose file to work with:"
   ]
  },
  {
   "cell_type": "code",
   "execution_count": 39,
   "metadata": {},
   "outputs": [],
   "source": [
    "def get_file_name():\n",
    "    \n",
    "    file_name = input(\"\\n What's the name of the file you want to open?\\n\")\n",
    "    if file_name is not '':\n",
    "        if os.path.isfile(file_name):\n",
    "            return file_name\n",
    "        else:\n",
    "            print('\\n No such file... Try again. \\n')\n",
    "            get_file_name()\n",
    "    else:\n",
    "        print (\"\\n No imput given... Try again. \\n\")\n",
    "        get_file_name()"
   ]
  },
  {
   "cell_type": "markdown",
   "metadata": {},
   "source": [
    "#### Get the names of all the trees in the file"
   ]
  },
  {
   "cell_type": "code",
   "execution_count": 53,
   "metadata": {},
   "outputs": [],
   "source": [
    "def get_tree_names(f_name):\n",
    "    \n",
    "    try:\n",
    "        f = uproot.open(f_name)\n",
    "        trees = f.keys()\n",
    "        tree_names=[]\n",
    "\n",
    "        print(\"\\n Tree names successfully stored. They are: \\n\")\n",
    "        for tree in trees:\n",
    "            tree = str(tree)\n",
    "            tree = tree[2:len(tree)-3]\n",
    "            tree_names.append(tree)\n",
    "            print(tree)\n",
    "            print('\\n')\n",
    "            \n",
    "        return tree_names\n",
    "\n",
    "    except:\n",
    "        print (\"\\n ERROR: Trees not found. Check your file before continuing...\\n\")\n",
    "    \n",
    "    \n"
   ]
  },
  {
   "cell_type": "code",
   "execution_count": null,
   "metadata": {},
   "outputs": [],
   "source": []
  },
  {
   "cell_type": "markdown",
   "metadata": {},
   "source": [
    "### Srotolo i tree e faccio tre singoli file "
   ]
  },
  {
   "cell_type": "code",
   "execution_count": 54,
   "metadata": {
    "scrolled": false
   },
   "outputs": [],
   "source": [
    "def root_tree_to_csv():\n",
    "\n",
    "    fname = get_file_name()\n",
    "    filesOut= []\n",
    "\n",
    "#    sgn_treename = 'signal_bbA_MA300tree'\n",
    "#    bkgttbar_treename = 'bkg_ttbar_nlotree'\n",
    "#    bkgDY_treename = 'bkg_DY_nlo1tree'\n",
    "    \n",
    "    woods = get_tree_names(fname)\n",
    "    \n",
    "    #print (woods)\n",
    "\n",
    "    for tree in woods:\n",
    "        print (\"Reading tree {} in file {}\".format(tree, fname))\n",
    "        data = uproot.open(fname)[tree]\n",
    "        names = data.keys()\n",
    "\n",
    "        #data.arrays(names)\n",
    "        out = pd.DataFrame.from_dict(data.arrays(names), dtype= str)\n",
    "        outfilename = tree + '.csv'\n",
    "        out.to_csv(outfilename)\n",
    "        filesOut.append(outfilename)\n",
    "        print ('created csv file ' + outfilename)"
   ]
  },
  {
   "cell_type": "code",
   "execution_count": null,
   "metadata": {
    "scrolled": true
   },
   "outputs": [
    {
     "name": "stdout",
     "output_type": "stream",
     "text": [
      "\n",
      " What's the name of the file you want to open?\n",
      "analysis.root\n",
      "\n",
      " Tree names successfully stored. They are: \n",
      "\n",
      "signal_bbA_MA300tree\n",
      "\n",
      "\n",
      "bkg_DY_nlo1tree\n",
      "\n",
      "\n",
      "bkg_ttbar_nlotree\n",
      "\n",
      "\n",
      "['signal_bbA_MA300tree', 'bkg_DY_nlo1tree', 'bkg_ttbar_nlotree']\n",
      "Reading tree signal_bbA_MA300tree in file analysis.root\n",
      "created csv file signal_bbA_MA300tree.csv\n",
      "Reading tree bkg_DY_nlo1tree in file analysis.root\n"
     ]
    }
   ],
   "source": [
    "\n",
    "root_tree_to_csv()"
   ]
  },
  {
   "cell_type": "markdown",
   "metadata": {},
   "source": [
    "#### Aggiungo la colonna con label"
   ]
  },
  {
   "cell_type": "code",
   "execution_count": null,
   "metadata": {},
   "outputs": [],
   "source": [
    "\n",
    "\n",
    "for file in filesOut:\n",
    "    reader = csv.reader(open(file, 'r'))\n",
    "    writer = csv.writer(open(\"__\" + file, 'w'))\n",
    "\n",
    "    headers = next(reader)\n",
    "    headers.append(\"label\")\n",
    "\n",
    "    writer.writerow(headers)\n",
    "    for row in reader:\n",
    "        if file == \"signal_bbA_MA300tree.csv\":\n",
    "            row.append(\"signal\")\n",
    "            writer.writerow(row)\n",
    "        else:\n",
    "            row.append(\"background\")\n",
    "            writer.writerow(row)"
   ]
  },
  {
   "cell_type": "markdown",
   "metadata": {},
   "source": [
    "### Unisco i tre file"
   ]
  },
  {
   "cell_type": "code",
   "execution_count": null,
   "metadata": {},
   "outputs": [],
   "source": [
    "\n",
    "os.chdir('/home/william/Tesi/')\n",
    "\n",
    "all_filenames = [file for file in glob.glob('__*')]\n",
    "#combine all files in the list\n",
    "combined_csv = pd.concat([pd.read_csv(f) for f in all_filenames ])\n",
    "#export to csv\n",
    "combined_csv.to_csv( \"analysis.csv\", index=False, encoding='utf-8-sig')"
   ]
  },
  {
   "cell_type": "code",
   "execution_count": 19,
   "metadata": {},
   "outputs": [],
   "source": [
    "\n",
    "\n",
    "names = '0123456789'"
   ]
  },
  {
   "cell_type": "code",
   "execution_count": 28,
   "metadata": {},
   "outputs": [],
   "source": [
    "a = names[2:len(names)-2]"
   ]
  },
  {
   "cell_type": "code",
   "execution_count": 29,
   "metadata": {},
   "outputs": [
    {
     "data": {
      "text/plain": [
       "'234567'"
      ]
     },
     "execution_count": 29,
     "metadata": {},
     "output_type": "execute_result"
    }
   ],
   "source": [
    "a"
   ]
  },
  {
   "cell_type": "code",
   "execution_count": null,
   "metadata": {},
   "outputs": [],
   "source": []
  }
 ],
 "metadata": {
  "kernelspec": {
   "display_name": "Python 2",
   "language": "python",
   "name": "python2"
  },
  "language_info": {
   "codemirror_mode": {
    "name": "ipython",
    "version": 3
   },
   "file_extension": ".py",
   "mimetype": "text/x-python",
   "name": "python",
   "nbconvert_exporter": "python",
   "pygments_lexer": "ipython3",
   "version": "3.7.3"
  }
 },
 "nbformat": 4,
 "nbformat_minor": 2
}
