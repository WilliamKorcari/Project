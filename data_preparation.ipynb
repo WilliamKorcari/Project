{
 "cells": [
  {
   "cell_type": "code",
   "execution_count": 1,
   "metadata": {},
   "outputs": [],
   "source": [
    "import numpy as np\n",
    "import pandas as pd\n",
    "import uproot\n",
    "import csv\n",
    "import os\n",
    "import glob"
   ]
  },
  {
   "cell_type": "markdown",
   "metadata": {},
   "source": [
    "### Srotolo i tree e faccio tre singoli file "
   ]
  },
  {
   "cell_type": "code",
   "execution_count": 2,
   "metadata": {
    "scrolled": false
   },
   "outputs": [
    {
     "name": "stdout",
     "output_type": "stream",
     "text": [
      "Reading trees signal_bbA_MA300tree in file analysis.root\n",
      "created csv filesignal_bbA_MA300tree.csv\n",
      "Reading trees bkg_ttbar_nlotree in file analysis.root\n",
      "created csv filebkg_ttbar_nlotree.csv\n",
      "Reading trees bkg_DY_nlo1tree in file analysis.root\n",
      "created csv filebkg_DY_nlo1tree.csv\n"
     ]
    }
   ],
   "source": [
    "\n",
    "def get_file_name():\n",
    "    \n",
    "    file_name = raw_input(\"\\n What's the name of the file you want to open?\\n\")\n",
    "    if filen_name is not '':\n",
    "        if os.path.isfile(file_name):\n",
    "            return file_name\n",
    "        else:\n",
    "            print('\\n No such file... Try again. \\n')\n",
    "            get_file_name()\n",
    "    else:\n",
    "        print (\"\\n No imput given... Try again. \\n\")\n",
    "        get_file_name()\n",
    "\n",
    "\n",
    "def get_tree_names(f_name):\n",
    "    \n",
    "    try:\n",
    "        f = uproot.open(f_name)\n",
    "        tree_names = np.array(f.keys())\n",
    "        print(\"\\n Tree names successfully stored. \\n\")\n",
    "        return tree_names\n",
    "    except:\n",
    "        print (\"\\n File or trees not found. Check your file before continuing... \\n\")\n",
    "    \n",
    "\n",
    "    \n",
    "\n",
    "def root_tree_to_csv(fname):\n",
    "\n",
    "    fname = get_file_name()\n",
    "    fileIn = fname\n",
    "    filesOut= []\n",
    "\n",
    "#    sgn_treename = 'signal_bbA_MA300tree'\n",
    "#    bkgttbar_treename = 'bkg_ttbar_nlotree'\n",
    "#    bkgDY_treename = 'bkg_DY_nlo1tree'\n",
    "    \n",
    "    woods = get_tree_names(fname)\n",
    "\n",
    "    for tree in woods:\n",
    "        print (\"Reading trees {} in file {}\".format(tree, fileIn))\n",
    "        data = uproot.open(fileIn)[tree]\n",
    "        names = data.keys()\n",
    "\n",
    "        #data.arrays(names)\n",
    "        out = pd.DataFrame.from_dict(data.arrays(names))\n",
    "        outfilename = tree + '.csv'\n",
    "        out.to_csv(outfilename)\n",
    "        filesOut.append(outfilename)\n",
    "        print ('created csv file' + outfilename)"
   ]
  },
  {
   "cell_type": "markdown",
   "metadata": {},
   "source": [
    "#### Aggiungo la colonna con label"
   ]
  },
  {
   "cell_type": "code",
   "execution_count": 9,
   "metadata": {},
   "outputs": [],
   "source": [
    "\n",
    "\n",
    "for file in filesOut:\n",
    "    reader = csv.reader(open(file, 'r'))\n",
    "    writer = csv.writer(open(\"__\" + file, 'w'))\n",
    "\n",
    "    headers = next(reader)\n",
    "    headers.append(\"label\")\n",
    "\n",
    "    writer.writerow(headers)\n",
    "    for row in reader:\n",
    "        if file == \"signal_bbA_MA300tree.csv\":\n",
    "            row.append(\"signal\")\n",
    "            writer.writerow(row)\n",
    "        else:\n",
    "            row.append(\"background\")\n",
    "            writer.writerow(row)"
   ]
  },
  {
   "cell_type": "markdown",
   "metadata": {},
   "source": [
    "### Unisco i tre file"
   ]
  },
  {
   "cell_type": "code",
   "execution_count": null,
   "metadata": {},
   "outputs": [],
   "source": [
    "\n",
    "os.chdir('/home/william/Tesi/')\n",
    "\n",
    "all_filenames = [file for file in glob.glob('__*')]\n",
    "#combine all files in the list\n",
    "combined_csv = pd.concat([pd.read_csv(f) for f in all_filenames ])\n",
    "#export to csv\n",
    "combined_csv.to_csv( \"analysis.csv\", index=False, encoding='utf-8-sig')"
   ]
  },
  {
   "cell_type": "code",
   "execution_count": 2,
   "metadata": {},
   "outputs": [],
   "source": [
    "\n",
    "\n",
    "file = uproot.open(\"analysis (1).root\")"
   ]
  },
  {
   "cell_type": "code",
   "execution_count": 15,
   "metadata": {},
   "outputs": [
    {
     "data": {
      "text/plain": [
       "[(b'signal_bbA_MA300tree;1',\n",
       "  <TTree b'signal_bbA_MA300tree' at 0x7f3b55a75470>),\n",
       " (b'bkg_DY_nlo1tree;1', <TTree b'bkg_DY_nlo1tree' at 0x7f3b55a806a0>),\n",
       " (b'bkg_ttbar_nlotree;1', <TTree b'bkg_ttbar_nlotree' at 0x7f3b55a54908>)]"
      ]
     },
     "execution_count": 15,
     "metadata": {},
     "output_type": "execute_result"
    }
   ],
   "source": [
    "file.items()"
   ]
  },
  {
   "cell_type": "code",
   "execution_count": 18,
   "metadata": {},
   "outputs": [],
   "source": [
    "arr = np.array(file.keys())"
   ]
  },
  {
   "cell_type": "code",
   "execution_count": 19,
   "metadata": {},
   "outputs": [
    {
     "data": {
      "text/plain": [
       "array([b'signal_bbA_MA300tree;1', b'bkg_DY_nlo1tree;1',\n",
       "       b'bkg_ttbar_nlotree;1'], dtype='|S22')"
      ]
     },
     "execution_count": 19,
     "metadata": {},
     "output_type": "execute_result"
    }
   ],
   "source": [
    "arr"
   ]
  },
  {
   "cell_type": "code",
   "execution_count": 13,
   "metadata": {},
   "outputs": [
    {
     "data": {
      "text/plain": [
       "b'signal_bbA_MA300tree;1'"
      ]
     },
     "execution_count": 13,
     "metadata": {},
     "output_type": "execute_result"
    }
   ],
   "source": [
    "arr[0]"
   ]
  },
  {
   "cell_type": "code",
   "execution_count": null,
   "metadata": {},
   "outputs": [],
   "source": []
  }
 ],
 "metadata": {
  "kernelspec": {
   "display_name": "Python 2",
   "language": "python",
   "name": "python2"
  },
  "language_info": {
   "codemirror_mode": {
    "name": "ipython",
    "version": 3
   },
   "file_extension": ".py",
   "mimetype": "text/x-python",
   "name": "python",
   "nbconvert_exporter": "python",
   "pygments_lexer": "ipython3",
   "version": "3.7.3"
  }
 },
 "nbformat": 4,
 "nbformat_minor": 2
}
