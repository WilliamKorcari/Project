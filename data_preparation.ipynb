{
 "cells": [
  {
   "cell_type": "code",
   "execution_count": 1,
   "metadata": {},
   "outputs": [],
   "source": [
    "import numpy as np\n",
    "import pandas as pd\n",
    "import uproot"
   ]
  },
  {
   "cell_type": "markdown",
   "metadata": {},
   "source": [
    "### Srotolo i tree e faccio tre singoli file "
   ]
  },
  {
   "cell_type": "code",
   "execution_count": 2,
   "metadata": {
    "scrolled": false
   },
   "outputs": [
    {
     "name": "stdout",
     "output_type": "stream",
     "text": [
      "Reading trees signal_bbA_MA300tree in file analysis.root\n",
      "created csv filesignal_bbA_MA300tree.csv\n",
      "Reading trees bkg_ttbar_nlotree in file analysis.root\n",
      "created csv filebkg_ttbar_nlotree.csv\n",
      "Reading trees bkg_DY_nlo1tree in file analysis.root\n",
      "created csv filebkg_DY_nlo1tree.csv\n"
     ]
    }
   ],
   "source": [
    "fname = 'analysis.root'\n",
    "fileIn = fname\n",
    "filesOut= []\n",
    "\n",
    "sgn_treename = 'signal_bbA_MA300tree'\n",
    "bkgttbar_treename = 'bkg_ttbar_nlotree'\n",
    "bkgDY_treename = 'bkg_DY_nlo1tree'\n",
    "hood = [sgn_treename, bkgttbar_treename, bkgDY_treename]\n",
    "\n",
    "for tree in hood:\n",
    "    print (\"Reading trees {} in file {}\".format(tree, fileIn))\n",
    "    data = uproot.open(fileIn)[tree]\n",
    "    names = data.keys()\n",
    "    \n",
    "    #data.arrays(names)\n",
    "    out = pd.DataFrame.from_dict(data.arrays(names))\n",
    "    outfilename = tree + '.csv'\n",
    "    out.to_csv(outfilename)\n",
    "    filesOut.append(outfilename)\n",
    "    print ('created csv file' + outfilename)"
   ]
  },
  {
   "cell_type": "markdown",
   "metadata": {},
   "source": [
    "#### Aggiungo la colonna con label"
   ]
  },
  {
   "cell_type": "code",
   "execution_count": 9,
   "metadata": {},
   "outputs": [],
   "source": [
    "import csv\n",
    "\n",
    "for file in filesOut:\n",
    "    reader = csv.reader(open(file, 'r'))\n",
    "    writer = csv.writer(open(\"__\" + file, 'w'))\n",
    "\n",
    "    headers = next(reader)\n",
    "    headers.append(\"label\")\n",
    "\n",
    "    writer.writerow(headers)\n",
    "    for row in reader:\n",
    "        if file == \"signal_bbA_MA300tree.csv\":\n",
    "            row.append(\"signal\")\n",
    "            writer.writerow(row)\n",
    "        else:\n",
    "            row.append(\"background\")\n",
    "            writer.writerow(row)"
   ]
  },
  {
   "cell_type": "markdown",
   "metadata": {},
   "source": [
    "### Unisco i tre file"
   ]
  },
  {
   "cell_type": "code",
   "execution_count": null,
   "metadata": {},
   "outputs": [],
   "source": [
    "import os\n",
    "import glob\n",
    "\n",
    "\n",
    "os.chdir('/home/william/Tesi/')\n",
    "\n",
    "all_filenames = [file for file in glob.glob('__*')]\n",
    "#combine all files in the list\n",
    "combined_csv = pd.concat([pd.read_csv(f) for f in all_filenames ])\n",
    "#export to csv\n",
    "combined_csv.to_csv( \"analysis.csv\", index=False, encoding='utf-8-sig')"
   ]
  },
  {
   "cell_type": "code",
   "execution_count": null,
   "metadata": {},
   "outputs": [],
   "source": []
  }
 ],
 "metadata": {
  "kernelspec": {
   "display_name": "Python 2",
   "language": "python",
   "name": "python2"
  },
  "language_info": {
   "codemirror_mode": {
    "name": "ipython",
    "version": 3
   },
   "file_extension": ".py",
   "mimetype": "text/x-python",
   "name": "python",
   "nbconvert_exporter": "python",
   "pygments_lexer": "ipython3",
   "version": "3.7.3"
  }
 },
 "nbformat": 4,
 "nbformat_minor": 2
}
