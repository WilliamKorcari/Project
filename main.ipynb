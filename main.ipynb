{
 "cells": [
  {
   "cell_type": "code",
   "execution_count": 1,
   "metadata": {},
   "outputs": [],
   "source": [
    "import conversion_tools as conv\n",
    "import classification_tools as ct"
   ]
  },
  {
   "cell_type": "code",
   "execution_count": 9,
   "metadata": {
    "scrolled": true
   },
   "outputs": [
    {
     "name": "stdout",
     "output_type": "stream",
     "text": [
      "\n",
      " Tree names successfully stored. They are: \n",
      "\n",
      "ntuple\n",
      "\n",
      "\n",
      "\n",
      "Overwriting tree ntuple in file <ROOTDirectory b'sample.root' at 0x7fe4d38b2520>\n",
      "\n",
      "Created csv file ntuple.csv\n",
      "The following files will be modified: \n",
      "\n",
      "['ntuple.csv']\n",
      "\n",
      "\n",
      "\n",
      "Writing l_ntuple.csv\n",
      "Created l_ntuple.csv\n",
      "Overwriting already existing file analysis.csv\n"
     ]
    }
   ],
   "source": [
    "conv.converter('sample.root', overwrite_trees = True, overwrite_csv = True)"
   ]
  },
  {
   "cell_type": "markdown",
   "metadata": {
    "scrolled": true
   },
   "source": [
    "ct.classifier('analysis.csv', 1, 14, 13, 30000, 2)\n"
   ]
  },
  {
   "cell_type": "code",
   "execution_count": 4,
   "metadata": {},
   "outputs": [],
   "source": []
  },
  {
   "cell_type": "code",
   "execution_count": null,
   "metadata": {},
   "outputs": [],
   "source": []
  }
 ],
 "metadata": {
  "kernelspec": {
   "display_name": "Python 3",
   "language": "python",
   "name": "python3"
  },
  "language_info": {
   "codemirror_mode": {
    "name": "ipython",
    "version": 3
   },
   "file_extension": ".py",
   "mimetype": "text/x-python",
   "name": "python",
   "nbconvert_exporter": "python",
   "pygments_lexer": "ipython3",
   "version": "3.8.2"
  }
 },
 "nbformat": 4,
 "nbformat_minor": 4
}
