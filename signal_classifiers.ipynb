{
 "cells": [
  {
   "cell_type": "code",
   "execution_count": 1,
   "metadata": {},
   "outputs": [],
   "source": [
    "import os\n",
    "import tempfile\n",
    "\n",
    "#numpy\n",
    "import numpy as np\n",
    "# pandas\n",
    "from pandas import read_csv\n",
    "# matplotlib\n",
    "import matplotlib as mpl\n",
    "import matplotlib.pyplot as plt\n",
    "\n",
    "%matplotlib inline\n",
    "#teras\n",
    "import tensorflow as tf\n",
    "from tensorflow.keras import regularizers\n",
    "from tensorflow.keras.models import Sequential\n",
    "from tensorflow.keras.layers import Dense, Dropout, BatchNormalization\n",
    "from tensorflow.keras.utils import to_categorical\n",
    "from tensorflow.keras.metrics import AUC, Accuracy, Precision, Recall\n",
    "from tensorflow.keras.optimizers import Adam\n",
    "from tensorflow.keras.callbacks import ModelCheckpoint\n",
    "\n",
    "\n",
    "# sklearn\n",
    "from sklearn.preprocessing import LabelEncoder\n",
    "from sklearn.pipeline import Pipeline\n",
    "from sklearn.model_selection import train_test_split\n",
    "from sklearn.model_selection import cross_val_score\n",
    "from sklearn.model_selection import KFold\n",
    "from sklearn.utils.multiclass import unique_labels\n",
    "from sklearn.metrics import confusion_matrix\n",
    "from sklearn.preprocessing import StandardScaler"
   ]
  },
  {
   "cell_type": "code",
   "execution_count": 53,
   "metadata": {},
   "outputs": [],
   "source": [
    "mpl.rcParams['figure.figsize'] = (12, 10)\n",
    "colors = plt.rcParams['axes.prop_cycle'].by_key()['color']"
   ]
  },
  {
   "cell_type": "code",
   "execution_count": null,
   "metadata": {},
   "outputs": [],
   "source": []
  },
  {
   "cell_type": "code",
   "execution_count": null,
   "metadata": {},
   "outputs": [],
   "source": [
    "def plot_metrics(history):\n",
    "    metrics =  ['loss', 'AUC', 'precision', 'recall']\n",
    "    for n, metric in enumerate(metrics):\n",
    "        name = metric.replace(\"_\",\" \").capitalize()\n",
    "        plt.subplot(2,2,n+1)\n",
    "        plt.plot(history.epoch,  history.history[metric], color=colors[0], label='Train')\n",
    "        plt.plot(history.epoch, history.history['val_'+metric],\n",
    "                 color=colors[0], linestyle=\"--\", label='Val')\n",
    "        plt.xlabel('Epoch')\n",
    "        plt.ylabel(name)\n",
    "        if metric == 'loss':\n",
    "            plt.ylim([0, plt.ylim()[1]])\n",
    "        elif metric == 'auc':\n",
    "            plt.ylim([0.8,1])\n",
    "        else:\n",
    "            plt.ylim([0,1])\n",
    "\n",
    "        plt.legend()"
   ]
  },
  {
   "cell_type": "code",
   "execution_count": null,
   "metadata": {},
   "outputs": [],
   "source": [
    "def plot_confusion_matrix(y_true, y_pred, classes,\n",
    "                          class_names = None,\n",
    "                          normalize=False,\n",
    "                          title=None,\n",
    "                          cmap=plt.cm.Greens):\n",
    "    \"\"\"\n",
    "    This function prints and plots the confusion matrix.\n",
    "    Normalization can be applied by setting `normalize=True`.\n",
    "    \"\"\"\n",
    "    if not title:\n",
    "        if normalize:\n",
    "            title = 'Normalized confusion matrix'\n",
    "        else:\n",
    "            title = 'Confusion matrix, without normalization'\n",
    "\n",
    "    # Compute confusion matrix\n",
    "    cm = confusion_matrix(y_true, y_pred)\n",
    "    # Only use the labels that appear in the data\n",
    "    classes = classes[unique_labels(y_true, y_pred)]\n",
    "    if normalize:\n",
    "        cm = cm.astype('float') / cm.sum(axis=1)[:, np.newaxis]\n",
    "        print(\"Normalized confusion matrix\")\n",
    "    else:\n",
    "        print('Confusion matrix, without normalization')\n",
    "\n",
    "    print(cm)\n",
    "\n",
    "    fig, ax = plt.subplots()\n",
    "    im = ax.imshow(cm, interpolation='nearest', cmap=cmap)\n",
    "    ax.figure.colorbar(im, ax=ax)\n",
    "    # We want to show all ticks...\n",
    "    if class_names is None:\n",
    "        x_labels = y_labels = classes\n",
    "    else:\n",
    "        x_labels = y_labels = class_names\n",
    "    ax.set(xticks=np.arange(cm.shape[1]),\n",
    "           yticks=np.arange(cm.shape[0]),\n",
    "           # ... and label them with the respective list entries\n",
    "           xticklabels=x_labels, yticklabels=y_labels,\n",
    "           title=title,\n",
    "           ylabel='True label',\n",
    "           xlabel='Predicted label')\n",
    "\n",
    "    # Rotate the tick labels and set their alignment.\n",
    "    plt.setp(ax.get_xticklabels(), rotation=45, ha=\"right\",\n",
    "             rotation_mode=\"anchor\")\n",
    "\n",
    "    # Loop over data dimensions and create text annotations.\n",
    "    fmt = '.2f' if normalize else 'd'\n",
    "    thresh = cm.max() / 2.\n",
    "    for i in range(cm.shape[0]):\n",
    "        for j in range(cm.shape[1]):\n",
    "            ax.text(j, i, format(cm[i, j], fmt),\n",
    "                    ha=\"center\", va=\"center\",\n",
    "                    color=\"white\" if cm[i, j] > thresh else \"black\")\n",
    "    fig.tight_layout()\n",
    "    return ax"
   ]
  },
  {
   "cell_type": "code",
   "execution_count": 91,
   "metadata": {},
   "outputs": [],
   "source": [
    "METRICS = [\n",
    "    AUC(name = 'AUC'),\n",
    "    Accuracy(name = 'accuracy'),\n",
    "    Precision(name = 'precision'),\n",
    "    Recall(name = 'recall')    \n",
    "]\n",
    "\n",
    "\n",
    "def make_model(metrics = METRICS, output_bias = None):   \n",
    "    \n",
    "    if output_bias is not None:\n",
    "        output_bias = tf.keras.initializers.Constant(output_bias)    \n",
    "    #Initialising NN\n",
    "    model = Sequential()\n",
    "\n",
    "    #First layer\n",
    "    model.add(Dense(8, activation='relu', input_shape=(13,)))\n",
    "    #model.add(BatchNormalization())\n",
    "    model.add(Dropout(0.5))\n",
    "\n",
    "    #Second layer\n",
    "    model.add(Dense(12, activation='relu'))\n",
    "   # model.add(BatchNormalization())\n",
    "    model.add(Dropout(0.5))\n",
    "\n",
    "    model.add(Dense(2, activation='sigmoid'))\n",
    "\n",
    "\n",
    "    model.compile(loss='binary_crossentropy', \n",
    "                  optimizer=Adam(lr= 0.001),\n",
    "                  metrics=metrics\n",
    "                 )\n",
    "    return model"
   ]
  },
  {
   "cell_type": "markdown",
   "metadata": {},
   "source": [
    "###"
   ]
  },
  {
   "cell_type": "code",
   "execution_count": 2,
   "metadata": {},
   "outputs": [],
   "source": [
    "seed = 11\n",
    "np.random.seed(seed)\n"
   ]
  },
  {
   "cell_type": "code",
   "execution_count": 3,
   "metadata": {},
   "outputs": [
    {
     "name": "stdout",
     "output_type": "stream",
     "text": [
      "\n",
      "Which is the name of the dataset? analysis.csv\n",
      "\n",
      "Select first column: \n",
      "2\n",
      "\n",
      "Select last col: \n",
      "15\n"
     ]
    }
   ],
   "source": [
    "# load dataset\n",
    "dataset = input('\\nWhich is the name of the dataset? ')\n",
    "dataframe = read_csv(dataset, header=0)\n",
    "dataset = dataframe.values\n",
    "#dataset = np.random.shuffle(dataset)\n",
    "first_col = input(\"\\nSelect first column: \\n\") #2\n",
    "last_col = input('\\nSelect last col: \\n')          #15\n",
    "\n",
    "X = dataset[:,int(first_col):int(last_col)].astype(float)   # columns from 3rd to 14th into X\n",
    "Y = dataset[:,int(last_col)] #label column (15th) into Y "
   ]
  },
  {
   "cell_type": "code",
   "execution_count": 4,
   "metadata": {},
   "outputs": [],
   "source": [
    "#Encode class values as integers\n",
    "encoder = LabelEncoder()\n",
    "encoder.fit(Y)\n",
    "encoded_Y = encoder.transform(Y)\n",
    "\n",
    "#One-hot encoding\n",
    "transformed_Y = to_categorical(encoded_Y)"
   ]
  },
  {
   "cell_type": "code",
   "execution_count": 5,
   "metadata": {},
   "outputs": [
    {
     "name": "stdout",
     "output_type": "stream",
     "text": [
      "Samples:\n",
      " Total: 3800033\n",
      " Background: 3713773 \n",
      " Signal: 86260 \n",
      " Signal samples are 2.27% of the total\n"
     ]
    }
   ],
   "source": [
    "bkg, sgn = np.bincount(encoded_Y)\n",
    "\n",
    "total =  bkg + sgn\n",
    "print('Samples:\\n Total: {}\\n Background: {} \\n Signal: {} \\n Signal samples are {:.2f}% of the total'.format(total, bkg, sgn, 100*sgn/total))"
   ]
  },
  {
   "cell_type": "code",
   "execution_count": null,
   "metadata": {},
   "outputs": [],
   "source": [
    "weight_for_0 = (1 / bkg)*(total)/2.0\n",
    "weight_for_1 = (1 / sgn)*(total)/2.0\n",
    "\n",
    "\n",
    "class_weight = {0: weight_for_0, 1: weight_for_1}\n",
    "\n",
    "print('Weight for class 0: {:.2f}'.format(weight_for_0))\n",
    "print('Weight for class 1: {:.2f}'.format(weight_for_1))"
   ]
  },
  {
   "cell_type": "code",
   "execution_count": 6,
   "metadata": {
    "scrolled": true
   },
   "outputs": [],
   "source": [
    "X_train, X_test, Y_train, Y_test = train_test_split(X,\n",
    "                                                    transformed_Y,\n",
    "                                                    test_size=0.25,\n",
    "                                                    random_state=seed,\n",
    "                                                    shuffle = True)\n",
    "\n",
    "scaler = StandardScaler()\n",
    "X_train =scaler.fit_transform(X_train)\n",
    "X_test = scaler.transform(X_test)\n",
    "\n"
   ]
  },
  {
   "cell_type": "code",
   "execution_count": 7,
   "metadata": {},
   "outputs": [
    {
     "name": "stdout",
     "output_type": "stream",
     "text": [
      "Training labels shape: (2850024, 2)\n",
      "Validation labels shape: (950009, 2)\n",
      "Training features shape: (2850024, 13)\n",
      "Validation features shape: (950009, 13)\n"
     ]
    }
   ],
   "source": [
    "print('Training labels shape:', Y_train.shape)\n",
    "print('Validation labels shape:', Y_test.shape)\n",
    "\n",
    "\n",
    "print('Training features shape:', X_train.shape)\n",
    "print('Validation features shape:', X_test.shape)"
   ]
  },
  {
   "cell_type": "code",
   "execution_count": 92,
   "metadata": {},
   "outputs": [],
   "source": [
    "EPOCHS = 100\n",
    "BATCH_SIZE = 150000\n",
    "val_data = (X_test,Y_test)\n",
    "#checkpoint = ModelCheckpoint(\"model_weights.h5\", monitor='val_precision', verbose=1, save_best_only=True, mode='max')\n",
    "#callbacks_list = [checkpoint]\n",
    "early_stopping = tf.keras.callbacks.EarlyStopping(\n",
    "    monitor = 'val_loss',\n",
    "    verbose = 1,\n",
    "    patience = 200,\n",
    "    mode = 'min',\n",
    "    restore_best_weights = True)\n",
    "\n"
   ]
  },
  {
   "cell_type": "code",
   "execution_count": 74,
   "metadata": {},
   "outputs": [
    {
     "name": "stdout",
     "output_type": "stream",
     "text": [
      "Model: \"sequential_9\"\n",
      "_________________________________________________________________\n",
      "Layer (type)                 Output Shape              Param #   \n",
      "=================================================================\n",
      "dense_27 (Dense)             (None, 8)                 112       \n",
      "_________________________________________________________________\n",
      "dropout_18 (Dropout)         (None, 8)                 0         \n",
      "_________________________________________________________________\n",
      "dense_28 (Dense)             (None, 12)                108       \n",
      "_________________________________________________________________\n",
      "dropout_19 (Dropout)         (None, 12)                0         \n",
      "_________________________________________________________________\n",
      "dense_29 (Dense)             (None, 2)                 26        \n",
      "=================================================================\n",
      "Total params: 246\n",
      "Trainable params: 246\n",
      "Non-trainable params: 0\n",
      "_________________________________________________________________\n"
     ]
    }
   ],
   "source": [
    "model = make_model()\n",
    "model.summary()"
   ]
  },
  {
   "cell_type": "code",
   "execution_count": 25,
   "metadata": {},
   "outputs": [],
   "source": [
    "initial_weights = os.path.join(tempfile.mkdtemp(),'initial_weights')\n",
    "model.save_weights(initial_weights)"
   ]
  },
  {
   "cell_type": "code",
   "execution_count": 93,
   "metadata": {},
   "outputs": [
    {
     "data": {
      "text/plain": [
       "<tensorflow.python.training.tracking.util.CheckpointLoadStatus at 0x7f77f1e96780>"
      ]
     },
     "execution_count": 93,
     "metadata": {},
     "output_type": "execute_result"
    }
   ],
   "source": [
    "model = make_model()\n",
    "model.load_weights(initial_weights)"
   ]
  },
  {
   "cell_type": "code",
   "execution_count": 94,
   "metadata": {
    "scrolled": true
   },
   "outputs": [
    {
     "name": "stdout",
     "output_type": "stream",
     "text": [
      "Train on 2850024 samples, validate on 950009 samples\n",
      "Epoch 1/100\n",
      "2850024/2850024 [==============================] - 10s 3us/sample - loss: 0.5887 - AUC: 0.7112 - accuracy: 0.0015 - precision: 0.6739 - recall: 0.6115 - val_loss: 0.5311 - val_AUC: 0.7695 - val_accuracy: 1.5789e-06 - val_precision: 0.6702 - val_recall: 0.6648\n",
      "Epoch 2/100\n",
      "2850024/2850024 [==============================] - 9s 3us/sample - loss: 0.5879 - AUC: 0.7105 - accuracy: 0.0015 - precision: 0.6731 - recall: 0.6109 - val_loss: 0.5307 - val_AUC: 0.7702 - val_accuracy: 2.6316e-06 - val_precision: 0.6711 - val_recall: 0.6656\n",
      "Epoch 3/100\n",
      "2850024/2850024 [==============================] - 9s 3us/sample - loss: 0.5883 - AUC: 0.7107 - accuracy: 0.0015 - precision: 0.6733 - recall: 0.6113 - val_loss: 0.5309 - val_AUC: 0.7697 - val_accuracy: 1.5789e-06 - val_precision: 0.6702 - val_recall: 0.6646\n",
      "Epoch 4/100\n",
      "2850024/2850024 [==============================] - 9s 3us/sample - loss: 0.5882 - AUC: 0.7071 - accuracy: 0.0015 - precision: 0.6698 - recall: 0.6080 - val_loss: 0.5331 - val_AUC: 0.7637 - val_accuracy: 5.2631e-07 - val_precision: 0.6633 - val_recall: 0.6581\n",
      "Epoch 5/100\n",
      "2850024/2850024 [==============================] - 9s 3us/sample - loss: 0.5880 - AUC: 0.7055 - accuracy: 0.0015 - precision: 0.6682 - recall: 0.6070 - val_loss: 0.5330 - val_AUC: 0.7638 - val_accuracy: 1.0526e-06 - val_precision: 0.6635 - val_recall: 0.6583\n",
      "Epoch 6/100\n",
      "2850024/2850024 [==============================] - 9s 3us/sample - loss: 0.5883 - AUC: 0.7054 - accuracy: 0.0015 - precision: 0.6680 - recall: 0.6068 - val_loss: 0.5331 - val_AUC: 0.7632 - val_accuracy: 1.5789e-06 - val_precision: 0.6625 - val_recall: 0.6574\n",
      "Epoch 7/100\n",
      "2850024/2850024 [==============================] - 10s 3us/sample - loss: 0.5887 - AUC: 0.7040 - accuracy: 0.0015 - precision: 0.6668 - recall: 0.6060 - val_loss: 0.5335 - val_AUC: 0.7619 - val_accuracy: 1.0526e-06 - val_precision: 0.6609 - val_recall: 0.6559\n",
      "Epoch 8/100\n",
      "2850024/2850024 [==============================] - 10s 3us/sample - loss: 0.5892 - AUC: 0.7040 - accuracy: 0.0015 - precision: 0.6664 - recall: 0.6057 - val_loss: 0.5330 - val_AUC: 0.7630 - val_accuracy: 5.2631e-07 - val_precision: 0.6621 - val_recall: 0.6570\n",
      "Epoch 9/100\n",
      "2850024/2850024 [==============================] - 9s 3us/sample - loss: 0.5885 - AUC: 0.7052 - accuracy: 0.0016 - precision: 0.6676 - recall: 0.6066 - val_loss: 0.5325 - val_AUC: 0.7644 - val_accuracy: 0.0000e+00 - val_precision: 0.6638 - val_recall: 0.6587\n",
      "Epoch 10/100\n",
      "2850024/2850024 [==============================] - 9s 3us/sample - loss: 0.5879 - AUC: 0.7061 - accuracy: 0.0015 - precision: 0.6686 - recall: 0.6077 - val_loss: 0.5320 - val_AUC: 0.7658 - val_accuracy: 1.5789e-06 - val_precision: 0.6654 - val_recall: 0.6603\n",
      "Epoch 11/100\n",
      "2850024/2850024 [==============================] - 9s 3us/sample - loss: 0.5874 - AUC: 0.7064 - accuracy: 0.0015 - precision: 0.6688 - recall: 0.6080 - val_loss: 0.5323 - val_AUC: 0.7648 - val_accuracy: 1.5789e-06 - val_precision: 0.6638 - val_recall: 0.6588\n",
      "Epoch 12/100\n",
      "2850024/2850024 [==============================] - 9s 3us/sample - loss: 0.5889 - AUC: 0.7050 - accuracy: 0.0014 - precision: 0.6677 - recall: 0.6074 - val_loss: 0.5330 - val_AUC: 0.7629 - val_accuracy: 1.5789e-06 - val_precision: 0.6616 - val_recall: 0.6567\n",
      "Epoch 13/100\n",
      "2850024/2850024 [==============================] - 9s 3us/sample - loss: 0.5886 - AUC: 0.7048 - accuracy: 0.0015 - precision: 0.6677 - recall: 0.6079 - val_loss: 0.5329 - val_AUC: 0.7634 - val_accuracy: 1.5789e-06 - val_precision: 0.6624 - val_recall: 0.6576\n",
      "Epoch 14/100\n",
      "2850024/2850024 [==============================] - 9s 3us/sample - loss: 0.5876 - AUC: 0.7053 - accuracy: 0.0015 - precision: 0.6680 - recall: 0.6084 - val_loss: 0.5329 - val_AUC: 0.7634 - val_accuracy: 5.2631e-07 - val_precision: 0.6623 - val_recall: 0.6574\n",
      "Epoch 15/100\n",
      "2850024/2850024 [==============================] - 9s 3us/sample - loss: 0.5879 - AUC: 0.7054 - accuracy: 0.0015 - precision: 0.6683 - recall: 0.6094 - val_loss: 0.5326 - val_AUC: 0.7638 - val_accuracy: 5.2631e-07 - val_precision: 0.6627 - val_recall: 0.6578\n",
      "Epoch 16/100\n",
      "2850024/2850024 [==============================] - 9s 3us/sample - loss: 0.5881 - AUC: 0.7061 - accuracy: 0.0015 - precision: 0.6690 - recall: 0.6105 - val_loss: 0.5320 - val_AUC: 0.7652 - val_accuracy: 1.5789e-06 - val_precision: 0.6642 - val_recall: 0.6593\n",
      "Epoch 17/100\n",
      "2850024/2850024 [==============================] - 9s 3us/sample - loss: 0.5883 - AUC: 0.7075 - accuracy: 0.0015 - precision: 0.6703 - recall: 0.6123 - val_loss: 0.5315 - val_AUC: 0.7664 - val_accuracy: 1.0526e-06 - val_precision: 0.6654 - val_recall: 0.6605\n",
      "Epoch 18/100\n",
      "2850024/2850024 [==============================] - 9s 3us/sample - loss: 0.5878 - AUC: 0.7074 - accuracy: 0.0015 - precision: 0.6702 - recall: 0.6124 - val_loss: 0.5315 - val_AUC: 0.7660 - val_accuracy: 1.5789e-06 - val_precision: 0.6644 - val_recall: 0.6596\n",
      "Epoch 19/100\n",
      "2850024/2850024 [==============================] - 9s 3us/sample - loss: 0.5881 - AUC: 0.7079 - accuracy: 0.0015 - precision: 0.6705 - recall: 0.6131 - val_loss: 0.5310 - val_AUC: 0.7673 - val_accuracy: 5.2631e-07 - val_precision: 0.6660 - val_recall: 0.6612\n",
      "Epoch 20/100\n",
      "2850024/2850024 [==============================] - 9s 3us/sample - loss: 0.5869 - AUC: 0.7092 - accuracy: 0.0015 - precision: 0.6718 - recall: 0.6143 - val_loss: 0.5305 - val_AUC: 0.7686 - val_accuracy: 5.2631e-07 - val_precision: 0.6674 - val_recall: 0.6626\n",
      "Epoch 21/100\n",
      "2850024/2850024 [==============================] - 9s 3us/sample - loss: 0.5880 - AUC: 0.7101 - accuracy: 0.0015 - precision: 0.6727 - recall: 0.6159 - val_loss: 0.5304 - val_AUC: 0.7687 - val_accuracy: 1.0526e-06 - val_precision: 0.6673 - val_recall: 0.6626\n",
      "Epoch 22/100\n",
      "2850024/2850024 [==============================] - 9s 3us/sample - loss: 0.5881 - AUC: 0.7103 - accuracy: 0.0015 - precision: 0.6730 - recall: 0.6162 - val_loss: 0.5300 - val_AUC: 0.7697 - val_accuracy: 1.5789e-06 - val_precision: 0.6684 - val_recall: 0.6637\n",
      "Epoch 23/100\n",
      "2850024/2850024 [==============================] - 9s 3us/sample - loss: 0.5877 - AUC: 0.7100 - accuracy: 0.0015 - precision: 0.6727 - recall: 0.6157 - val_loss: 0.5300 - val_AUC: 0.7696 - val_accuracy: 0.0000e+00 - val_precision: 0.6682 - val_recall: 0.6634\n",
      "Epoch 24/100\n",
      "2850024/2850024 [==============================] - 9s 3us/sample - loss: 0.5870 - AUC: 0.7111 - accuracy: 0.0015 - precision: 0.6735 - recall: 0.6168 - val_loss: 0.5298 - val_AUC: 0.7701 - val_accuracy: 1.5789e-06 - val_precision: 0.6688 - val_recall: 0.6640\n",
      "Epoch 25/100\n",
      "2850024/2850024 [==============================] - 9s 3us/sample - loss: 0.5873 - AUC: 0.7118 - accuracy: 0.0016 - precision: 0.6743 - recall: 0.6176 - val_loss: 0.5293 - val_AUC: 0.7713 - val_accuracy: 1.0526e-06 - val_precision: 0.6702 - val_recall: 0.6654\n",
      "Epoch 26/100\n",
      "2850024/2850024 [==============================] - 9s 3us/sample - loss: 0.5877 - AUC: 0.7127 - accuracy: 0.0016 - precision: 0.6750 - recall: 0.6184 - val_loss: 0.5288 - val_AUC: 0.7726 - val_accuracy: 1.5789e-06 - val_precision: 0.6717 - val_recall: 0.6669\n",
      "Epoch 27/100\n",
      "2850024/2850024 [==============================] - 9s 3us/sample - loss: 0.5882 - AUC: 0.7136 - accuracy: 0.0016 - precision: 0.6761 - recall: 0.6195 - val_loss: 0.5284 - val_AUC: 0.7734 - val_accuracy: 1.5789e-06 - val_precision: 0.6725 - val_recall: 0.6677\n",
      "Epoch 28/100\n",
      "2850024/2850024 [==============================] - 9s 3us/sample - loss: 0.5871 - AUC: 0.7127 - accuracy: 0.0016 - precision: 0.6751 - recall: 0.6187 - val_loss: 0.5292 - val_AUC: 0.7714 - val_accuracy: 2.1052e-06 - val_precision: 0.6696 - val_recall: 0.6647\n",
      "Epoch 29/100\n",
      "2850024/2850024 [==============================] - 9s 3us/sample - loss: 0.5877 - AUC: 0.7110 - accuracy: 0.0015 - precision: 0.6736 - recall: 0.6168 - val_loss: 0.5304 - val_AUC: 0.7689 - val_accuracy: 1.0526e-06 - val_precision: 0.6668 - val_recall: 0.6617\n",
      "Epoch 30/100\n",
      "2850024/2850024 [==============================] - 9s 3us/sample - loss: 0.5878 - AUC: 0.7096 - accuracy: 0.0015 - precision: 0.6721 - recall: 0.6152 - val_loss: 0.5308 - val_AUC: 0.7678 - val_accuracy: 2.6316e-06 - val_precision: 0.6646 - val_recall: 0.6595\n"
     ]
    },
    {
     "name": "stdout",
     "output_type": "stream",
     "text": [
      "Epoch 31/100\n",
      "2850024/2850024 [==============================] - 9s 3us/sample - loss: 0.5870 - AUC: 0.7100 - accuracy: 0.0015 - precision: 0.6724 - recall: 0.6158 - val_loss: 0.5304 - val_AUC: 0.7687 - val_accuracy: 1.0526e-06 - val_precision: 0.6656 - val_recall: 0.6606\n",
      "Epoch 32/100\n",
      "2850024/2850024 [==============================] - 9s 3us/sample - loss: 0.5862 - AUC: 0.7108 - accuracy: 0.0015 - precision: 0.6733 - recall: 0.6165 - val_loss: 0.5299 - val_AUC: 0.7700 - val_accuracy: 1.5789e-06 - val_precision: 0.6671 - val_recall: 0.6620\n",
      "Epoch 33/100\n",
      "2850024/2850024 [==============================] - 9s 3us/sample - loss: 0.5865 - AUC: 0.7115 - accuracy: 0.0015 - precision: 0.6736 - recall: 0.6169 - val_loss: 0.5293 - val_AUC: 0.7714 - val_accuracy: 0.0000e+00 - val_precision: 0.6685 - val_recall: 0.6635\n",
      "Epoch 34/100\n",
      "2850024/2850024 [==============================] - 9s 3us/sample - loss: 0.5880 - AUC: 0.7129 - accuracy: 0.0015 - precision: 0.6752 - recall: 0.6186 - val_loss: 0.5288 - val_AUC: 0.7725 - val_accuracy: 0.0000e+00 - val_precision: 0.6699 - val_recall: 0.6649\n",
      "Epoch 35/100\n",
      "2850024/2850024 [==============================] - 9s 3us/sample - loss: 0.5879 - AUC: 0.7137 - accuracy: 0.0015 - precision: 0.6758 - recall: 0.6192 - val_loss: 0.5289 - val_AUC: 0.7725 - val_accuracy: 5.2631e-07 - val_precision: 0.6699 - val_recall: 0.6649\n",
      "Epoch 36/100\n",
      "2850024/2850024 [==============================] - 9s 3us/sample - loss: 0.5864 - AUC: 0.7134 - accuracy: 0.0015 - precision: 0.6757 - recall: 0.6192 - val_loss: 0.5290 - val_AUC: 0.7724 - val_accuracy: 5.2631e-07 - val_precision: 0.6700 - val_recall: 0.6651\n",
      "Epoch 37/100\n",
      "2850024/2850024 [==============================] - 9s 3us/sample - loss: 0.5875 - AUC: 0.7135 - accuracy: 0.0015 - precision: 0.6756 - recall: 0.6192 - val_loss: 0.5286 - val_AUC: 0.7734 - val_accuracy: 1.0526e-06 - val_precision: 0.6712 - val_recall: 0.6663\n",
      "Epoch 38/100\n",
      "2850024/2850024 [==============================] - 9s 3us/sample - loss: 0.5868 - AUC: 0.7139 - accuracy: 0.0015 - precision: 0.6758 - recall: 0.6195 - val_loss: 0.5286 - val_AUC: 0.7733 - val_accuracy: 5.2631e-07 - val_precision: 0.6708 - val_recall: 0.6660\n",
      "Epoch 39/100\n",
      "2850024/2850024 [==============================] - 9s 3us/sample - loss: 0.5873 - AUC: 0.7144 - accuracy: 0.0015 - precision: 0.6764 - recall: 0.6203 - val_loss: 0.5283 - val_AUC: 0.7742 - val_accuracy: 0.0000e+00 - val_precision: 0.6720 - val_recall: 0.6672\n",
      "Epoch 40/100\n",
      "2850024/2850024 [==============================] - 9s 3us/sample - loss: 0.5866 - AUC: 0.7137 - accuracy: 0.0015 - precision: 0.6757 - recall: 0.6193 - val_loss: 0.5288 - val_AUC: 0.7730 - val_accuracy: 1.5789e-06 - val_precision: 0.6709 - val_recall: 0.6662\n",
      "Epoch 41/100\n",
      "2850024/2850024 [==============================] - 10s 3us/sample - loss: 0.5871 - AUC: 0.7139 - accuracy: 0.0015 - precision: 0.6758 - recall: 0.6197 - val_loss: 0.5286 - val_AUC: 0.7736 - val_accuracy: 1.0526e-06 - val_precision: 0.6718 - val_recall: 0.6671\n",
      "Epoch 42/100\n",
      "2850024/2850024 [==============================] - 9s 3us/sample - loss: 0.5866 - AUC: 0.7134 - accuracy: 0.0015 - precision: 0.6755 - recall: 0.6196 - val_loss: 0.5290 - val_AUC: 0.7722 - val_accuracy: 5.2631e-07 - val_precision: 0.6699 - val_recall: 0.6654\n",
      "Epoch 43/100\n",
      "2850024/2850024 [==============================] - 9s 3us/sample - loss: 0.5872 - AUC: 0.7133 - accuracy: 0.0015 - precision: 0.6754 - recall: 0.6196 - val_loss: 0.5287 - val_AUC: 0.7731 - val_accuracy: 5.2631e-07 - val_precision: 0.6710 - val_recall: 0.6665\n",
      "Epoch 44/100\n",
      "2850024/2850024 [==============================] - 9s 3us/sample - loss: 0.5873 - AUC: 0.7140 - accuracy: 0.0015 - precision: 0.6762 - recall: 0.6205 - val_loss: 0.5283 - val_AUC: 0.7740 - val_accuracy: 1.0526e-06 - val_precision: 0.6720 - val_recall: 0.6675\n",
      "Epoch 45/100\n",
      "2850024/2850024 [==============================] - 9s 3us/sample - loss: 0.5861 - AUC: 0.7143 - accuracy: 0.0015 - precision: 0.6762 - recall: 0.6208 - val_loss: 0.5286 - val_AUC: 0.7731 - val_accuracy: 1.5789e-06 - val_precision: 0.6711 - val_recall: 0.6667\n",
      "Epoch 46/100\n",
      "2850024/2850024 [==============================] - 9s 3us/sample - loss: 0.5875 - AUC: 0.7129 - accuracy: 0.0015 - precision: 0.6748 - recall: 0.6196 - val_loss: 0.5292 - val_AUC: 0.7717 - val_accuracy: 5.2631e-07 - val_precision: 0.6693 - val_recall: 0.6651\n",
      "Epoch 47/100\n",
      "2850024/2850024 [==============================] - 9s 3us/sample - loss: 0.5867 - AUC: 0.7133 - accuracy: 0.0015 - precision: 0.6752 - recall: 0.6200 - val_loss: 0.5289 - val_AUC: 0.7724 - val_accuracy: 5.2631e-07 - val_precision: 0.6701 - val_recall: 0.6659\n",
      "Epoch 48/100\n",
      "2850024/2850024 [==============================] - 10s 3us/sample - loss: 0.5860 - AUC: 0.7129 - accuracy: 0.0015 - precision: 0.6748 - recall: 0.6200 - val_loss: 0.5296 - val_AUC: 0.7705 - val_accuracy: 5.2631e-07 - val_precision: 0.6673 - val_recall: 0.6631\n",
      "Epoch 49/100\n",
      "2850024/2850024 [==============================] - 10s 3us/sample - loss: 0.5863 - AUC: 0.7127 - accuracy: 0.0015 - precision: 0.6744 - recall: 0.6194 - val_loss: 0.5292 - val_AUC: 0.7715 - val_accuracy: 1.0526e-06 - val_precision: 0.6685 - val_recall: 0.6643\n",
      "Epoch 50/100\n",
      "2850024/2850024 [==============================] - 10s 3us/sample - loss: 0.5865 - AUC: 0.7140 - accuracy: 0.0016 - precision: 0.6758 - recall: 0.6208 - val_loss: 0.5287 - val_AUC: 0.7728 - val_accuracy: 1.0526e-06 - val_precision: 0.6701 - val_recall: 0.6659\n",
      "Epoch 51/100\n",
      "2850024/2850024 [==============================] - 9s 3us/sample - loss: 0.5850 - AUC: 0.7150 - accuracy: 0.0015 - precision: 0.6767 - recall: 0.6216 - val_loss: 0.5282 - val_AUC: 0.7741 - val_accuracy: 1.0526e-06 - val_precision: 0.6716 - val_recall: 0.6674\n",
      "Epoch 52/100\n",
      "2850024/2850024 [==============================] - 9s 3us/sample - loss: 0.5871 - AUC: 0.7146 - accuracy: 0.0015 - precision: 0.6763 - recall: 0.6214 - val_loss: 0.5284 - val_AUC: 0.7736 - val_accuracy: 1.0526e-06 - val_precision: 0.6711 - val_recall: 0.6670\n",
      "Epoch 53/100\n",
      "2850024/2850024 [==============================] - 9s 3us/sample - loss: 0.5855 - AUC: 0.7141 - accuracy: 0.0015 - precision: 0.6756 - recall: 0.6209 - val_loss: 0.5290 - val_AUC: 0.7720 - val_accuracy: 5.2631e-07 - val_precision: 0.6694 - val_recall: 0.6652\n",
      "Epoch 54/100\n",
      "2850024/2850024 [==============================] - 9s 3us/sample - loss: 0.5864 - AUC: 0.7137 - accuracy: 0.0015 - precision: 0.6752 - recall: 0.6206 - val_loss: 0.5286 - val_AUC: 0.7729 - val_accuracy: 5.2631e-07 - val_precision: 0.6704 - val_recall: 0.6664\n",
      "Epoch 55/100\n",
      "2850024/2850024 [==============================] - 9s 3us/sample - loss: 0.5859 - AUC: 0.7148 - accuracy: 0.0016 - precision: 0.6763 - recall: 0.6216 - val_loss: 0.5281 - val_AUC: 0.7742 - val_accuracy: 1.5789e-06 - val_precision: 0.6719 - val_recall: 0.6679\n",
      "Epoch 56/100\n",
      "2850024/2850024 [==============================] - 9s 3us/sample - loss: 0.5859 - AUC: 0.7157 - accuracy: 0.0015 - precision: 0.6771 - recall: 0.6228 - val_loss: 0.5276 - val_AUC: 0.7753 - val_accuracy: 5.2631e-07 - val_precision: 0.6733 - val_recall: 0.6693\n",
      "Epoch 57/100\n",
      "2850024/2850024 [==============================] - 9s 3us/sample - loss: 0.5857 - AUC: 0.7169 - accuracy: 0.0015 - precision: 0.6782 - recall: 0.6236 - val_loss: 0.5272 - val_AUC: 0.7765 - val_accuracy: 2.1052e-06 - val_precision: 0.6748 - val_recall: 0.6708\n",
      "Epoch 58/100\n",
      "2850024/2850024 [==============================] - 9s 3us/sample - loss: 0.5863 - AUC: 0.7180 - accuracy: 0.0016 - precision: 0.6795 - recall: 0.6249 - val_loss: 0.5269 - val_AUC: 0.7775 - val_accuracy: 5.2631e-07 - val_precision: 0.6760 - val_recall: 0.6720\n",
      "Epoch 59/100\n",
      "2850024/2850024 [==============================] - 9s 3us/sample - loss: 0.5862 - AUC: 0.7195 - accuracy: 0.0015 - precision: 0.6798 - recall: 0.6250 - val_loss: 0.5264 - val_AUC: 0.7786 - val_accuracy: 5.2631e-07 - val_precision: 0.6774 - val_recall: 0.6733\n",
      "Epoch 60/100\n",
      "2850024/2850024 [==============================] - 9s 3us/sample - loss: 0.5860 - AUC: 0.7193 - accuracy: 0.0016 - precision: 0.6800 - recall: 0.6254 - val_loss: 0.5264 - val_AUC: 0.7783 - val_accuracy: 0.0000e+00 - val_precision: 0.6765 - val_recall: 0.6724\n",
      "Epoch 61/100\n"
     ]
    },
    {
     "name": "stdout",
     "output_type": "stream",
     "text": [
      "2850024/2850024 [==============================] - 9s 3us/sample - loss: 0.5846 - AUC: 0.7182 - accuracy: 0.0016 - precision: 0.6791 - recall: 0.6246 - val_loss: 0.5271 - val_AUC: 0.7763 - val_accuracy: 5.2631e-07 - val_precision: 0.6732 - val_recall: 0.6692\n",
      "Epoch 62/100\n",
      "2850024/2850024 [==============================] - 9s 3us/sample - loss: 0.5862 - AUC: 0.7180 - accuracy: 0.0015 - precision: 0.6791 - recall: 0.6245 - val_loss: 0.5269 - val_AUC: 0.7765 - val_accuracy: 5.2631e-07 - val_precision: 0.6733 - val_recall: 0.6693\n",
      "Epoch 63/100\n",
      "2850024/2850024 [==============================] - 9s 3us/sample - loss: 0.5860 - AUC: 0.7182 - accuracy: 0.0016 - precision: 0.6790 - recall: 0.6247 - val_loss: 0.5265 - val_AUC: 0.7772 - val_accuracy: 2.1052e-06 - val_precision: 0.6741 - val_recall: 0.6702\n",
      "Epoch 64/100\n",
      "2850024/2850024 [==============================] - 9s 3us/sample - loss: 0.5855 - AUC: 0.7197 - accuracy: 0.0016 - precision: 0.6800 - recall: 0.6254 - val_loss: 0.5261 - val_AUC: 0.7782 - val_accuracy: 1.0526e-06 - val_precision: 0.6752 - val_recall: 0.6713\n",
      "Epoch 65/100\n",
      "2850024/2850024 [==============================] - 9s 3us/sample - loss: 0.5865 - AUC: 0.7195 - accuracy: 0.0016 - precision: 0.6798 - recall: 0.6251 - val_loss: 0.5261 - val_AUC: 0.7785 - val_accuracy: 1.5789e-06 - val_precision: 0.6756 - val_recall: 0.6716\n",
      "Epoch 66/100\n",
      "2850024/2850024 [==============================] - 9s 3us/sample - loss: 0.5868 - AUC: 0.7200 - accuracy: 0.0016 - precision: 0.6805 - recall: 0.6259 - val_loss: 0.5259 - val_AUC: 0.7791 - val_accuracy: 5.2631e-07 - val_precision: 0.6765 - val_recall: 0.6725\n",
      "Epoch 67/100\n",
      "2850024/2850024 [==============================] - 9s 3us/sample - loss: 0.5853 - AUC: 0.7210 - accuracy: 0.0016 - precision: 0.6813 - recall: 0.6267 - val_loss: 0.5254 - val_AUC: 0.7804 - val_accuracy: 5.2631e-07 - val_precision: 0.6781 - val_recall: 0.6740\n",
      "Epoch 68/100\n",
      "2850024/2850024 [==============================] - 9s 3us/sample - loss: 0.5854 - AUC: 0.7225 - accuracy: 0.0016 - precision: 0.6822 - recall: 0.6274 - val_loss: 0.5251 - val_AUC: 0.7812 - val_accuracy: 5.2631e-07 - val_precision: 0.6792 - val_recall: 0.6751\n",
      "Epoch 69/100\n",
      "2850024/2850024 [==============================] - 9s 3us/sample - loss: 0.5854 - AUC: 0.7225 - accuracy: 0.0016 - precision: 0.6823 - recall: 0.6278 - val_loss: 0.5255 - val_AUC: 0.7804 - val_accuracy: 1.0526e-06 - val_precision: 0.6782 - val_recall: 0.6743\n",
      "Epoch 70/100\n",
      "2850024/2850024 [==============================] - 9s 3us/sample - loss: 0.5852 - AUC: 0.7224 - accuracy: 0.0016 - precision: 0.6822 - recall: 0.6275 - val_loss: 0.5252 - val_AUC: 0.7812 - val_accuracy: 5.2631e-07 - val_precision: 0.6791 - val_recall: 0.6751\n",
      "Epoch 71/100\n",
      "2850024/2850024 [==============================] - 9s 3us/sample - loss: 0.5851 - AUC: 0.7224 - accuracy: 0.0015 - precision: 0.6821 - recall: 0.6275 - val_loss: 0.5255 - val_AUC: 0.7806 - val_accuracy: 1.0526e-06 - val_precision: 0.6782 - val_recall: 0.6742\n",
      "Epoch 72/100\n",
      "2850024/2850024 [==============================] - 9s 3us/sample - loss: 0.5861 - AUC: 0.7205 - accuracy: 0.0016 - precision: 0.6807 - recall: 0.6260 - val_loss: 0.5263 - val_AUC: 0.7782 - val_accuracy: 1.0526e-06 - val_precision: 0.6744 - val_recall: 0.6706\n",
      "Epoch 73/100\n",
      "2850024/2850024 [==============================] - 9s 3us/sample - loss: 0.5848 - AUC: 0.7205 - accuracy: 0.0016 - precision: 0.6806 - recall: 0.6264 - val_loss: 0.5260 - val_AUC: 0.7789 - val_accuracy: 1.0526e-06 - val_precision: 0.6751 - val_recall: 0.6712\n",
      "Epoch 74/100\n",
      "2850024/2850024 [==============================] - 9s 3us/sample - loss: 0.5849 - AUC: 0.7214 - accuracy: 0.0016 - precision: 0.6813 - recall: 0.6269 - val_loss: 0.5257 - val_AUC: 0.7795 - val_accuracy: 1.5789e-06 - val_precision: 0.6758 - val_recall: 0.6719\n",
      "Epoch 75/100\n",
      "2850024/2850024 [==============================] - 9s 3us/sample - loss: 0.5854 - AUC: 0.7186 - accuracy: 0.0016 - precision: 0.6789 - recall: 0.6249 - val_loss: 0.5276 - val_AUC: 0.7742 - val_accuracy: 5.2631e-07 - val_precision: 0.6691 - val_recall: 0.6653\n",
      "Epoch 76/100\n",
      "2850024/2850024 [==============================] - 9s 3us/sample - loss: 0.5849 - AUC: 0.7160 - accuracy: 0.0016 - precision: 0.6762 - recall: 0.6228 - val_loss: 0.5283 - val_AUC: 0.7725 - val_accuracy: 2.1052e-06 - val_precision: 0.6670 - val_recall: 0.6633\n",
      "Epoch 77/100\n",
      "2850024/2850024 [==============================] - 9s 3us/sample - loss: 0.5846 - AUC: 0.7160 - accuracy: 0.0015 - precision: 0.6760 - recall: 0.6226 - val_loss: 0.5279 - val_AUC: 0.7734 - val_accuracy: 1.5789e-06 - val_precision: 0.6681 - val_recall: 0.6644\n",
      "Epoch 78/100\n",
      "2850024/2850024 [==============================] - 9s 3us/sample - loss: 0.5841 - AUC: 0.7165 - accuracy: 0.0016 - precision: 0.6765 - recall: 0.6233 - val_loss: 0.5274 - val_AUC: 0.7745 - val_accuracy: 1.0526e-06 - val_precision: 0.6693 - val_recall: 0.6656\n",
      "Epoch 79/100\n",
      "2850024/2850024 [==============================] - 9s 3us/sample - loss: 0.5853 - AUC: 0.7175 - accuracy: 0.0016 - precision: 0.6782 - recall: 0.6271 - val_loss: 0.5271 - val_AUC: 0.7754 - val_accuracy: 1.5789e-06 - val_precision: 0.6703 - val_recall: 0.6666\n",
      "Epoch 80/100\n",
      "2850024/2850024 [==============================] - 9s 3us/sample - loss: 0.5853 - AUC: 0.7178 - accuracy: 0.0015 - precision: 0.6802 - recall: 0.6323 - val_loss: 0.5272 - val_AUC: 0.7752 - val_accuracy: 1.5789e-06 - val_precision: 0.6697 - val_recall: 0.6661\n",
      "Epoch 81/100\n",
      "2850024/2850024 [==============================] - 9s 3us/sample - loss: 0.5846 - AUC: 0.7192 - accuracy: 0.0016 - precision: 0.6808 - recall: 0.6328 - val_loss: 0.5268 - val_AUC: 0.7762 - val_accuracy: 1.0526e-06 - val_precision: 0.6708 - val_recall: 0.6673\n",
      "Epoch 82/100\n",
      "2850024/2850024 [==============================] - 9s 3us/sample - loss: 0.5854 - AUC: 0.7192 - accuracy: 0.0016 - precision: 0.6807 - recall: 0.6331 - val_loss: 0.5269 - val_AUC: 0.7765 - val_accuracy: 1.0526e-06 - val_precision: 0.6714 - val_recall: 0.6679\n",
      "Epoch 83/100\n",
      "2850024/2850024 [==============================] - 9s 3us/sample - loss: 0.5844 - AUC: 0.7202 - accuracy: 0.0016 - precision: 0.6818 - recall: 0.6341 - val_loss: 0.5264 - val_AUC: 0.7775 - val_accuracy: 5.2631e-07 - val_precision: 0.6726 - val_recall: 0.6692\n",
      "Epoch 84/100\n",
      "2850024/2850024 [==============================] - 9s 3us/sample - loss: 0.5843 - AUC: 0.7214 - accuracy: 0.0016 - precision: 0.6830 - recall: 0.6354 - val_loss: 0.5260 - val_AUC: 0.7786 - val_accuracy: 0.0000e+00 - val_precision: 0.6739 - val_recall: 0.6704\n",
      "Epoch 85/100\n",
      "2850024/2850024 [==============================] - 9s 3us/sample - loss: 0.5843 - AUC: 0.7209 - accuracy: 0.0016 - precision: 0.6826 - recall: 0.6351 - val_loss: 0.5266 - val_AUC: 0.7772 - val_accuracy: 1.0526e-06 - val_precision: 0.6722 - val_recall: 0.6688\n",
      "Epoch 86/100\n",
      "2850024/2850024 [==============================] - 9s 3us/sample - loss: 0.5846 - AUC: 0.7208 - accuracy: 0.0016 - precision: 0.6822 - recall: 0.6348 - val_loss: 0.5262 - val_AUC: 0.7779 - val_accuracy: 1.0526e-06 - val_precision: 0.6728 - val_recall: 0.6694\n",
      "Epoch 87/100\n",
      "2850024/2850024 [==============================] - 9s 3us/sample - loss: 0.5851 - AUC: 0.7218 - accuracy: 0.0016 - precision: 0.6830 - recall: 0.6357 - val_loss: 0.5257 - val_AUC: 0.7788 - val_accuracy: 2.1052e-06 - val_precision: 0.6738 - val_recall: 0.6704\n",
      "Epoch 88/100\n",
      "2850024/2850024 [==============================] - 9s 3us/sample - loss: 0.5838 - AUC: 0.7226 - accuracy: 0.0016 - precision: 0.6835 - recall: 0.6363 - val_loss: 0.5256 - val_AUC: 0.7793 - val_accuracy: 1.5789e-06 - val_precision: 0.6744 - val_recall: 0.6709\n",
      "Epoch 89/100\n",
      "2850024/2850024 [==============================] - 9s 3us/sample - loss: 0.5842 - AUC: 0.7234 - accuracy: 0.0016 - precision: 0.6845 - recall: 0.6374 - val_loss: 0.5254 - val_AUC: 0.7799 - val_accuracy: 5.2631e-07 - val_precision: 0.6750 - val_recall: 0.6716\n",
      "Epoch 90/100\n",
      "2850024/2850024 [==============================] - 9s 3us/sample - loss: 0.5849 - AUC: 0.7225 - accuracy: 0.0016 - precision: 0.6836 - recall: 0.6366 - val_loss: 0.5260 - val_AUC: 0.7783 - val_accuracy: 1.0526e-06 - val_precision: 0.6729 - val_recall: 0.6696\n",
      "Epoch 91/100\n"
     ]
    },
    {
     "name": "stdout",
     "output_type": "stream",
     "text": [
      "2850024/2850024 [==============================] - 9s 3us/sample - loss: 0.5838 - AUC: 0.7218 - accuracy: 0.0016 - precision: 0.6828 - recall: 0.6363 - val_loss: 0.5257 - val_AUC: 0.7787 - val_accuracy: 1.0526e-06 - val_precision: 0.6733 - val_recall: 0.6701\n",
      "Epoch 92/100\n",
      "2850024/2850024 [==============================] - 9s 3us/sample - loss: 0.5836 - AUC: 0.7227 - accuracy: 0.0016 - precision: 0.6836 - recall: 0.6369 - val_loss: 0.5254 - val_AUC: 0.7795 - val_accuracy: 2.1052e-06 - val_precision: 0.6742 - val_recall: 0.6710\n",
      "Epoch 93/100\n",
      "2850024/2850024 [==============================] - 9s 3us/sample - loss: 0.5847 - AUC: 0.7237 - accuracy: 0.0016 - precision: 0.6844 - recall: 0.6377 - val_loss: 0.5249 - val_AUC: 0.7806 - val_accuracy: 1.0526e-06 - val_precision: 0.6754 - val_recall: 0.6721\n",
      "Epoch 94/100\n",
      "2850024/2850024 [==============================] - 9s 3us/sample - loss: 0.5854 - AUC: 0.7234 - accuracy: 0.0016 - precision: 0.6841 - recall: 0.6371 - val_loss: 0.5254 - val_AUC: 0.7799 - val_accuracy: 1.0526e-06 - val_precision: 0.6746 - val_recall: 0.6713\n",
      "Epoch 95/100\n",
      "2850024/2850024 [==============================] - 9s 3us/sample - loss: 0.5847 - AUC: 0.7236 - accuracy: 0.0016 - precision: 0.6841 - recall: 0.6373 - val_loss: 0.5252 - val_AUC: 0.7804 - val_accuracy: 5.2631e-07 - val_precision: 0.6751 - val_recall: 0.6718\n",
      "Epoch 96/100\n",
      "2850024/2850024 [==============================] - 9s 3us/sample - loss: 0.5849 - AUC: 0.7227 - accuracy: 0.0016 - precision: 0.6835 - recall: 0.6367 - val_loss: 0.5260 - val_AUC: 0.7785 - val_accuracy: 5.2631e-07 - val_precision: 0.6731 - val_recall: 0.6700\n",
      "Epoch 97/100\n",
      "2850024/2850024 [==============================] - 9s 3us/sample - loss: 0.5833 - AUC: 0.7212 - accuracy: 0.0016 - precision: 0.6820 - recall: 0.6354 - val_loss: 0.5264 - val_AUC: 0.7772 - val_accuracy: 0.0000e+00 - val_precision: 0.6713 - val_recall: 0.6681\n",
      "Epoch 98/100\n",
      "2850024/2850024 [==============================] - 9s 3us/sample - loss: 0.5843 - AUC: 0.7216 - accuracy: 0.0016 - precision: 0.6822 - recall: 0.6356 - val_loss: 0.5260 - val_AUC: 0.7780 - val_accuracy: 1.0526e-06 - val_precision: 0.6721 - val_recall: 0.6689\n",
      "Epoch 99/100\n",
      "2850024/2850024 [==============================] - 9s 3us/sample - loss: 0.5847 - AUC: 0.7222 - accuracy: 0.0017 - precision: 0.6827 - recall: 0.6363 - val_loss: 0.5258 - val_AUC: 0.7785 - val_accuracy: 1.5789e-06 - val_precision: 0.6727 - val_recall: 0.6695\n",
      "Epoch 100/100\n",
      "2850024/2850024 [==============================] - 9s 3us/sample - loss: 0.5833 - AUC: 0.7221 - accuracy: 0.0016 - precision: 0.6826 - recall: 0.6359 - val_loss: 0.5261 - val_AUC: 0.7780 - val_accuracy: 1.0526e-06 - val_precision: 0.6719 - val_recall: 0.6686\n",
      "CPU times: user 1h 1min 29s, sys: 30min 16s, total: 1h 31min 46s\n",
      "Wall time: 15min 21s\n"
     ]
    }
   ],
   "source": [
    "%%time\n",
    "history=model.fit(X_train,\n",
    "                  Y_train,\n",
    "                  epochs = EPOCHS,\n",
    "                  shuffle = True,\n",
    "                  validation_data=val_data,\n",
    "                  #validation_freq=5,\n",
    "                  callbacks = [early_stopping],\n",
    "                  batch_size = BATCH_SIZE,\n",
    "                  class_weight=class_weight\n",
    "                 )"
   ]
  },
  {
   "cell_type": "code",
   "execution_count": 90,
   "metadata": {},
   "outputs": [],
   "source": [
    "model.save_weights(initial_weights)"
   ]
  },
  {
   "cell_type": "code",
   "execution_count": 95,
   "metadata": {
    "scrolled": true
   },
   "outputs": [
    {
     "data": {
      "image/png": "[encoded data removed]",
      "text/plain": [
       "<Figure size 864x720 with 4 Axes>"
      ]
     },
     "metadata": {
      "needs_background": "light"
     },
     "output_type": "display_data"
    }
   ],
   "source": [
    "plot_metrics(history)"
   ]
  },
  {
   "cell_type": "code",
   "execution_count": 84,
   "metadata": {
    "scrolled": true
   },
   "outputs": [
    {
     "name": "stdout",
     "output_type": "stream",
     "text": [
      "[[0.9871305  0.01383755]\n",
      " [0.450267   0.54815155]\n",
      " [0.9366248  0.06658602]\n",
      " ...\n",
      " [0.51886904 0.47920728]\n",
      " [0.38105184 0.6276778 ]\n",
      " [0.75969386 0.24204548]]\n"
     ]
    }
   ],
   "source": [
    "#compute predictions\n",
    "predictions = model.predict(X_test)\n",
    "print(predictions)\n",
    "y_pred = np.array([np.argmax(probas) for probas in predictions])\n",
    "y_test = np.array([np.argmax(label) for label in Y_test])\n",
    "\n",
    "classes = unique_labels(y_test, y_pred)\n",
    "class_names = unique_labels(Y)\n",
    "\n",
    "#not-fancy confusion matrix\n",
    "cm = confusion_matrix(y_test, y_pred, labels = classes)\n",
    "print(cm)"
   ]
  },
  {
   "cell_type": "code",
   "execution_count": 86,
   "metadata": {
    "scrolled": true
   },
   "outputs": [
    {
     "name": "stdout",
     "output_type": "stream",
     "text": [
      "Confusion matrix, without normalization\n",
      "[[622757 305883]\n",
      " [  5211  16158]]\n"
     ]
    },
    {
     "data": {
      "text/plain": [
       "<matplotlib.axes._subplots.AxesSubplot at 0x7f77f21bacf8>"
      ]
     },
     "execution_count": 86,
     "metadata": {},
     "output_type": "execute_result"
    },
    {
     "data": {
      "image/png": "[encoded data removed]",
      "text/plain": [
       "<Figure size 864x720 with 2 Axes>"
      ]
     },
     "metadata": {
      "needs_background": "light"
     },
     "output_type": "display_data"
    }
   ],
   "source": [
    "plot_confusion_matrix(y_test, y_pred, classes, class_names)"
   ]
  }
 ],
 "metadata": {
  "kernelspec": {
   "display_name": "Python 2",
   "language": "python",
   "name": "python2"
  },
  "language_info": {
   "codemirror_mode": {
    "name": "ipython",
    "version": 3
   },
   "file_extension": ".py",
   "mimetype": "text/x-python",
   "name": "python",
   "nbconvert_exporter": "python",
   "pygments_lexer": "ipython3",
   "version": "3.7.3"
  }
 },
 "nbformat": 4,
 "nbformat_minor": 2
}
