{
 "cells": [
  {
   "cell_type": "code",
   "execution_count": 1,
   "metadata": {},
   "outputs": [],
   "source": [
    "import os\n",
    "import tempfile\n",
    "#numpy\n",
    "import numpy as np\n",
    "# pandas\n",
    "from pandas import read_csv\n",
    "# matplotlib\n",
    "import matplotlib as mpl\n",
    "import matplotlib.pyplot as plt\n",
    "\n",
    "%matplotlib inline\n",
    "#teras\n",
    "import tensorflow as tf\n",
    "from tensorflow.keras import regularizers\n",
    "from tensorflow.keras.models import Sequential\n",
    "from tensorflow.keras.layers import Dense, Dropout, BatchNormalization\n",
    "from tensorflow.keras.utils import to_categorical\n",
    "from tensorflow.keras.metrics import AUC, Accuracy, Precision, Recall\n",
    "from tensorflow.keras.optimizers import Adam\n",
    "from tensorflow.keras.callbacks import ModelCheckpoint\n",
    "\n",
    "\n",
    "# sklearn\n",
    "from sklearn.preprocessing import LabelEncoder\n",
    "from sklearn.pipeline import Pipeline\n",
    "from sklearn.model_selection import train_test_split\n",
    "from sklearn.model_selection import cross_val_score\n",
    "from sklearn.model_selection import KFold\n",
    "from sklearn.utils.multiclass import unique_labels\n",
    "from sklearn.metrics import confusion_matrix\n",
    "from sklearn.preprocessing import StandardScaler\n",
    "\n",
    "mpl.rcParams['figure.figsize'] = (12, 10)\n",
    "colors = plt.rcParams['axes.prop_cycle'].by_key()['color']"
   ]
  },
  {
   "cell_type": "code",
   "execution_count": 2,
   "metadata": {},
   "outputs": [],
   "source": [
    "def plot_metrics(history):\n",
    "    \"\"\"\n",
    "    This function plots performance of classifier considering different metrics.\n",
    "    \"\"\"\n",
    "    metrics =  ['loss', 'AUC', 'precision', 'recall']\n",
    "    for n, metric in enumerate(metrics):\n",
    "        name = metric.replace(\"_\",\" \").capitalize()\n",
    "        plt.subplot(2,2,n+1)\n",
    "        plt.plot(history.epoch,  history.history[metric], color=colors[0], label='Train')\n",
    "        plt.plot(history.epoch, history.history['val_'+metric],\n",
    "                 color=colors[0], linestyle=\"--\", label='Val')\n",
    "        plt.xlabel('Epoch')\n",
    "        plt.ylabel(name)\n",
    "        if metric == 'loss':\n",
    "            plt.ylim([0, plt.ylim()[1]])\n",
    "        elif metric == 'auc':\n",
    "            plt.ylim([0.8,1])\n",
    "        else:\n",
    "            plt.ylim([0,1])\n",
    "\n",
    "        plt.legend()"
   ]
  },
  {
   "cell_type": "code",
   "execution_count": 3,
   "metadata": {},
   "outputs": [],
   "source": [
    "def plot_confusion_matrix(y_true, y_pred, classes,\n",
    "                          class_names = None,\n",
    "                          normalize=False,\n",
    "                          title=None,\n",
    "                          cmap=plt.cm.Greens):\n",
    "    \"\"\"\n",
    "    This function prints and plots the confusion matrix.\n",
    "    Normalization can be applied by setting `normalize=True`.\n",
    "    \"\"\"\n",
    "    if not title:\n",
    "        if normalize:\n",
    "            title = 'Normalized confusion matrix'\n",
    "        else:\n",
    "            title = 'Confusion matrix, without normalization'\n",
    "\n",
    "    # Compute confusion matrix\n",
    "    cm = confusion_matrix(y_true, y_pred)\n",
    "    # Only use the labels that appear in the data\n",
    "    classes = classes[unique_labels(y_true, y_pred)]\n",
    "    if normalize:\n",
    "        cm = cm.astype('float') / cm.sum(axis=1)[:, np.newaxis]\n",
    "        print(\"Normalized confusion matrix\")\n",
    "    else:\n",
    "        print('Confusion matrix, without normalization')\n",
    "\n",
    "    print(cm)\n",
    "\n",
    "    fig, ax = plt.subplots()\n",
    "    im = ax.imshow(cm, interpolation='nearest', cmap=cmap)\n",
    "    ax.figure.colorbar(im, ax=ax)\n",
    "    # We want to show all ticks...\n",
    "    if class_names is None:\n",
    "        x_labels = y_labels = classes\n",
    "    else:\n",
    "        x_labels = y_labels = class_names\n",
    "    ax.set(xticks=np.arange(cm.shape[1]),\n",
    "           yticks=np.arange(cm.shape[0]),\n",
    "           # ... and label them with the respective list entries\n",
    "           xticklabels=x_labels, yticklabels=y_labels,\n",
    "           title=title,\n",
    "           ylabel='True label',\n",
    "           xlabel='Predicted label')\n",
    "\n",
    "    # Rotate the tick labels and set their alignment.\n",
    "    plt.setp(ax.get_xticklabels(), rotation=45, ha=\"right\",\n",
    "             rotation_mode=\"anchor\")\n",
    "\n",
    "    # Loop over data dimensions and create text annotations.\n",
    "    fmt = '.2f' if normalize else 'd'\n",
    "    thresh = cm.max() / 2.\n",
    "    for i in range(cm.shape[0]):\n",
    "        for j in range(cm.shape[1]):\n",
    "            ax.text(j, i, format(cm[i, j], fmt),\n",
    "                    ha=\"center\", va=\"center\",\n",
    "                    color=\"white\" if cm[i, j] > thresh else \"black\")\n",
    "    fig.tight_layout()\n",
    "    return ax"
   ]
  },
  {
   "cell_type": "code",
   "execution_count": 4,
   "metadata": {},
   "outputs": [],
   "source": [
    "METRICS = [\n",
    "    AUC(name = 'AUC'),\n",
    "    Accuracy(name = 'accuracy'),\n",
    "    Precision(name = 'precision'),\n",
    "    Recall(name = 'recall')    \n",
    "]\n",
    "\n",
    "\n",
    "def make_model(metrics = METRICS, output_bias = None):   \n",
    "    \"\"\"\n",
    "    This function defines the classifier model\n",
    "    \"\"\"\n",
    "    \n",
    "    if output_bias is not None:\n",
    "        output_bias = tf.keras.initializers.Constant(output_bias)    \n",
    "    #Initialising NN\n",
    "    model = Sequential()\n",
    "\n",
    "    #First layer\n",
    "    model.add(Dense(8, activation='relu', input_shape=(13,)))\n",
    "    #model.add(BatchNormalization())\n",
    "    model.add(Dropout(0.5))\n",
    "\n",
    "    #Second layer\n",
    "    model.add(Dense(12, activation='relu'))\n",
    "   # model.add(BatchNormalization())\n",
    "    model.add(Dropout(0.5))\n",
    "\n",
    "    model.add(Dense(2, activation='sigmoid'))\n",
    "\n",
    "\n",
    "    model.compile(loss='binary_crossentropy', \n",
    "                  optimizer=Adam(lr= 0.001),\n",
    "                  metrics=metrics\n",
    "                 )\n",
    "    return model"
   ]
  },
  {
   "cell_type": "code",
   "execution_count": 5,
   "metadata": {},
   "outputs": [],
   "source": [
    "def load_dataset(dataset_name, start_col, end_col):\n",
    "    \"\"\"\n",
    "    This method loads the dataset if it exists\n",
    "    \"\"\"\n",
    "    if not os.path.isfile(dataset_name):\n",
    "        raise FileNotFoundError\n",
    "        \n",
    "    dataset = dataset_name\n",
    "    first_col = start_col \n",
    "    last_col = end_col\n",
    "    info = {\n",
    "        \"dataset_name\" : dataset,\n",
    "        \"first_column\"     : first_col,\n",
    "        \"last_column\"      : last_col\n",
    "    }\n",
    "    \n",
    "    return info"
   ]
  },
  {
   "cell_type": "code",
   "execution_count": 6,
   "metadata": {},
   "outputs": [],
   "source": [
    "seed = 11   \n",
    "np.random.seed(seed) \n",
    "\n",
    "\n",
    "dset = load_dataset(\"analysis.csv\", start_col=2, end_col=15)    \n",
    "dataframe = read_csv(dset[\"dataset_name\"], header=0)\n",
    "dataset = dataframe.values\n",
    "\n",
    "\n",
    "X = dataset[:,int(dset[\"first_column\"] ):int(dset[\"last_column\"])].astype(float)   \n",
    "Y = dataset[:,int(dset[\"last_column\"])] #label column (15th) into Y \n",
    "\n",
    "#Encode class values as integers\n",
    "encoder = LabelEncoder()\n",
    "encoder.fit(Y)\n",
    "encoded_Y = encoder.transform(Y)\n",
    "\n",
    "#One-hot encoding\n",
    "transformed_Y = to_categorical(encoded_Y)"
   ]
  },
  {
   "cell_type": "code",
   "execution_count": 7,
   "metadata": {},
   "outputs": [
    {
     "name": "stdout",
     "output_type": "stream",
     "text": [
      "Samples:\n",
      " Total: 3800033\n",
      " Background: 3713773 \n",
      " Signal: 86260 \n",
      " Signal samples are 2.27% of the total\n"
     ]
    }
   ],
   "source": [
    "bkg, sgn = np.bincount(encoded_Y)\n",
    "\n",
    "total =  bkg + sgn\n",
    "print('Samples:\\n Total: {}\\n Background: {} \\n Signal: {} \\n Signal samples are {:.2f}% of the total'.format(total, bkg, sgn, 100*sgn/total))"
   ]
  },
  {
   "cell_type": "code",
   "execution_count": 8,
   "metadata": {},
   "outputs": [
    {
     "name": "stdout",
     "output_type": "stream",
     "text": [
      "Weight for class 0: 0.51\n",
      "Weight for class 1: 22.03\n"
     ]
    }
   ],
   "source": [
    "weight_for_0 = (1 / bkg)*(total)/2.0\n",
    "weight_for_1 = (1 / sgn)*(total)/2.0\n",
    "\n",
    "\n",
    "class_weight = {0: weight_for_0, 1: weight_for_1}\n",
    "\n",
    "print('Weight for class 0: {:.2f}'.format(weight_for_0))\n",
    "print('Weight for class 1: {:.2f}'.format(weight_for_1))"
   ]
  },
  {
   "cell_type": "code",
   "execution_count": 9,
   "metadata": {
    "scrolled": true
   },
   "outputs": [],
   "source": [
    "X_train, X_test, Y_train, Y_test = train_test_split(X,\n",
    "                                                    transformed_Y,\n",
    "                                                    test_size=0.25,\n",
    "                                                    random_state=seed,\n",
    "                                                    shuffle = True)\n",
    "\n",
    "scaler = StandardScaler()\n",
    "X_train =scaler.fit_transform(X_train)\n",
    "X_test = scaler.transform(X_test)\n",
    "\n"
   ]
  },
  {
   "cell_type": "code",
   "execution_count": 10,
   "metadata": {},
   "outputs": [
    {
     "name": "stdout",
     "output_type": "stream",
     "text": [
      "Training labels shape: (2850024, 2)\n",
      "Validation labels shape: (950009, 2)\n",
      "Training features shape: (2850024, 13)\n",
      "Validation features shape: (950009, 13)\n"
     ]
    }
   ],
   "source": [
    "print('Training labels shape:', Y_train.shape)\n",
    "print('Validation labels shape:', Y_test.shape)\n",
    "\n",
    "\n",
    "print('Training features shape:', X_train.shape)\n",
    "print('Validation features shape:', X_test.shape)"
   ]
  },
  {
   "cell_type": "code",
   "execution_count": 11,
   "metadata": {},
   "outputs": [],
   "source": [
    "EPOCHS = 10\n",
    "BATCH_SIZE = 150000\n",
    "val_data = (X_test,Y_test)\n",
    "#checkpoint = ModelCheckpoint(\"model_weights.h5\", monitor='val_precision', verbose=1, save_best_only=True, mode='max')\n",
    "#callbacks_list = [checkpoint]\n",
    "early_stopping = tf.keras.callbacks.EarlyStopping(\n",
    "    monitor = 'val_loss',\n",
    "    verbose = 1,\n",
    "    patience = 200,\n",
    "    mode = 'min',\n",
    "    restore_best_weights = True)\n",
    "\n"
   ]
  },
  {
   "cell_type": "code",
   "execution_count": 12,
   "metadata": {},
   "outputs": [
    {
     "name": "stdout",
     "output_type": "stream",
     "text": [
      "WARNING:tensorflow:From /home/william/.local/lib/python3.7/site-packages/tensorflow/python/ops/init_ops.py:1251: calling VarianceScaling.__init__ (from tensorflow.python.ops.init_ops) with dtype is deprecated and will be removed in a future version.\n",
      "Instructions for updating:\n",
      "Call initializer instance with the dtype argument instead of passing it to the constructor\n",
      "WARNING:tensorflow:From /home/william/.local/lib/python3.7/site-packages/tensorflow/python/ops/nn_impl.py:180: add_dispatch_support.<locals>.wrapper (from tensorflow.python.ops.array_ops) is deprecated and will be removed in a future version.\n",
      "Instructions for updating:\n",
      "Use tf.where in 2.0, which has the same broadcast rule as np.where\n",
      "Model: \"sequential\"\n",
      "_________________________________________________________________\n",
      "Layer (type)                 Output Shape              Param #   \n",
      "=================================================================\n",
      "dense (Dense)                (None, 8)                 112       \n",
      "_________________________________________________________________\n",
      "dropout (Dropout)            (None, 8)                 0         \n",
      "_________________________________________________________________\n",
      "dense_1 (Dense)              (None, 12)                108       \n",
      "_________________________________________________________________\n",
      "dropout_1 (Dropout)          (None, 12)                0         \n",
      "_________________________________________________________________\n",
      "dense_2 (Dense)              (None, 2)                 26        \n",
      "=================================================================\n",
      "Total params: 246\n",
      "Trainable params: 246\n",
      "Non-trainable params: 0\n",
      "_________________________________________________________________\n"
     ]
    }
   ],
   "source": [
    "model = make_model()\n",
    "model.summary()"
   ]
  },
  {
   "cell_type": "code",
   "execution_count": 13,
   "metadata": {},
   "outputs": [],
   "source": [
    "initial_weights = os.path.join(tempfile.mkdtemp(),'initial_weights')\n",
    "model.save_weights(initial_weights)"
   ]
  },
  {
   "cell_type": "code",
   "execution_count": 14,
   "metadata": {},
   "outputs": [
    {
     "data": {
      "text/plain": [
       "<tensorflow.python.training.tracking.util.CheckpointLoadStatus at 0x7f0505cf52d0>"
      ]
     },
     "execution_count": 14,
     "metadata": {},
     "output_type": "execute_result"
    }
   ],
   "source": [
    "model = make_model()\n",
    "model.load_weights(initial_weights)"
   ]
  },
  {
   "cell_type": "code",
   "execution_count": 15,
   "metadata": {
    "scrolled": true
   },
   "outputs": [
    {
     "name": "stdout",
     "output_type": "stream",
     "text": [
      "Train on 2850024 samples, validate on 950009 samples\n",
      "Epoch 1/10\n",
      "2850024/2850024 [==============================] - 11s 4us/sample - loss: 0.9518 - AUC: 0.8694 - accuracy: 3.1754e-04 - precision: 0.7062 - recall: 0.7218 - val_loss: 0.5523 - val_AUC: 0.9587 - val_accuracy: 0.0000e+00 - val_precision: 0.9154 - val_recall: 0.9104\n",
      "Epoch 2/10\n",
      "2850024/2850024 [==============================] - 9s 3us/sample - loss: 0.8739 - AUC: 0.7813 - accuracy: 1.1158e-04 - precision: 0.6199 - recall: 0.6180 - val_loss: 0.5901 - val_AUC: 0.9139 - val_accuracy: 0.0000e+00 - val_precision: 0.8362 - val_recall: 0.7527\n",
      "Epoch 3/10\n",
      "2850024/2850024 [==============================] - 9s 3us/sample - loss: 0.8226 - AUC: 0.6959 - accuracy: 3.3859e-05 - precision: 0.5404 - recall: 0.5216 - val_loss: 0.6199 - val_AUC: 0.8414 - val_accuracy: 0.0000e+00 - val_precision: 0.7336 - val_recall: 0.5874\n",
      "Epoch 4/10\n",
      "2850024/2850024 [==============================] - 9s 3us/sample - loss: 0.7905 - AUC: 0.6231 - accuracy: 1.6842e-05 - precision: 0.4770 - recall: 0.4545 - val_loss: 0.6427 - val_AUC: 0.7403 - val_accuracy: 0.0000e+00 - val_precision: 0.6349 - val_recall: 0.4760\n",
      "Epoch 5/10\n",
      "2850024/2850024 [==============================] - 9s 3us/sample - loss: 0.7630 - AUC: 0.5631 - accuracy: 7.0175e-06 - precision: 0.4284 - recall: 0.4037 - val_loss: 0.6591 - val_AUC: 0.6257 - val_accuracy: 0.0000e+00 - val_precision: 0.5482 - val_recall: 0.4029\n",
      "Epoch 6/10\n",
      "2850024/2850024 [==============================] - 9s 3us/sample - loss: 0.7443 - AUC: 0.5163 - accuracy: 3.3333e-06 - precision: 0.3867 - recall: 0.3609 - val_loss: 0.6729 - val_AUC: 0.4938 - val_accuracy: 0.0000e+00 - val_precision: 0.4387 - val_recall: 0.3260\n",
      "Epoch 7/10\n",
      "2850024/2850024 [==============================] - 9s 3us/sample - loss: 0.7313 - AUC: 0.4783 - accuracy: 8.7719e-07 - precision: 0.3563 - recall: 0.3307 - val_loss: 0.6837 - val_AUC: 0.3924 - val_accuracy: 0.0000e+00 - val_precision: 0.3285 - val_recall: 0.2501\n",
      "Epoch 8/10\n",
      "2850024/2850024 [==============================] - 9s 3us/sample - loss: 0.7205 - AUC: 0.4305 - accuracy: 1.2281e-06 - precision: 0.3202 - recall: 0.2947 - val_loss: 0.6972 - val_AUC: 0.2874 - val_accuracy: 0.0000e+00 - val_precision: 0.2072 - val_recall: 0.1739\n",
      "Epoch 9/10\n",
      "2850024/2850024 [==============================] - 9s 3us/sample - loss: 0.7122 - AUC: 0.3996 - accuracy: 7.0175e-07 - precision: 0.2948 - recall: 0.2700 - val_loss: 0.7028 - val_AUC: 0.2500 - val_accuracy: 0.0000e+00 - val_precision: 0.1676 - val_recall: 0.1461\n",
      "Epoch 10/10\n",
      "2850024/2850024 [==============================] - 9s 3us/sample - loss: 0.7075 - AUC: 0.3816 - accuracy: 5.2631e-07 - precision: 0.2814 - recall: 0.2591 - val_loss: 0.7058 - val_AUC: 0.2332 - val_accuracy: 0.0000e+00 - val_precision: 0.1531 - val_recall: 0.1390\n",
      "CPU times: user 6min 21s, sys: 3min 13s, total: 9min 34s\n",
      "Wall time: 1min 34s\n"
     ]
    }
   ],
   "source": [
    "%%time\n",
    "history=model.fit(X_train,\n",
    "                  Y_train,\n",
    "                  epochs = EPOCHS,\n",
    "                  shuffle = True,\n",
    "                  validation_data=val_data,\n",
    "                  #validation_freq=5,\n",
    "                  callbacks = [early_stopping],\n",
    "                  batch_size = BATCH_SIZE,\n",
    "                  class_weight=class_weight\n",
    "                 )"
   ]
  },
  {
   "cell_type": "code",
   "execution_count": 16,
   "metadata": {},
   "outputs": [],
   "source": [
    "model.save_weights(initial_weights)"
   ]
  },
  {
   "cell_type": "code",
   "execution_count": 17,
   "metadata": {
    "scrolled": false
   },
   "outputs": [
    {
     "data": {
      "image/png": "[encoded data removed]",
      "text/plain": [
       "<Figure size 432x288 with 4 Axes>"
      ]
     },
     "metadata": {
      "needs_background": "light"
     },
     "output_type": "display_data"
    }
   ],
   "source": [
    "plot_metrics(history)"
   ]
  },
  {
   "cell_type": "code",
   "execution_count": 18,
   "metadata": {
    "scrolled": true
   },
   "outputs": [
    {
     "name": "stdout",
     "output_type": "stream",
     "text": [
      "[[149717 778923]\n",
      " [  1356  20013]]\n"
     ]
    }
   ],
   "source": [
    "#compute predictions\n",
    "predictions = model.predict(X_test)\n",
    "\n",
    "y_pred = np.array([np.argmax(probas) for probas in predictions])\n",
    "y_test = np.array([np.argmax(label) for label in Y_test])\n",
    "\n",
    "classes = unique_labels(y_test, y_pred)\n",
    "class_names = unique_labels(Y)\n",
    "\n",
    "#not-fancy confusion matrix\n",
    "cm = confusion_matrix(y_test, y_pred, labels = classes)\n",
    "\n",
    "print(cm)"
   ]
  },
  {
   "cell_type": "code",
   "execution_count": 19,
   "metadata": {},
   "outputs": [
    {
     "name": "stdout",
     "output_type": "stream",
     "text": [
      "Confusion matrix, without normalization\n",
      "[[149717 778923]\n",
      " [  1356  20013]]\n"
     ]
    },
    {
     "data": {
      "text/plain": [
       "<matplotlib.axes._subplots.AxesSubplot at 0x7f0505b837d0>"
      ]
     },
     "execution_count": 19,
     "metadata": {},
     "output_type": "execute_result"
    },
    {
     "data": {
      "image/png": "[encoded data removed]",
      "text/plain": [
       "<Figure size 432x288 with 2 Axes>"
      ]
     },
     "metadata": {
      "needs_background": "light"
     },
     "output_type": "display_data"
    }
   ],
   "source": [
    "plot_confusion_matrix(y_test, y_pred, classes, class_names)"
   ]
  }
 ],
 "metadata": {
  "kernelspec": {
   "display_name": "Python 2",
   "language": "python",
   "name": "python2"
  },
  "language_info": {
   "codemirror_mode": {
    "name": "ipython",
    "version": 3
   },
   "file_extension": ".py",
   "mimetype": "text/x-python",
   "name": "python",
   "nbconvert_exporter": "python",
   "pygments_lexer": "ipython3",
   "version": "3.7.5"
  }
 },
 "nbformat": 4,
 "nbformat_minor": 2
}
