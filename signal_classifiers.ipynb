{
 "cells": [
  {
   "cell_type": "code",
   "execution_count": 1,
   "metadata": {},
   "outputs": [],
   "source": [
    "import numpy as np\n",
    "# pandas\n",
    "from pandas import read_csv\n",
    "# matplotlib\n",
    "import matplotlib.pyplot as plt\n",
    "%matplotlib inline\n",
    "#teras\n",
    "import tensorflow as tf\n",
    "from tensorflow.keras import regularizers\n",
    "from tensorflow.keras.models import Sequential\n",
    "from tensorflow.keras.layers import Dense, Dropout, BatchNormalization\n",
    "from tensorflow.keras.utils import to_categorical\n",
    "from tensorflow.keras.metrics import AUC, Accuracy, Precision, Recall\n",
    "from tensorflow.keras.optimizers import Adam\n",
    "from tensorflow.keras.callbacks import ModelCheckpoint\n",
    "\n",
    "\n",
    "# sklearn\n",
    "from sklearn.preprocessing import LabelEncoder\n",
    "from sklearn.pipeline import Pipeline\n",
    "from sklearn.model_selection import train_test_split\n",
    "from sklearn.model_selection import cross_val_score\n",
    "from sklearn.model_selection import KFold\n",
    "from sklearn.utils.multiclass import unique_labels\n",
    "from sklearn.metrics import confusion_matrix"
   ]
  },
  {
   "cell_type": "code",
   "execution_count": 3,
   "metadata": {},
   "outputs": [],
   "source": [
    "seed = 13\n",
    "np.random.seed(seed)\n"
   ]
  },
  {
   "cell_type": "code",
   "execution_count": 4,
   "metadata": {},
   "outputs": [
    {
     "name": "stdout",
     "output_type": "stream",
     "text": [
      "\n",
      "Which is the name of the dataset? analysis.csv\n",
      "\n",
      "Select first column: \n",
      "2\n",
      "\n",
      "Select last col: \n",
      "15\n"
     ]
    }
   ],
   "source": [
    "# load dataset\n",
    "dataset = input('\\nWhich is the name of the dataset? ')\n",
    "dataframe = read_csv(dataset, header=0)\n",
    "dataset = dataframe.values\n",
    "#dataset = np.random.shuffle(dataset)\n",
    "first_col = input(\"\\nSelect first column: \\n\") #2\n",
    "last_col = input('\\nSelect last col: \\n')          #15\n",
    "\n",
    "X = dataset[:,int(first_col):int(last_col)].astype(float)   # columns from 3rd to 14th into X\n",
    "Y = dataset[:,int(last_col)] #label column (15th) into Y "
   ]
  },
  {
   "cell_type": "code",
   "execution_count": 5,
   "metadata": {},
   "outputs": [],
   "source": [
    "#Encode class values as integers\n",
    "encoder = LabelEncoder()\n",
    "encoder.fit(Y)\n",
    "encoded_Y = encoder.transform(Y)\n",
    "\n",
    "#One-hot encoding\n",
    "transformed_Y = to_categorical(encoded_Y)"
   ]
  },
  {
   "cell_type": "code",
   "execution_count": 69,
   "metadata": {},
   "outputs": [
    {
     "name": "stdout",
     "output_type": "stream",
     "text": [
      "['background' 'signal']\n"
     ]
    }
   ],
   "source": [
    "a = unique_labels(Y)\n",
    "\n",
    "print(a)"
   ]
  },
  {
   "cell_type": "code",
   "execution_count": 6,
   "metadata": {
    "scrolled": true
   },
   "outputs": [
    {
     "name": "stdout",
     "output_type": "stream",
     "text": [
      "WARNING:tensorflow:From /home/william/.local/lib/python3.7/site-packages/tensorflow/python/ops/init_ops.py:1251: calling VarianceScaling.__init__ (from tensorflow.python.ops.init_ops) with dtype is deprecated and will be removed in a future version.\n",
      "Instructions for updating:\n",
      "Call initializer instance with the dtype argument instead of passing it to the constructor\n",
      "WARNING:tensorflow:From /home/william/.local/lib/python3.7/site-packages/tensorflow/python/ops/nn_impl.py:180: add_dispatch_support.<locals>.wrapper (from tensorflow.python.ops.array_ops) is deprecated and will be removed in a future version.\n",
      "Instructions for updating:\n",
      "Use tf.where in 2.0, which has the same broadcast rule as np.where\n"
     ]
    }
   ],
   "source": [
    "#Initialising NN\n",
    "model = Sequential()\n",
    "\n",
    "#First layer\n",
    "model.add(Dense(8, activation='relu', input_shape=(13,)))\n",
    "model.add(BatchNormalization())\n",
    "model.add(Dropout(0.25))\n",
    "\n",
    "#Second layer\n",
    "model.add(Dense(12, activation='relu'))\n",
    "model.add(BatchNormalization())\n",
    "model.add(Dropout(0.25))\n",
    "\n",
    "model.add(Dense(2, activation='sigmoid'))\n",
    "\n",
    "\n",
    "model.compile(loss='binary_crossentropy', \n",
    "              optimizer=Adam(lr= 0.0001),\n",
    "              metrics=[Precision(name = 'precision'),\n",
    "                       Recall(name = 'recall')\n",
    "                      ]\n",
    "             )\n",
    "\n",
    "X_train, X_test, Y_train, Y_test = train_test_split(X,\n",
    "                                                    transformed_Y,\n",
    "                                                    test_size=0.2,\n",
    "                                                    random_state=seed,\n",
    "                                                    shuffle = True)\n"
   ]
  },
  {
   "cell_type": "code",
   "execution_count": 17,
   "metadata": {},
   "outputs": [
    {
     "name": "stdout",
     "output_type": "stream",
     "text": [
      "Train on 3040026 samples, validate on 760007 samples\n",
      "Epoch 1/50\n",
      "3000000/3040026 [============================>.] - ETA: 0s - loss: 0.5784 - precision: 0.8251 - recall: 0.8480\n",
      "Epoch 00001: val_precision improved from -inf to 0.93786, saving model to model_weights.h5\n",
      "3040026/3040026 [==============================] - 2s 1us/sample - loss: 0.5785 - precision: 0.8250 - recall: 0.8471 - val_loss: 0.5132 - val_precision: 0.9379 - val_recall: 0.9670\n",
      "Epoch 2/50\n",
      "3000000/3040026 [============================>.] - ETA: 0s - loss: 0.5738 - precision: 0.8318 - recall: 0.8531\n",
      "Epoch 00002: val_precision improved from 0.93786 to 0.93974, saving model to model_weights.h5\n",
      "3040026/3040026 [==============================] - 2s 1us/sample - loss: 0.5738 - precision: 0.8318 - recall: 0.8530 - val_loss: 0.5096 - val_precision: 0.9397 - val_recall: 0.9678\n",
      "Epoch 3/50\n",
      "3000000/3040026 [============================>.] - ETA: 0s - loss: 0.5688 - precision: 0.8386 - recall: 0.8594\n",
      "Epoch 00003: val_precision improved from 0.93974 to 0.94169, saving model to model_weights.h5\n",
      "3040026/3040026 [==============================] - 2s 1us/sample - loss: 0.5688 - precision: 0.8386 - recall: 0.8594 - val_loss: 0.5058 - val_precision: 0.9417 - val_recall: 0.9686\n",
      "Epoch 4/50\n",
      "3000000/3040026 [============================>.] - ETA: 0s - loss: 0.5646 - precision: 0.8445 - recall: 0.8635\n",
      "Epoch 00004: val_precision improved from 0.94169 to 0.94372, saving model to model_weights.h5\n",
      "3040026/3040026 [==============================] - 2s 1us/sample - loss: 0.5646 - precision: 0.8445 - recall: 0.8636 - val_loss: 0.5021 - val_precision: 0.9437 - val_recall: 0.9694\n",
      "Epoch 5/50\n",
      "3000000/3040026 [============================>.] - ETA: 0s - loss: 0.5601 - precision: 0.8512 - recall: 0.8675\n",
      "Epoch 00005: val_precision improved from 0.94372 to 0.94575, saving model to model_weights.h5\n",
      "3040026/3040026 [==============================] - 2s 1us/sample - loss: 0.5600 - precision: 0.8512 - recall: 0.8675 - val_loss: 0.4984 - val_precision: 0.9458 - val_recall: 0.9701\n",
      "Epoch 6/50\n",
      "3000000/3040026 [============================>.] - ETA: 0s - loss: 0.5547 - precision: 0.8572 - recall: 0.8752\n",
      "Epoch 00006: val_precision improved from 0.94575 to 0.94786, saving model to model_weights.h5\n",
      "3040026/3040026 [==============================] - 2s 1us/sample - loss: 0.5547 - precision: 0.8572 - recall: 0.8753 - val_loss: 0.4945 - val_precision: 0.9479 - val_recall: 0.9708\n",
      "Epoch 7/50\n",
      "3000000/3040026 [============================>.] - ETA: 0s - loss: 0.5503 - precision: 0.8625 - recall: 0.8763\n",
      "Epoch 00007: val_precision improved from 0.94786 to 0.94993, saving model to model_weights.h5\n",
      "3040026/3040026 [==============================] - 2s 1us/sample - loss: 0.5503 - precision: 0.8625 - recall: 0.8764 - val_loss: 0.4906 - val_precision: 0.9499 - val_recall: 0.9714\n",
      "Epoch 8/50\n",
      "3000000/3040026 [============================>.] - ETA: 0s - loss: 0.5454 - precision: 0.8686 - recall: 0.8802\n",
      "Epoch 00008: val_precision improved from 0.94993 to 0.95196, saving model to model_weights.h5\n",
      "3040026/3040026 [==============================] - 2s 1us/sample - loss: 0.5453 - precision: 0.8686 - recall: 0.8803 - val_loss: 0.4868 - val_precision: 0.9520 - val_recall: 0.9719\n",
      "Epoch 9/50\n",
      "3000000/3040026 [============================>.] - ETA: 0s - loss: 0.5408 - precision: 0.8740 - recall: 0.8859\n",
      "Epoch 00009: val_precision improved from 0.95196 to 0.95405, saving model to model_weights.h5\n",
      "3040026/3040026 [==============================] - 2s 1us/sample - loss: 0.5408 - precision: 0.8740 - recall: 0.8859 - val_loss: 0.4829 - val_precision: 0.9540 - val_recall: 0.9724\n",
      "Epoch 10/50\n",
      "3000000/3040026 [============================>.] - ETA: 0s - loss: 0.5358 - precision: 0.8797 - recall: 0.8889\n",
      "Epoch 00010: val_precision improved from 0.95405 to 0.95622, saving model to model_weights.h5\n",
      "3040026/3040026 [==============================] - 2s 1us/sample - loss: 0.5358 - precision: 0.8797 - recall: 0.8889 - val_loss: 0.4791 - val_precision: 0.9562 - val_recall: 0.9728\n",
      "Epoch 11/50\n",
      "3000000/3040026 [============================>.] - ETA: 0s - loss: 0.5313 - precision: 0.8850 - recall: 0.8929\n",
      "Epoch 00011: val_precision improved from 0.95622 to 0.95832, saving model to model_weights.h5\n",
      "3040026/3040026 [==============================] - 2s 1us/sample - loss: 0.5312 - precision: 0.8850 - recall: 0.8930 - val_loss: 0.4752 - val_precision: 0.9583 - val_recall: 0.9732\n",
      "Epoch 12/50\n",
      "3000000/3040026 [============================>.] - ETA: 0s - loss: 0.5260 - precision: 0.8906 - recall: 0.8981\n",
      "Epoch 00012: val_precision improved from 0.95832 to 0.96039, saving model to model_weights.h5\n",
      "3040026/3040026 [==============================] - 2s 1us/sample - loss: 0.5260 - precision: 0.8906 - recall: 0.8981 - val_loss: 0.4713 - val_precision: 0.9604 - val_recall: 0.9737\n",
      "Epoch 13/50\n",
      "3000000/3040026 [============================>.] - ETA: 0s - loss: 0.5215 - precision: 0.8947 - recall: 0.9011\n",
      "Epoch 00013: val_precision improved from 0.96039 to 0.96225, saving model to model_weights.h5\n",
      "3040026/3040026 [==============================] - 2s 1us/sample - loss: 0.5214 - precision: 0.8948 - recall: 0.9011 - val_loss: 0.4673 - val_precision: 0.9623 - val_recall: 0.9741\n",
      "Epoch 14/50\n",
      "3000000/3040026 [============================>.] - ETA: 0s - loss: 0.5166 - precision: 0.8996 - recall: 0.9042\n",
      "Epoch 00014: val_precision improved from 0.96225 to 0.96422, saving model to model_weights.h5\n",
      "3040026/3040026 [==============================] - 2s 1us/sample - loss: 0.5166 - precision: 0.8996 - recall: 0.9042 - val_loss: 0.4633 - val_precision: 0.9642 - val_recall: 0.9745\n",
      "Epoch 15/50\n",
      "3000000/3040026 [============================>.] - ETA: 0s - loss: 0.5120 - precision: 0.9040 - recall: 0.9071\n",
      "Epoch 00015: val_precision improved from 0.96422 to 0.96607, saving model to model_weights.h5\n",
      "3040026/3040026 [==============================] - 2s 1us/sample - loss: 0.5119 - precision: 0.9040 - recall: 0.9072 - val_loss: 0.4593 - val_precision: 0.9661 - val_recall: 0.9748\n",
      "Epoch 16/50\n",
      "3000000/3040026 [============================>.] - ETA: 0s - loss: 0.5075 - precision: 0.9080 - recall: 0.9072\n",
      "Epoch 00016: val_precision improved from 0.96607 to 0.96789, saving model to model_weights.h5\n",
      "3040026/3040026 [==============================] - 2s 1us/sample - loss: 0.5075 - precision: 0.9080 - recall: 0.9070 - val_loss: 0.4553 - val_precision: 0.9679 - val_recall: 0.9751\n",
      "Epoch 17/50\n",
      "3000000/3040026 [============================>.] - ETA: 0s - loss: 0.5027 - precision: 0.9122 - recall: 0.9098\n",
      "Epoch 00017: val_precision improved from 0.96789 to 0.96960, saving model to model_weights.h5\n",
      "3040026/3040026 [==============================] - 2s 1us/sample - loss: 0.5027 - precision: 0.9122 - recall: 0.9098 - val_loss: 0.4513 - val_precision: 0.9696 - val_recall: 0.9753\n",
      "Epoch 18/50\n",
      "3000000/3040026 [============================>.] - ETA: 0s - loss: 0.4980 - precision: 0.9155 - recall: 0.9134\n",
      "Epoch 00018: val_precision improved from 0.96960 to 0.97124, saving model to model_weights.h5\n",
      "3040026/3040026 [==============================] - 2s 1us/sample - loss: 0.4979 - precision: 0.9155 - recall: 0.9135 - val_loss: 0.4474 - val_precision: 0.9712 - val_recall: 0.9755\n",
      "Epoch 19/50\n",
      "3000000/3040026 [============================>.] - ETA: 0s - loss: 0.4929 - precision: 0.9191 - recall: 0.9174\n",
      "Epoch 00019: val_precision improved from 0.97124 to 0.97266, saving model to model_weights.h5\n",
      "3040026/3040026 [==============================] - 3s 1us/sample - loss: 0.4930 - precision: 0.9191 - recall: 0.9171 - val_loss: 0.4434 - val_precision: 0.9727 - val_recall: 0.9757\n",
      "Epoch 20/50\n",
      "3000000/3040026 [============================>.] - ETA: 0s - loss: 0.4884 - precision: 0.9224 - recall: 0.9179\n",
      "Epoch 00020: val_precision improved from 0.97266 to 0.97388, saving model to model_weights.h5\n",
      "3040026/3040026 [==============================] - 2s 1us/sample - loss: 0.4884 - precision: 0.9224 - recall: 0.9179 - val_loss: 0.4394 - val_precision: 0.9739 - val_recall: 0.9759\n",
      "Epoch 21/50\n",
      "3000000/3040026 [============================>.] - ETA: 0s - loss: 0.4837 - precision: 0.9259 - recall: 0.9209\n",
      "Epoch 00021: val_precision improved from 0.97388 to 0.97501, saving model to model_weights.h5\n",
      "3040026/3040026 [==============================] - 2s 1us/sample - loss: 0.4837 - precision: 0.9259 - recall: 0.9210 - val_loss: 0.4353 - val_precision: 0.9750 - val_recall: 0.9760\n"
     ]
    },
    {
     "name": "stdout",
     "output_type": "stream",
     "text": [
      "Epoch 22/50\n",
      "3000000/3040026 [============================>.] - ETA: 0s - loss: 0.4789 - precision: 0.9286 - recall: 0.9238\n",
      "Epoch 00022: val_precision improved from 0.97501 to 0.97598, saving model to model_weights.h5\n",
      "3040026/3040026 [==============================] - 2s 1us/sample - loss: 0.4789 - precision: 0.9285 - recall: 0.9235 - val_loss: 0.4312 - val_precision: 0.9760 - val_recall: 0.9762\n",
      "Epoch 23/50\n",
      "3000000/3040026 [============================>.] - ETA: 0s - loss: 0.4742 - precision: 0.9314 - recall: 0.9248\n",
      "Epoch 00023: val_precision improved from 0.97598 to 0.97681, saving model to model_weights.h5\n",
      "3040026/3040026 [==============================] - 2s 1us/sample - loss: 0.4741 - precision: 0.9314 - recall: 0.9248 - val_loss: 0.4271 - val_precision: 0.9768 - val_recall: 0.9764\n",
      "Epoch 24/50\n",
      "3000000/3040026 [============================>.] - ETA: 0s - loss: 0.4696 - precision: 0.9340 - recall: 0.9256\n",
      "Epoch 00024: val_precision improved from 0.97681 to 0.97727, saving model to model_weights.h5\n",
      "3040026/3040026 [==============================] - 2s 1us/sample - loss: 0.4696 - precision: 0.9340 - recall: 0.9257 - val_loss: 0.4230 - val_precision: 0.9773 - val_recall: 0.9765\n",
      "Epoch 25/50\n",
      "3000000/3040026 [============================>.] - ETA: 0s - loss: 0.4647 - precision: 0.9367 - recall: 0.9284\n",
      "Epoch 00025: val_precision improved from 0.97727 to 0.97741, saving model to model_weights.h5\n",
      "3040026/3040026 [==============================] - 2s 1us/sample - loss: 0.4646 - precision: 0.9367 - recall: 0.9285 - val_loss: 0.4190 - val_precision: 0.9774 - val_recall: 0.9765\n",
      "Epoch 26/50\n",
      "3000000/3040026 [============================>.] - ETA: 0s - loss: 0.4599 - precision: 0.9390 - recall: 0.9307\n",
      "Epoch 00026: val_precision improved from 0.97741 to 0.97743, saving model to model_weights.h5\n",
      "3040026/3040026 [==============================] - 2s 1us/sample - loss: 0.4599 - precision: 0.9390 - recall: 0.9305 - val_loss: 0.4150 - val_precision: 0.9774 - val_recall: 0.9766\n",
      "Epoch 27/50\n",
      "3000000/3040026 [============================>.] - ETA: 0s - loss: 0.4553 - precision: 0.9407 - recall: 0.9323\n",
      "Epoch 00027: val_precision improved from 0.97743 to 0.97743, saving model to model_weights.h5\n",
      "3040026/3040026 [==============================] - 2s 1us/sample - loss: 0.4553 - precision: 0.9407 - recall: 0.9323 - val_loss: 0.4109 - val_precision: 0.9774 - val_recall: 0.9767\n",
      "Epoch 28/50\n",
      "3000000/3040026 [============================>.] - ETA: 0s - loss: 0.4507 - precision: 0.9429 - recall: 0.9330\n",
      "Epoch 00028: val_precision improved from 0.97743 to 0.97743, saving model to model_weights.h5\n",
      "3040026/3040026 [==============================] - 2s 1us/sample - loss: 0.4507 - precision: 0.9428 - recall: 0.9329 - val_loss: 0.4068 - val_precision: 0.9774 - val_recall: 0.9768\n",
      "Epoch 29/50\n",
      "3000000/3040026 [============================>.] - ETA: 0s - loss: 0.4458 - precision: 0.9446 - recall: 0.9355\n",
      "Epoch 00029: val_precision did not improve from 0.97743\n",
      "3040026/3040026 [==============================] - 2s 1us/sample - loss: 0.4457 - precision: 0.9447 - recall: 0.9355 - val_loss: 0.4028 - val_precision: 0.9774 - val_recall: 0.9768\n",
      "Epoch 30/50\n",
      "3000000/3040026 [============================>.] - ETA: 0s - loss: 0.4417 - precision: 0.9462 - recall: 0.9356\n",
      "Epoch 00030: val_precision did not improve from 0.97743\n",
      "3040026/3040026 [==============================] - 2s 1us/sample - loss: 0.4418 - precision: 0.9462 - recall: 0.9352 - val_loss: 0.3988 - val_precision: 0.9774 - val_recall: 0.9769\n",
      "Epoch 31/50\n",
      "3000000/3040026 [============================>.] - ETA: 0s - loss: 0.4370 - precision: 0.9478 - recall: 0.9373\n",
      "Epoch 00031: val_precision did not improve from 0.97743\n",
      "3040026/3040026 [==============================] - 2s 1us/sample - loss: 0.4369 - precision: 0.9478 - recall: 0.9373 - val_loss: 0.3948 - val_precision: 0.9774 - val_recall: 0.9769\n",
      "Epoch 32/50\n",
      "3000000/3040026 [============================>.] - ETA: 0s - loss: 0.4325 - precision: 0.9491 - recall: 0.9392\n",
      "Epoch 00032: val_precision did not improve from 0.97743\n",
      "3040026/3040026 [==============================] - 2s 1us/sample - loss: 0.4325 - precision: 0.9491 - recall: 0.9392 - val_loss: 0.3908 - val_precision: 0.9774 - val_recall: 0.9770\n",
      "Epoch 33/50\n",
      "3000000/3040026 [============================>.] - ETA: 0s - loss: 0.4278 - precision: 0.9509 - recall: 0.9404\n",
      "Epoch 00033: val_precision did not improve from 0.97743\n",
      "3040026/3040026 [==============================] - 2s 1us/sample - loss: 0.4278 - precision: 0.9509 - recall: 0.9404 - val_loss: 0.3869 - val_precision: 0.9774 - val_recall: 0.9770\n",
      "Epoch 34/50\n",
      "3000000/3040026 [============================>.] - ETA: 0s - loss: 0.4231 - precision: 0.9522 - recall: 0.9420\n",
      "Epoch 00034: val_precision did not improve from 0.97743\n",
      "3040026/3040026 [==============================] - 2s 1us/sample - loss: 0.4231 - precision: 0.9522 - recall: 0.9420 - val_loss: 0.3829 - val_precision: 0.9774 - val_recall: 0.9770\n",
      "Epoch 35/50\n",
      "3000000/3040026 [============================>.] - ETA: 0s - loss: 0.4187 - precision: 0.9533 - recall: 0.9427\n",
      "Epoch 00035: val_precision did not improve from 0.97743\n",
      "3040026/3040026 [==============================] - 2s 1us/sample - loss: 0.4187 - precision: 0.9533 - recall: 0.9427 - val_loss: 0.3789 - val_precision: 0.9774 - val_recall: 0.9770\n",
      "Epoch 36/50\n",
      "3000000/3040026 [============================>.] - ETA: 0s - loss: 0.4143 - precision: 0.9545 - recall: 0.9441\n",
      "Epoch 00036: val_precision did not improve from 0.97743\n",
      "3040026/3040026 [==============================] - 2s 1us/sample - loss: 0.4143 - precision: 0.9545 - recall: 0.9441 - val_loss: 0.3749 - val_precision: 0.9774 - val_recall: 0.9770\n",
      "Epoch 37/50\n",
      "3000000/3040026 [============================>.] - ETA: 0s - loss: 0.4100 - precision: 0.9556 - recall: 0.9447\n",
      "Epoch 00037: val_precision did not improve from 0.97743\n",
      "3040026/3040026 [==============================] - 2s 1us/sample - loss: 0.4100 - precision: 0.9557 - recall: 0.9448 - val_loss: 0.3709 - val_precision: 0.9774 - val_recall: 0.9771\n",
      "Epoch 38/50\n",
      "3000000/3040026 [============================>.] - ETA: 0s - loss: 0.4057 - precision: 0.9567 - recall: 0.9457\n",
      "Epoch 00038: val_precision did not improve from 0.97743\n",
      "3040026/3040026 [==============================] - 2s 1us/sample - loss: 0.4057 - precision: 0.9567 - recall: 0.9457 - val_loss: 0.3669 - val_precision: 0.9774 - val_recall: 0.9771\n",
      "Epoch 39/50\n",
      "3000000/3040026 [============================>.] - ETA: 0s - loss: 0.4011 - precision: 0.9578 - recall: 0.9471\n",
      "Epoch 00039: val_precision did not improve from 0.97743\n",
      "3040026/3040026 [==============================] - 2s 1us/sample - loss: 0.4012 - precision: 0.9578 - recall: 0.9470 - val_loss: 0.3630 - val_precision: 0.9774 - val_recall: 0.9771\n",
      "Epoch 40/50\n",
      "3000000/3040026 [============================>.] - ETA: 0s - loss: 0.3970 - precision: 0.9586 - recall: 0.9481\n",
      "Epoch 00040: val_precision did not improve from 0.97743\n",
      "3040026/3040026 [==============================] - 2s 1us/sample - loss: 0.3969 - precision: 0.9586 - recall: 0.9481 - val_loss: 0.3593 - val_precision: 0.9774 - val_recall: 0.9771\n",
      "Epoch 41/50\n",
      "3000000/3040026 [============================>.] - ETA: 0s - loss: 0.3933 - precision: 0.9592 - recall: 0.9464\n",
      "Epoch 00041: val_precision did not improve from 0.97743\n",
      "3040026/3040026 [==============================] - 2s 1us/sample - loss: 0.3933 - precision: 0.9592 - recall: 0.9464 - val_loss: 0.3556 - val_precision: 0.9774 - val_recall: 0.9771\n",
      "Epoch 42/50\n",
      "3000000/3040026 [============================>.] - ETA: 0s - loss: 0.3885 - precision: 0.9602 - recall: 0.9496\n",
      "Epoch 00042: val_precision did not improve from 0.97743\n",
      "3040026/3040026 [==============================] - 2s 1us/sample - loss: 0.3885 - precision: 0.9602 - recall: 0.9496 - val_loss: 0.3518 - val_precision: 0.9774 - val_recall: 0.9772\n",
      "Epoch 43/50\n",
      "3000000/3040026 [============================>.] - ETA: 0s - loss: 0.3839 - precision: 0.9611 - recall: 0.9507\n",
      "Epoch 00043: val_precision did not improve from 0.97743\n",
      "3040026/3040026 [==============================] - 2s 1us/sample - loss: 0.3839 - precision: 0.9611 - recall: 0.9505 - val_loss: 0.3480 - val_precision: 0.9774 - val_recall: 0.9772\n",
      "Epoch 44/50\n"
     ]
    },
    {
     "name": "stdout",
     "output_type": "stream",
     "text": [
      "3000000/3040026 [============================>.] - ETA: 0s - loss: 0.3801 - precision: 0.9616 - recall: 0.9510\n",
      "Epoch 00044: val_precision did not improve from 0.97743\n",
      "3040026/3040026 [==============================] - 2s 1us/sample - loss: 0.3801 - precision: 0.9617 - recall: 0.9510 - val_loss: 0.3443 - val_precision: 0.9774 - val_recall: 0.9772\n",
      "Epoch 45/50\n",
      "3000000/3040026 [============================>.] - ETA: 0s - loss: 0.3759 - precision: 0.9623 - recall: 0.9513\n",
      "Epoch 00045: val_precision did not improve from 0.97743\n",
      "3040026/3040026 [==============================] - 2s 1us/sample - loss: 0.3759 - precision: 0.9623 - recall: 0.9513 - val_loss: 0.3406 - val_precision: 0.9774 - val_recall: 0.9772\n",
      "Epoch 46/50\n",
      "3000000/3040026 [============================>.] - ETA: 0s - loss: 0.3716 - precision: 0.9631 - recall: 0.9531\n",
      "Epoch 00046: val_precision did not improve from 0.97743\n",
      "3040026/3040026 [==============================] - 2s 1us/sample - loss: 0.3716 - precision: 0.9631 - recall: 0.9531 - val_loss: 0.3371 - val_precision: 0.9774 - val_recall: 0.9772\n",
      "Epoch 47/50\n",
      "3000000/3040026 [============================>.] - ETA: 0s - loss: 0.3675 - precision: 0.9636 - recall: 0.9536\n",
      "Epoch 00047: val_precision did not improve from 0.97743\n",
      "3040026/3040026 [==============================] - 2s 1us/sample - loss: 0.3674 - precision: 0.9636 - recall: 0.9535 - val_loss: 0.3334 - val_precision: 0.9774 - val_recall: 0.9772\n",
      "Epoch 48/50\n",
      "3000000/3040026 [============================>.] - ETA: 0s - loss: 0.3635 - precision: 0.9641 - recall: 0.9541\n",
      "Epoch 00048: val_precision did not improve from 0.97743\n",
      "3040026/3040026 [==============================] - 2s 1us/sample - loss: 0.3635 - precision: 0.9642 - recall: 0.9541 - val_loss: 0.3298 - val_precision: 0.9774 - val_recall: 0.9772\n",
      "Epoch 49/50\n",
      "3000000/3040026 [============================>.] - ETA: 0s - loss: 0.3599 - precision: 0.9646 - recall: 0.9545\n",
      "Epoch 00049: val_precision did not improve from 0.97743\n",
      "3040026/3040026 [==============================] - 2s 1us/sample - loss: 0.3599 - precision: 0.9646 - recall: 0.9545 - val_loss: 0.3262 - val_precision: 0.9774 - val_recall: 0.9772\n",
      "Epoch 50/50\n",
      "3000000/3040026 [============================>.] - ETA: 0s - loss: 0.3555 - precision: 0.9652 - recall: 0.9557\n",
      "Epoch 00050: val_precision did not improve from 0.97743\n",
      "3040026/3040026 [==============================] - 2s 1us/sample - loss: 0.3555 - precision: 0.9652 - recall: 0.9557 - val_loss: 0.3226 - val_precision: 0.9774 - val_recall: 0.9772\n"
     ]
    }
   ],
   "source": [
    "epochs = 50\n",
    "val_data = (X_test,Y_test)\n",
    "checkpoint = ModelCheckpoint(\"model_weights.h5\", monitor='val_precision', verbose=1, save_best_only=True, mode='max')\n",
    "callbacks_list = [checkpoint]\n",
    "\n",
    "history=model.fit(X_train,\n",
    "                  Y_train,\n",
    "                  epochs=epochs,\n",
    "                  shuffle = True,\n",
    "                  validation_data=val_data,\n",
    "                  callbacks = callbacks_list,\n",
    "                  batch_size=150000)"
   ]
  },
  {
   "cell_type": "code",
   "execution_count": 18,
   "metadata": {},
   "outputs": [],
   "source": [
    "model_json = model.to_json()\n",
    "with open(\"model.json\", \"w\") as json_file:\n",
    "    json_file.write(model_json)"
   ]
  },
  {
   "cell_type": "code",
   "execution_count": 19,
   "metadata": {
    "scrolled": true
   },
   "outputs": [],
   "source": [
    "#compute predictions\n",
    "predictions = model.predict(X_test)\n",
    "\n",
    "y_pred = np.array([np.argmax(probas) for probas in predictions])\n",
    "y_test = np.array([np.argmax(label) for label in Y_test])\n",
    "\n",
    "\n"
   ]
  },
  {
   "cell_type": "code",
   "execution_count": 46,
   "metadata": {
    "scrolled": true
   },
   "outputs": [
    {
     "data": {
      "text/plain": [
       "array([[     2,  17178],\n",
       "       [    81, 742746]])"
      ]
     },
     "execution_count": 46,
     "metadata": {},
     "output_type": "execute_result"
    }
   ],
   "source": [
    "#confusion matrix\n",
    "cm = confusion_matrix(y_test, y_pred, labels = [1, 0])\n",
    "cm"
   ]
  },
  {
   "cell_type": "code",
   "execution_count": 71,
   "metadata": {},
   "outputs": [],
   "source": [
    "classes = unique_labels(y_test, y_pred)\n",
    "class_names = unique_labels(Y)"
   ]
  },
  {
   "cell_type": "code",
   "execution_count": 85,
   "metadata": {},
   "outputs": [],
   "source": [
    "def plot_confusion_matrix(y_true, y_pred, classes,\n",
    "                          class_names = None,\n",
    "                          normalize=False,\n",
    "                          title=None,\n",
    "                          cmap=plt.cm.Greens):\n",
    "    \"\"\"\n",
    "    This function prints and plots the confusion matrix.\n",
    "    Normalization can be applied by setting `normalize=True`.\n",
    "    \"\"\"\n",
    "    if not title:\n",
    "        if normalize:\n",
    "            title = 'Normalized confusion matrix'\n",
    "        else:\n",
    "            title = 'Confusion matrix, without normalization'\n",
    "\n",
    "    # Compute confusion matrix\n",
    "    cm = confusion_matrix(y_true, y_pred)\n",
    "    # Only use the labels that appear in the data\n",
    "    classes = classes[unique_labels(y_true, y_pred)]\n",
    "    if normalize:\n",
    "        cm = cm.astype('float') / cm.sum(axis=1)[:, np.newaxis]\n",
    "        print(\"Normalized confusion matrix\")\n",
    "    else:\n",
    "        print('Confusion matrix, without normalization')\n",
    "\n",
    "    print(cm)\n",
    "\n",
    "    fig, ax = plt.subplots()\n",
    "    im = ax.imshow(cm, interpolation='nearest', cmap=cmap)\n",
    "    ax.figure.colorbar(im, ax=ax)\n",
    "    # We want to show all ticks...\n",
    "    if class_names is None:\n",
    "        x_labels = y_labels = classes\n",
    "    else:\n",
    "        x_labels = y_labels = class_names\n",
    "    ax.set(xticks=np.arange(cm.shape[1]),\n",
    "           yticks=np.arange(cm.shape[0]),\n",
    "           # ... and label them with the respective list entries\n",
    "           xticklabels=x_labels, yticklabels=y_labels,\n",
    "           title=title,\n",
    "           ylabel='True label',\n",
    "           xlabel='Predicted label')\n",
    "\n",
    "    # Rotate the tick labels and set their alignment.\n",
    "    plt.setp(ax.get_xticklabels(), rotation=45, ha=\"right\",\n",
    "             rotation_mode=\"anchor\")\n",
    "\n",
    "    # Loop over data dimensions and create text annotations.\n",
    "    fmt = '.2f' if normalize else 'd'\n",
    "    thresh = cm.max() / 2.\n",
    "    for i in range(cm.shape[0]):\n",
    "        for j in range(cm.shape[1]):\n",
    "            ax.text(j, i, format(cm[i, j], fmt),\n",
    "                    ha=\"center\", va=\"center\",\n",
    "                    color=\"white\" if cm[i, j] > thresh else \"black\")\n",
    "    fig.tight_layout()\n",
    "    return ax"
   ]
  },
  {
   "cell_type": "code",
   "execution_count": 86,
   "metadata": {},
   "outputs": [
    {
     "name": "stdout",
     "output_type": "stream",
     "text": [
      "Confusion matrix, without normalization\n",
      "[[742746     81]\n",
      " [ 17178      2]]\n"
     ]
    },
    {
     "data": {
      "text/plain": [
       "<matplotlib.axes._subplots.AxesSubplot at 0x7f49aca8d898>"
      ]
     },
     "execution_count": 86,
     "metadata": {},
     "output_type": "execute_result"
    },
    {
     "data": {
      "image/png": "[encoded data removed]",
      "text/plain": [
       "<Figure size 432x288 with 2 Axes>"
      ]
     },
     "metadata": {
      "needs_background": "light"
     },
     "output_type": "display_data"
    }
   ],
   "source": [
    "plot_confusion_matrix(y_test, y_pred, classes, class_names)"
   ]
  },
  {
   "cell_type": "code",
   "execution_count": 14,
   "metadata": {
    "scrolled": true
   },
   "outputs": [
    {
     "data": {
      "image/png": "[encoded data removed]",
      "text/plain": [
       "<Figure size 432x288 with 1 Axes>"
      ]
     },
     "metadata": {
      "needs_background": "light"
     },
     "output_type": "display_data"
    }
   ],
   "source": [
    "loss = history.history['loss']\n",
    "val_loss = history.history['val_loss']\n",
    "epochs = range(1, len(loss) + 1)\n",
    "plt.plot(epochs, loss, 'bo', label='Training loss')\n",
    "plt.plot(epochs, val_loss, 'r', label='Validation loss')\n",
    "plt.title('Training and validation loss')\n",
    "plt.xlabel('Epochs')\n",
    "plt.ylabel('Loss')\n",
    "plt.legend()\n",
    "plt.show()"
   ]
  },
  {
   "cell_type": "code",
   "execution_count": 15,
   "metadata": {},
   "outputs": [
    {
     "data": {
      "image/png": "[encoded data removed]",
      "text/plain": [
       "<Figure size 432x288 with 1 Axes>"
      ]
     },
     "metadata": {
      "needs_background": "light"
     },
     "output_type": "display_data"
    }
   ],
   "source": [
    "plt.clf()  #Clears the figure\n",
    "prec = history.history['precision']\n",
    "val_prec = history.history['val_precision']\n",
    "plt.plot(epochs, prec, 'bo', label='Training precision')\n",
    "plt.plot(epochs, val_prec, 'r', label='Validation precision')\n",
    "plt.title('Training and validation precision')\n",
    "plt.xlabel('Epochs')\n",
    "plt.ylabel('Loss')\n",
    "plt.legend()\n",
    "plt.show()"
   ]
  },
  {
   "cell_type": "code",
   "execution_count": 16,
   "metadata": {},
   "outputs": [
    {
     "data": {
      "image/png": "[encoded data removed]",
      "text/plain": [
       "<Figure size 432x288 with 1 Axes>"
      ]
     },
     "metadata": {
      "needs_background": "light"
     },
     "output_type": "display_data"
    }
   ],
   "source": [
    "plt.clf()  #Clears the figure\n",
    "rec = history.history['recall']\n",
    "val_rec = history.history['val_recall']\n",
    "plt.plot(epochs, rec, 'bo', label='Training recall')\n",
    "plt.plot(epochs, val_rec, 'r', label='Validation recall')\n",
    "plt.title('Training and validation recall')\n",
    "plt.xlabel('Epochs')\n",
    "plt.ylabel('Loss')\n",
    "plt.legend()\n",
    "plt.show()"
   ]
  },
  {
   "cell_type": "code",
   "execution_count": null,
   "metadata": {},
   "outputs": [],
   "source": []
  },
  {
   "cell_type": "code",
   "execution_count": null,
   "metadata": {},
   "outputs": [],
   "source": []
  }
 ],
 "metadata": {
  "kernelspec": {
   "display_name": "Python 2",
   "language": "python",
   "name": "python2"
  },
  "language_info": {
   "codemirror_mode": {
    "name": "ipython",
    "version": 3
   },
   "file_extension": ".py",
   "mimetype": "text/x-python",
   "name": "python",
   "nbconvert_exporter": "python",
   "pygments_lexer": "ipython3",
   "version": "3.7.3"
  }
 },
 "nbformat": 4,
 "nbformat_minor": 2
}
